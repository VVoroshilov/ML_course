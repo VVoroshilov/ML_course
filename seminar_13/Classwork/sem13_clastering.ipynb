{
 "cells": [
  {
   "cell_type": "markdown",
   "metadata": {
    "id": "p62jUuP4ONfJ"
   },
   "source": [
    "# Семинар 13: Обучение без учителя.\n",
    "\n",
    "В задачах обучения с учителем требовалось восстановить отображение $f: X \\rightarrow Y$ из множества $X$ в $Y$, причем на некотором конечном подмножестве $\\hat{X}$ это отображение было задано в виде ответов $\\hat{Y}$.\n",
    "\n",
    "В отличие от обучения с учителем, в задачах обучения без учителя эти правильные ответы отсутствуют. В таких задачах требуется понять, как как связаны между собой объекты из нашей выборки $X$.\n",
    "\n",
    "## Кластеризация.\n",
    "\n",
    "Одним из самых часто применяемых методов обучения без учителя является _кластеризация_. Задача кластеризации состоит в разбиении множества исходных объектов на подмножества близких по свойствам объектов. Понятие _близости_ формализуется при помощи задания _метрики_, или расстояния между объектами $\\rho\\left(x_i,x_j\\right)$. Мы познакомимся с двумя алгоритмами кластеризации.\n",
    "\n",
    "Метрика — функция, задающая расстояние в метрическом пространстве. Как мы помним из курса линейной алгебры, она должна удовлетворять трём аксиомам:\n",
    "\n",
    "1. $\\rho(x, y) \\geq 0, \\rho(x, y) = 0 \\Leftrightarrow x = y;$\n",
    "2. $\\rho(x, y) = \\rho (y, x);$\n",
    "3. $\\rho(x, y) \\leq \\rho(x, z) + \\rho(z, y).$\n",
    "\n",
    "\n",
    "\n",
    "### Метод k-means.\n",
    "\n",
    "Познакомимся с одним из наиболее известных алгоритмов кластеризации - _k-means_ или _k средних_. \n",
    "\n",
    "Алгоритм метода выглядит примерно следующим образом:\n",
    "\n",
    "1. Случайным образом выбираются k точек $x_k \\in X$, в дальнейшем будем называть их центрами кластеров (центроидами);\n",
    "\n",
    "2. Для каждой точки $x_i \\in X$ вычисляется $\\rho\\left(x_i,x_k\\right)$, после чего ей ставится в соответствие  ближайший к ней центр кластера. Совокупность точек, соответствующих центру $x_k$ называется кластером;\n",
    "\n",
    "3. Вычисляются средние взвешенные точек (центры масс), принадлежащих к определённому кластеру. Эти значения становятся новыми центрами кластеров;\n",
    "\n",
    "4. Шаги 2 и 3 повторяются до тех пор, пока пересчёт центров кластеров будет существенно менять местоположение кластеров. Как только высчитанные центры кластеров совпадут с предыдущими, алгоритм будет окончен.\n",
    "\n",
    "Следует иметь в виду, что этот алгоритм хорошо работает только для нормальных выборок, причем кластеры не должны существенно перекрываться.\n",
    "\n",
    "Недостатком алгоритма является то, что число кластеров в нем - гиперпараметр, т.е. должно быть задано изначально.\n",
    "\n",
    "\n",
    "Реализуем алгоритм KMeans методами пакета sklearn."
   ]
  },
  {
   "cell_type": "markdown",
   "metadata": {},
   "source": [
    "Загрузим необходимые библиотеки:"
   ]
  },
  {
   "cell_type": "code",
   "execution_count": 66,
   "metadata": {
    "id": "F9QU6VLLONfK"
   },
   "outputs": [],
   "source": [
    "from sklearn.cluster import KMeans\n",
    "import numpy as np\n",
    "import pandas as pd\n",
    "import matplotlib.pyplot as plt"
   ]
  },
  {
   "cell_type": "markdown",
   "metadata": {},
   "source": [
    "Сформируем данные при помощи подпакета make_blobs. Он создает данные, распределенные по нормальному закону. По умолчанию число признаков = 2, кластеров 3. Более подробно см. [документацию](https://scikit-learn.org/stable/modules/generated/sklearn.datasets.make_blobs.html)."
   ]
  },
  {
   "cell_type": "code",
   "execution_count": 107,
   "metadata": {},
   "outputs": [],
   "source": [
    "from sklearn.datasets import make_blobs\n",
    "X,y = make_blobs(n_samples=150)#n_samples - задаёт количество элементов в датасете"
   ]
  },
  {
   "cell_type": "markdown",
   "metadata": {},
   "source": [
    "Формируем датафрейм из данных X."
   ]
  },
  {
   "cell_type": "code",
   "execution_count": 108,
   "metadata": {},
   "outputs": [
    {
     "data": {
      "text/html": [
       "<div>\n",
       "<style scoped>\n",
       "    .dataframe tbody tr th:only-of-type {\n",
       "        vertical-align: middle;\n",
       "    }\n",
       "\n",
       "    .dataframe tbody tr th {\n",
       "        vertical-align: top;\n",
       "    }\n",
       "\n",
       "    .dataframe thead th {\n",
       "        text-align: right;\n",
       "    }\n",
       "</style>\n",
       "<table border=\"1\" class=\"dataframe\">\n",
       "  <thead>\n",
       "    <tr style=\"text-align: right;\">\n",
       "      <th></th>\n",
       "      <th>x1</th>\n",
       "      <th>x2</th>\n",
       "    </tr>\n",
       "  </thead>\n",
       "  <tbody>\n",
       "    <tr>\n",
       "      <th>0</th>\n",
       "      <td>1.986391</td>\n",
       "      <td>0.851084</td>\n",
       "    </tr>\n",
       "    <tr>\n",
       "      <th>1</th>\n",
       "      <td>3.138602</td>\n",
       "      <td>0.166583</td>\n",
       "    </tr>\n",
       "    <tr>\n",
       "      <th>2</th>\n",
       "      <td>0.191787</td>\n",
       "      <td>-0.847695</td>\n",
       "    </tr>\n",
       "    <tr>\n",
       "      <th>3</th>\n",
       "      <td>1.810305</td>\n",
       "      <td>-0.908130</td>\n",
       "    </tr>\n",
       "    <tr>\n",
       "      <th>4</th>\n",
       "      <td>-5.561773</td>\n",
       "      <td>-9.748513</td>\n",
       "    </tr>\n",
       "  </tbody>\n",
       "</table>\n",
       "</div>"
      ],
      "text/plain": [
       "         x1        x2\n",
       "0  1.986391  0.851084\n",
       "1  3.138602  0.166583\n",
       "2  0.191787 -0.847695\n",
       "3  1.810305 -0.908130\n",
       "4 -5.561773 -9.748513"
      ]
     },
     "execution_count": 108,
     "metadata": {},
     "output_type": "execute_result"
    }
   ],
   "source": [
    "df = pd.DataFrame({'x1': X[:, 0], 'x2': X[:, 1]},\n",
    "                      columns=['x1', 'x2'])\n",
    "df.head()"
   ]
  },
  {
   "cell_type": "markdown",
   "metadata": {},
   "source": [
    "Задача заключается в разбиении этих данных на кластеры."
   ]
  },
  {
   "cell_type": "markdown",
   "metadata": {},
   "source": [
    "Для начала визуализируем данные:"
   ]
  },
  {
   "cell_type": "code",
   "execution_count": 109,
   "metadata": {
    "id": "HWopWVdpONfN",
    "outputId": "d5ea8794-5b56-44ce-eaed-0ed49ac221ff"
   },
   "outputs": [
    {
     "data": {
      "image/png": "[encoded data removed]",
      "text/plain": [
       "<Figure size 432x288 with 1 Axes>"
      ]
     },
     "metadata": {
      "needs_background": "light"
     },
     "output_type": "display_data"
    }
   ],
   "source": [
    "plt.scatter(df['x1'], df['x2'])\n",
    "\n",
    "plt.xlabel('x1')\n",
    "plt.ylabel('x2')\n",
    "\n",
    "plt.title('Train data')\n",
    "\n",
    "plt.show()"
   ]
  },
  {
   "cell_type": "markdown",
   "metadata": {},
   "source": [
    "Видим, что число кластеров - три."
   ]
  },
  {
   "cell_type": "markdown",
   "metadata": {},
   "source": [
    "Создадим объект k средних с тремя кластерами:"
   ]
  },
  {
   "cell_type": "code",
   "execution_count": 110,
   "metadata": {
    "id": "QuNQtlOkONfL"
   },
   "outputs": [],
   "source": [
    "model = KMeans(n_clusters=3)"
   ]
  },
  {
   "cell_type": "markdown",
   "metadata": {
    "id": "Us_CA4aGONfN"
   },
   "source": [
    "Прежде чем приступить к кластеризации, отмасштабируем данные с помощью `MinMaxScaler`:"
   ]
  },
  {
   "cell_type": "code",
   "execution_count": 111,
   "metadata": {},
   "outputs": [],
   "source": [
    "from sklearn.preprocessing import MinMaxScaler\n",
    "scaler = MinMaxScaler()\n",
    "train_scaled = pd.DataFrame(scaler.fit_transform(df), columns=['x1', 'x2'])"
   ]
  },
  {
   "cell_type": "markdown",
   "metadata": {},
   "source": [
    "Снова визуализируем данные:"
   ]
  },
  {
   "cell_type": "code",
   "execution_count": 112,
   "metadata": {
    "id": "fqLX3t5VONfO",
    "outputId": "01cace59-8dbd-44bb-f918-8538bb02abe3"
   },
   "outputs": [
    {
     "data": {
      "image/png": "[encoded data removed]",
      "text/plain": [
       "<Figure size 432x288 with 1 Axes>"
      ]
     },
     "metadata": {
      "needs_background": "light"
     },
     "output_type": "display_data"
    }
   ],
   "source": [
    "plt.scatter(train_scaled['x1'], train_scaled['x2'])\n",
    "plt.xlabel('x1')\n",
    "plt.ylabel('x2')\n",
    "plt.title('Train data (scaled)')\n",
    "plt.show()"
   ]
  },
  {
   "cell_type": "markdown",
   "metadata": {
    "id": "IiRCWIdRONfP"
   },
   "source": [
    "Перейдём к кластеризации. С помощью метода `.fit_predict` можно обучить модель и предсказать метки кластеров на входных данных:"
   ]
  },
  {
   "cell_type": "code",
   "execution_count": 113,
   "metadata": {
    "id": "dT1-Q0zfONfP",
    "outputId": "13cb9d1e-a492-4891-e0e0-623476ebace5"
   },
   "outputs": [
    {
     "name": "stdout",
     "output_type": "stream",
     "text": [
      "[2 2 2 2 1 0 1 0 0 0 0 1 2 0 2 1 1 1 2 0 0 2 0 1 1 1 0 2 1 0 1 2 0 0 0 1 0\n",
      " 1 2 2 2 0 1 0 1 0 0 2 0 2 1 1 1 2 2 1 2 1 1 1 1 2 1 0 1 0 2 0 2 1 1 2 2 2\n",
      " 2 0 2 1 0 0 0 2 1 2 2 0 1 1 1 1 1 2 0 1 0 0 0 0 2 2 2 2 2 0 2 0 1 1 2 1 0\n",
      " 1 2 0 2 2 0 0 0 1 0 1 1 0 2 2 2 1 0 1 1 1 0 2 2 2 0 0 1 2 2 1 1 1 2 0 0 0\n",
      " 2 0]\n"
     ]
    }
   ],
   "source": [
    "train_labels = model.fit_predict(train_scaled)\n",
    "\n",
    "print(train_labels)"
   ]
  },
  {
   "cell_type": "markdown",
   "metadata": {
    "id": "jFf3PWYQONfQ"
   },
   "source": [
    "С помощью атрибута `.cluster_centers_` можно получить получившиеся в результате работы алгоритма центры кластеров. Чтобы изобразить эти центры на плоскости, воспользуемся методом `scaler.inverse_transform`, который преобразует отмасштабированные значения обратно в сырые. Центры на графике пометим красными ромбами. Кроме того, покрасим объекты из разных кластеров в разные цвета для наглядности."
   ]
  },
  {
   "cell_type": "code",
   "execution_count": 114,
   "metadata": {
    "id": "ye5MuAmNONfR",
    "outputId": "a52d5c35-3166-48b1-da20-0338d7096b35"
   },
   "outputs": [
    {
     "data": {
      "text/plain": [
       "Text(0.5, 1.0, 'Train data')"
      ]
     },
     "execution_count": 114,
     "metadata": {},
     "output_type": "execute_result"
    },
    {
     "data": {
      "image/png": "[encoded data removed]",
      "text/plain": [
       "<Figure size 432x288 with 1 Axes>"
      ]
     },
     "metadata": {
      "needs_background": "light"
     },
     "output_type": "display_data"
    }
   ],
   "source": [
    "centers = scaler.inverse_transform(model.cluster_centers_)\n",
    "\n",
    "plt.scatter(df['x1'], df['x2'], c=train_labels)\n",
    "plt.scatter(centers[:, 0], centers[:, 1], marker='D', color='red')\n",
    "\n",
    "plt.xlabel('x1')\n",
    "plt.ylabel('x2')\n",
    "\n",
    "plt.title('Train data')"
   ]
  },
  {
   "cell_type": "markdown",
   "metadata": {},
   "source": [
    "## Проверка правильности предположения о количестве кластеров."
   ]
  },
  {
   "cell_type": "markdown",
   "metadata": {
    "id": "nixbi0rrONfR"
   },
   "source": [
    "Основная проблема алгоритма k-means в том, что нам нужно заранее знать количество кластеров. Однако, в реальности это не всегда бывает возможно. Количество кластеров можно оценить, используя величину _inertia_. Эта величина равна сумме квадратов расстояний от объектов до центров их кластеров. Чем лучше кластеризация, тем меньше эта величина. Кроме того, она уменьшается с увеличением числа кластеров (она равна 0, если кластеров столько же, сколько объектов), поэтому нужно соблюдать баланс между количеством кластеров, которое нам подходит, и величиной inertia, чтобы число кластеров было разумным."
   ]
  },
  {
   "cell_type": "code",
   "execution_count": 115,
   "metadata": {
    "id": "T9R4O20-ONfS",
    "outputId": "533762d4-b755-45c7-f21d-c6fa2d1c6bc9"
   },
   "outputs": [
    {
     "data": {
      "text/plain": [
       "1.6636405225724178"
      ]
     },
     "execution_count": 115,
     "metadata": {},
     "output_type": "execute_result"
    }
   ],
   "source": [
    "model.inertia_"
   ]
  },
  {
   "cell_type": "markdown",
   "metadata": {
    "id": "iAE5IZlAONfS"
   },
   "source": [
    "Посчитаем эту величину на наших данных при различном количестве кластеров."
   ]
  },
  {
   "cell_type": "code",
   "execution_count": 116,
   "metadata": {
    "id": "sK44YXDaONfT",
    "outputId": "6bbf6bf8-d9e3-4571-c975-7b9cdd48fe9c"
   },
   "outputs": [
    {
     "data": {
      "image/png": "[encoded data removed]",
      "text/plain": [
       "<Figure size 432x288 with 1 Axes>"
      ]
     },
     "metadata": {
      "needs_background": "light"
     },
     "output_type": "display_data"
    }
   ],
   "source": [
    "inertias = []\n",
    "\n",
    "for i in range(2, 10):\n",
    "    temp_model = KMeans(n_clusters=i, random_state=100)\n",
    "    temp_model.fit(train_scaled)\n",
    "    \n",
    "    temp_inertia = temp_model.inertia_\n",
    "    \n",
    "    inertias.append(temp_inertia)\n",
    "\n",
    "plt.plot(range(2, 10), inertias)\n",
    "\n",
    "plt.title('Метод локтя')\n",
    "\n",
    "plt.show()"
   ]
  },
  {
   "cell_type": "markdown",
   "metadata": {
    "id": "EwTUeKFuONfT"
   },
   "source": [
    "Мы видим сильное снижение inertia при переходе от 2 к 3 кластерам, а дальше идёт более плавное уменьшение. Это означает, что 3 - адекватное число кластеров. Такой подход называется _методом локтя_."
   ]
  }
 ],
 "metadata": {
  "colab": {
   "collapsed_sections": [
    "NJVFjt4ZONfV",
    "N4LH5gnYONfW",
    "7U_GAERXONfh",
    "7uBf7K66ONfl"
   ],
   "name": "5. Обучение без учителя в Scikit-learn.ipynb",
   "provenance": []
  },
  "kernelspec": {
   "display_name": "Python 3",
   "language": "python",
   "name": "python3"
  },
  "language_info": {
   "codemirror_mode": {
    "name": "ipython",
    "version": 3
   },
   "file_extension": ".py",
   "mimetype": "text/x-python",
   "name": "python",
   "nbconvert_exporter": "python",
   "pygments_lexer": "ipython3",
   "version": "3.8.5"
  }
 },
 "nbformat": 4,
 "nbformat_minor": 1
}
