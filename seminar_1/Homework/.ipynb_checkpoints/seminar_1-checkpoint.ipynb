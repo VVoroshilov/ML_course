{
 "cells": [
  {
   "cell_type": "markdown",
   "id": "complete-worth",
   "metadata": {},
   "source": [
    "## 0.1. Знакомство с numpy"
   ]
  },
  {
   "cell_type": "markdown",
   "id": "outside-restoration",
   "metadata": {},
   "source": [
    "## Ворошилов Владислав ПИ20-3"
   ]
  },
  {
   "cell_type": "code",
   "execution_count": 4,
   "id": "african-proportion",
   "metadata": {},
   "outputs": [],
   "source": [
    "# Имортируем необходмые модули \n",
    "import numpy as np"
   ]
  },
  {
   "cell_type": "markdown",
   "id": "brutal-glance",
   "metadata": {},
   "source": [
    "### Задание 1\n",
    "Создайте матрицу таблицы умножения с использованием списков"
   ]
  },
  {
   "cell_type": "code",
   "execution_count": 39,
   "id": "listed-celtic",
   "metadata": {},
   "outputs": [
    {
     "name": "stdout",
     "output_type": "stream",
     "text": [
      "[[ 1  2  3  4  5  6  7  8  9]\n",
      " [ 2  4  6  8 10 12 14 16 18]\n",
      " [ 3  6  9 12 15 18 21 24 27]\n",
      " [ 4  8 12 16 20 24 28 32 36]\n",
      " [ 5 10 15 20 25 30 35 40 45]\n",
      " [ 6 12 18 24 30 36 42 48 54]\n",
      " [ 7 14 21 28 35 42 49 56 63]\n",
      " [ 8 16 24 32 40 48 56 64 72]\n",
      " [ 9 18 27 36 45 54 63 72 81]]\n"
     ]
    }
   ],
   "source": [
    "# С помощью генераторов списков создаём матрицу, в которой нумерация строк (row) и столбцов (col) будет начинаться с единицы\n",
    "# Значение в ячейке будет рассчитываться по формуле row * col, то есть перемножение номера строки и номера столбца.\n",
    "# По диагонали получились квадраты чисел по порядку. Ниже реализация задания в виде функции.\n",
    "mltplctn_matrix = np.array([ [row * col for col in range(1, 10)] for row in range(1, 10)], dtype=np.int64)\n",
    "print(mltplctn_matrix)"
   ]
  },
  {
   "cell_type": "code",
   "execution_count": 40,
   "id": "respiratory-rebound",
   "metadata": {},
   "outputs": [],
   "source": [
    "def mltplctn_mtrx(start, stop):\n",
    "    mltplctn_matrix = np.array([ [row * col for col in range(start, stop)] for row in range(start, stop)], dtype=np.int64)\n",
    "    return mltplctn_matrix"
   ]
  },
  {
   "cell_type": "code",
   "execution_count": 41,
   "id": "arbitrary-supervisor",
   "metadata": {},
   "outputs": [
    {
     "name": "stdout",
     "output_type": "stream",
     "text": [
      "[[  1   2   3   4   5   6   7   8   9  10  11  12  13  14]\n",
      " [  2   4   6   8  10  12  14  16  18  20  22  24  26  28]\n",
      " [  3   6   9  12  15  18  21  24  27  30  33  36  39  42]\n",
      " [  4   8  12  16  20  24  28  32  36  40  44  48  52  56]\n",
      " [  5  10  15  20  25  30  35  40  45  50  55  60  65  70]\n",
      " [  6  12  18  24  30  36  42  48  54  60  66  72  78  84]\n",
      " [  7  14  21  28  35  42  49  56  63  70  77  84  91  98]\n",
      " [  8  16  24  32  40  48  56  64  72  80  88  96 104 112]\n",
      " [  9  18  27  36  45  54  63  72  81  90  99 108 117 126]\n",
      " [ 10  20  30  40  50  60  70  80  90 100 110 120 130 140]\n",
      " [ 11  22  33  44  55  66  77  88  99 110 121 132 143 154]\n",
      " [ 12  24  36  48  60  72  84  96 108 120 132 144 156 168]\n",
      " [ 13  26  39  52  65  78  91 104 117 130 143 156 169 182]\n",
      " [ 14  28  42  56  70  84  98 112 126 140 154 168 182 196]]\n"
     ]
    }
   ],
   "source": [
    "print(mltplctn_mtrx(1, 15))"
   ]
  },
  {
   "cell_type": "markdown",
   "id": "architectural-degree",
   "metadata": {},
   "source": [
    "### Задание 2\n",
    "Создайте функцию, которая принимает как аргументы целое число N и первый элемент (вещественное число el1), и разность (вещественное число d) и создает матрицу по диагонали, которой распологаются первые N членов арифметической прогрессии. "
   ]
  },
  {
   "cell_type": "code",
   "execution_count": 42,
   "id": "pacific-incidence",
   "metadata": {},
   "outputs": [],
   "source": [
    "def lindiag(N, el1, d):\n",
    "    return np.diag([el1 + n*d for n in range(N)])"
   ]
  },
  {
   "cell_type": "code",
   "execution_count": 43,
   "id": "respective-denial",
   "metadata": {},
   "outputs": [
    {
     "name": "stdout",
     "output_type": "stream",
     "text": [
      "[[1.  0.  0.  0.  0.  0.  0.  0.  0.  0. ]\n",
      " [0.  1.1 0.  0.  0.  0.  0.  0.  0.  0. ]\n",
      " [0.  0.  1.2 0.  0.  0.  0.  0.  0.  0. ]\n",
      " [0.  0.  0.  1.3 0.  0.  0.  0.  0.  0. ]\n",
      " [0.  0.  0.  0.  1.4 0.  0.  0.  0.  0. ]\n",
      " [0.  0.  0.  0.  0.  1.5 0.  0.  0.  0. ]\n",
      " [0.  0.  0.  0.  0.  0.  1.6 0.  0.  0. ]\n",
      " [0.  0.  0.  0.  0.  0.  0.  1.7 0.  0. ]\n",
      " [0.  0.  0.  0.  0.  0.  0.  0.  1.8 0. ]\n",
      " [0.  0.  0.  0.  0.  0.  0.  0.  0.  1.9]]\n"
     ]
    }
   ],
   "source": [
    "print(lindiag(10, 1, 0.1))"
   ]
  },
  {
   "cell_type": "markdown",
   "id": "continuing-adult",
   "metadata": {},
   "source": [
    "### Задание 3\n",
    "Из данных по температуре в Стокгольме выбрать данные относящиеся к октябрю 1970 года и записать их в бинарный и текстовый файлы oct70.bin и oct70.txt. Затем прочитайте их импортировав в тетрадь ноутбука и сравните."
   ]
  },
  {
   "cell_type": "code",
   "execution_count": 50,
   "id": "coordinated-commercial",
   "metadata": {},
   "outputs": [],
   "source": [
    "# Загружаем исходный файл\n",
    "data = np.genfromtxt('stockholm_td_adj.dat')"
   ]
  },
  {
   "cell_type": "code",
   "execution_count": 52,
   "id": "ethical-express",
   "metadata": {},
   "outputs": [],
   "source": [
    "# Создаём функцию для изъятия столбца с информацией по заданным параметрам \n",
    "# data - массив с информацией, col - индекс столбца с информацией, year - год, month - месяц\n",
    "def get_col_by_date(data, col, year, month):\n",
    "    goal_data = np.array([data[i, col] for i in range(data.shape[0]) if (data[i,0] == year) and (data[i, 1] == month)])\n",
    "    return goal_data\n"
   ]
  },
  {
   "cell_type": "code",
   "execution_count": 54,
   "id": "similar-coordinate",
   "metadata": {},
   "outputs": [
    {
     "data": {
      "text/plain": [
       "array([10.4,  9. ,  7.8,  6.6,  7.9, 10.7, 12.2, 12.2, 10.2, 10.9,  9.7,\n",
       "        9. ,  6.7,  4.8,  8.2,  9.9,  9.8,  8.6,  8.8,  7.3,  6.2,  3. ,\n",
       "        0.5,  4.5,  6.3,  3.3,  1.6,  1.7,  2.3,  1.8,  1.1])"
      ]
     },
     "execution_count": 54,
     "metadata": {},
     "output_type": "execute_result"
    }
   ],
   "source": [
    "oct70 = get_col_by_date(data, 5, 1970, 10)\n",
    "oct70"
   ]
  },
  {
   "cell_type": "code",
   "execution_count": 56,
   "id": "unauthorized-beast",
   "metadata": {},
   "outputs": [],
   "source": [
    "# Сохраняем в txt формате\n",
    "np.savetxt(\"oct70.txt\", oct70)"
   ]
  },
  {
   "cell_type": "code",
   "execution_count": 59,
   "id": "elect-external",
   "metadata": {},
   "outputs": [],
   "source": [
    "# Сохраняем в bin формате\n",
    "# .npy - бинарный формат NumPy\n",
    "np.save(\"oct70.npy\", oct70)"
   ]
  },
  {
   "cell_type": "code",
   "execution_count": 58,
   "id": "equipped-migration",
   "metadata": {},
   "outputs": [
    {
     "data": {
      "text/plain": [
       "array([10.4,  9. ,  7.8,  6.6,  7.9, 10.7, 12.2, 12.2, 10.2, 10.9,  9.7,\n",
       "        9. ,  6.7,  4.8,  8.2,  9.9,  9.8,  8.6,  8.8,  7.3,  6.2,  3. ,\n",
       "        0.5,  4.5,  6.3,  3.3,  1.6,  1.7,  2.3,  1.8,  1.1])"
      ]
     },
     "execution_count": 58,
     "metadata": {},
     "output_type": "execute_result"
    }
   ],
   "source": [
    "# Загружаем из txt\n",
    "data_from_txt = np.genfromtxt(\"oct70.txt\")\n",
    "data_from_txt"
   ]
  },
  {
   "cell_type": "code",
   "execution_count": 61,
   "id": "wanted-pottery",
   "metadata": {},
   "outputs": [
    {
     "data": {
      "text/plain": [
       "array([10.4,  9. ,  7.8,  6.6,  7.9, 10.7, 12.2, 12.2, 10.2, 10.9,  9.7,\n",
       "        9. ,  6.7,  4.8,  8.2,  9.9,  9.8,  8.6,  8.8,  7.3,  6.2,  3. ,\n",
       "        0.5,  4.5,  6.3,  3.3,  1.6,  1.7,  2.3,  1.8,  1.1])"
      ]
     },
     "execution_count": 61,
     "metadata": {},
     "output_type": "execute_result"
    }
   ],
   "source": [
    "# Загружаем из bin (.npy)\n",
    "data_from_bin = np.load(\"oct70.npy\")\n",
    "data_from_bin"
   ]
  },
  {
   "cell_type": "markdown",
   "id": "double-nightlife",
   "metadata": {},
   "source": [
    "### Задание 4\n",
    "Используя срезы извлеките нечетные элементы матрицы А. "
   ]
  },
  {
   "cell_type": "code",
   "execution_count": 63,
   "id": "surgical-gross",
   "metadata": {},
   "outputs": [
    {
     "data": {
      "text/plain": [
       "array([[ 0,  1,  2,  3,  4],\n",
       "       [10, 11, 12, 13, 14],\n",
       "       [20, 21, 22, 23, 24],\n",
       "       [30, 31, 32, 33, 34],\n",
       "       [40, 41, 42, 43, 44]])"
      ]
     },
     "execution_count": 63,
     "metadata": {},
     "output_type": "execute_result"
    }
   ],
   "source": [
    "# Создадим матрицу А аналогично заданию\n",
    "A = np.array([[n+m*10 for n in range(5)] for m in range(5)])\n",
    "A"
   ]
  },
  {
   "cell_type": "code",
   "execution_count": 66,
   "id": "established-crash",
   "metadata": {},
   "outputs": [
    {
     "data": {
      "text/plain": [
       "array([[ 1,  3],\n",
       "       [11, 13],\n",
       "       [21, 23],\n",
       "       [31, 33],\n",
       "       [41, 43]])"
      ]
     },
     "execution_count": 66,
     "metadata": {},
     "output_type": "execute_result"
    }
   ],
   "source": [
    "# Получение нечётных элементов\n",
    "A[:, 1::2]"
   ]
  },
  {
   "cell_type": "markdown",
   "id": "organized-basis",
   "metadata": {},
   "source": [
    "### Задание 5\n",
    "Используйте массив из задания 1 (таблицу умножения) извлеките из него при помощи маски все числа кратные 3. \n"
   ]
  },
  {
   "cell_type": "code",
   "execution_count": 67,
   "id": "international-yorkshire",
   "metadata": {},
   "outputs": [
    {
     "data": {
      "text/plain": [
       "array([[ 1,  2,  3,  4,  5,  6,  7,  8,  9],\n",
       "       [ 2,  4,  6,  8, 10, 12, 14, 16, 18],\n",
       "       [ 3,  6,  9, 12, 15, 18, 21, 24, 27],\n",
       "       [ 4,  8, 12, 16, 20, 24, 28, 32, 36],\n",
       "       [ 5, 10, 15, 20, 25, 30, 35, 40, 45],\n",
       "       [ 6, 12, 18, 24, 30, 36, 42, 48, 54],\n",
       "       [ 7, 14, 21, 28, 35, 42, 49, 56, 63],\n",
       "       [ 8, 16, 24, 32, 40, 48, 56, 64, 72],\n",
       "       [ 9, 18, 27, 36, 45, 54, 63, 72, 81]])"
      ]
     },
     "execution_count": 67,
     "metadata": {},
     "output_type": "execute_result"
    }
   ],
   "source": [
    "# Создадим массив с таблицей умножения заново\n",
    "mtrx = mltplctn_mtrx(1, 10)\n",
    "mtrx"
   ]
  },
  {
   "cell_type": "code",
   "execution_count": 73,
   "id": "pursuant-constraint",
   "metadata": {},
   "outputs": [
    {
     "data": {
      "text/plain": [
       "array([ 3,  6,  9,  6, 12, 18,  3,  6,  9, 12, 15, 18, 21, 24, 27, 12, 24,\n",
       "       36, 15, 30, 45,  6, 12, 18, 24, 30, 36, 42, 48, 54, 21, 42, 63, 24,\n",
       "       48, 72,  9, 18, 27, 36, 45, 54, 63, 72, 81])"
      ]
     },
     "execution_count": 73,
     "metadata": {},
     "output_type": "execute_result"
    }
   ],
   "source": [
    "# Извлечём все числа, кратные 3\n",
    "mask = mtrx % 3 == 0 \n",
    "mtrx[mask]"
   ]
  },
  {
   "cell_type": "markdown",
   "id": "latin-newfoundland",
   "metadata": {},
   "source": [
    "### Задание 6 отсуствует в файле"
   ]
  },
  {
   "cell_type": "markdown",
   "id": "fleet-context",
   "metadata": {},
   "source": [
    "### Задание 7\n",
    "Разбить массив таблицы умножения из задания 1 на два массива содержащие четные и нечетные значения, а затем собрать его в исходное состояние используя choose()"
   ]
  },
  {
   "cell_type": "code",
   "execution_count": 74,
   "id": "precious-conditions",
   "metadata": {},
   "outputs": [
    {
     "data": {
      "text/plain": [
       "array([[ 1,  2,  3,  4,  5,  6,  7,  8,  9],\n",
       "       [ 2,  4,  6,  8, 10, 12, 14, 16, 18],\n",
       "       [ 3,  6,  9, 12, 15, 18, 21, 24, 27],\n",
       "       [ 4,  8, 12, 16, 20, 24, 28, 32, 36],\n",
       "       [ 5, 10, 15, 20, 25, 30, 35, 40, 45],\n",
       "       [ 6, 12, 18, 24, 30, 36, 42, 48, 54],\n",
       "       [ 7, 14, 21, 28, 35, 42, 49, 56, 63],\n",
       "       [ 8, 16, 24, 32, 40, 48, 56, 64, 72],\n",
       "       [ 9, 18, 27, 36, 45, 54, 63, 72, 81]])"
      ]
     },
     "execution_count": 74,
     "metadata": {},
     "output_type": "execute_result"
    }
   ],
   "source": [
    "mtrx"
   ]
  },
  {
   "cell_type": "code",
   "execution_count": 159,
   "id": "guided-vaccine",
   "metadata": {},
   "outputs": [
    {
     "name": "stdout",
     "output_type": "stream",
     "text": [
      "[[ 0  2  0  4  0  6  0  8  0]\n",
      " [ 2  4  6  8 10 12 14 16 18]\n",
      " [ 0  6  0 12  0 18  0 24  0]\n",
      " [ 4  8 12 16 20 24 28 32 36]\n",
      " [ 0 10  0 20  0 30  0 40  0]\n",
      " [ 6 12 18 24 30 36 42 48 54]\n",
      " [ 0 14  0 28  0 42  0 56  0]\n",
      " [ 8 16 24 32 40 48 56 64 72]\n",
      " [ 0 18  0 36  0 54  0 72  0]]\n",
      "[[ 1  0  3  0  5  0  7  0  9]\n",
      " [ 0  0  0  0  0  0  0  0  0]\n",
      " [ 3  0  9  0 15  0 21  0 27]\n",
      " [ 0  0  0  0  0  0  0  0  0]\n",
      " [ 5  0 15  0 25  0 35  0 45]\n",
      " [ 0  0  0  0  0  0  0  0  0]\n",
      " [ 7  0 21  0 35  0 49  0 63]\n",
      " [ 0  0  0  0  0  0  0  0  0]\n",
      " [ 9  0 27  0 45  0 63  0 81]]\n"
     ]
    }
   ],
   "source": [
    "# Получаем два массива: с чётными и нечётными элементами исходного массива\n",
    "# Т.к. у функции choice есть ограничение, что массив индексов и массивы из списка выборов должны иметь одинаковую размерность\n",
    "# Поэтому сделаем копии исходной матрицы и заменим неподходящие под условия значения на \"0\"\n",
    "even_mask = mtrx % 2 == 0 \n",
    "odd_mask = mtrx % 2 == 1\n",
    "\n",
    "even = mtrx.copy()\n",
    "odd = mtrx.copy()\n",
    "\n",
    "even[odd_mask] = 0\n",
    "odd[even_mask] = 0\n",
    "\n",
    "print(even)\n",
    "print(odd)"
   ]
  },
  {
   "cell_type": "code",
   "execution_count": 161,
   "id": "above-chambers",
   "metadata": {},
   "outputs": [
    {
     "data": {
      "text/plain": [
       "array([[ 1,  2,  3,  4,  5,  6,  7,  8,  9],\n",
       "       [ 2,  4,  6,  8, 10, 12, 14, 16, 18],\n",
       "       [ 3,  6,  9, 12, 15, 18, 21, 24, 27],\n",
       "       [ 4,  8, 12, 16, 20, 24, 28, 32, 36],\n",
       "       [ 5, 10, 15, 20, 25, 30, 35, 40, 45],\n",
       "       [ 6, 12, 18, 24, 30, 36, 42, 48, 54],\n",
       "       [ 7, 14, 21, 28, 35, 42, 49, 56, 63],\n",
       "       [ 8, 16, 24, 32, 40, 48, 56, 64, 72],\n",
       "       [ 9, 18, 27, 36, 45, 54, 63, 72, 81]])"
      ]
     },
     "execution_count": 161,
     "metadata": {},
     "output_type": "execute_result"
    }
   ],
   "source": [
    "# Получим исходную матрицу из вновь полученных матриц\n",
    "choices = (odd_mask * 1) # превратили маску чётных чисел в массив с индексами\n",
    "np.choose(choices, [even, odd])"
   ]
  },
  {
   "cell_type": "markdown",
   "id": "anonymous-supervisor",
   "metadata": {},
   "source": [
    "### Задание 8\n",
    "Даны вектора v1(0,1,2,3,4) v2(5,6,7,8,9) найти угол между ними, учитывая что косинус угла между векторами можно найти как отношения их скалярного произведения к их длинам."
   ]
  },
  {
   "cell_type": "code",
   "execution_count": 107,
   "id": "stock-float",
   "metadata": {},
   "outputs": [
    {
     "data": {
      "text/plain": [
       "(array([0, 1, 2, 3, 4]), array([5, 6, 7, 8, 9]))"
      ]
     },
     "execution_count": 107,
     "metadata": {},
     "output_type": "execute_result"
    }
   ],
   "source": [
    "# Создадим векторы\n",
    "v1 = np.array(np.arange(0, 5))\n",
    "v2 = np.array(np.arange(5, 10))\n",
    "v1,v2"
   ]
  },
  {
   "cell_type": "code",
   "execution_count": 109,
   "id": "subsequent-trustee",
   "metadata": {},
   "outputs": [
    {
     "data": {
      "text/plain": [
       "80"
      ]
     },
     "execution_count": 109,
     "metadata": {},
     "output_type": "execute_result"
    }
   ],
   "source": [
    "# Найдём скалярное проиведение векторов\n",
    "vec_mltp = np.dot(v1, v2)\n",
    "vec_mltp"
   ]
  },
  {
   "cell_type": "code",
   "execution_count": 110,
   "id": "pursuant-marijuana",
   "metadata": {},
   "outputs": [
    {
     "data": {
      "text/plain": [
       "(5.477225575051661, 15.968719422671311)"
      ]
     },
     "execution_count": 110,
     "metadata": {},
     "output_type": "execute_result"
    }
   ],
   "source": [
    "# Найдём длину векторов\n",
    "length_v1 = np.linalg.norm(v1)\n",
    "length_v2 = np.linalg.norm(v2)\n",
    "length_v1, length_v2"
   ]
  },
  {
   "cell_type": "code",
   "execution_count": 111,
   "id": "multiple-player",
   "metadata": {},
   "outputs": [
    {
     "data": {
      "text/plain": [
       "0.9146591207600472"
      ]
     },
     "execution_count": 111,
     "metadata": {},
     "output_type": "execute_result"
    }
   ],
   "source": [
    "# Вычислим косинус угла между векторами\n",
    "cos_v12 = vec_mltp / (length_v1 * length_v2)\n",
    "cos_v12"
   ]
  },
  {
   "cell_type": "code",
   "execution_count": 121,
   "id": "yellow-token",
   "metadata": {},
   "outputs": [
    {
     "data": {
      "text/plain": [
       "0.4161325009697856"
      ]
     },
     "execution_count": 121,
     "metadata": {},
     "output_type": "execute_result"
    }
   ],
   "source": [
    "# Найдём арккосинус результата (угол)\n",
    "degree = np.arccos(cos_v12)\n",
    "degree"
   ]
  },
  {
   "cell_type": "code",
   "execution_count": 122,
   "id": "innocent-roller",
   "metadata": {},
   "outputs": [
    {
     "data": {
      "text/plain": [
       "23.84"
      ]
     },
     "execution_count": 122,
     "metadata": {},
     "output_type": "execute_result"
    }
   ],
   "source": [
    "# Переведём результат из радиан в градусы \n",
    "degree_deg = np.rad2deg(degree)\n",
    "round(degree_deg, 2)"
   ]
  },
  {
   "cell_type": "markdown",
   "id": "horizontal-arabic",
   "metadata": {},
   "source": [
    "### Задача 9\n",
    "Создайте две матрицы размером (5,5). Одна матрица содержит 5 в шахматном порядке как в задаче домашнего задания, другая имеет треугольную форму содержающую 5 на основной диагонали и в позициях выше ее, а ниже все 0. Посчитайте их детерминант и найдите обратные матрицы. Если для матрицы не у дается найти обратную, видимо этому мешает нулевое значение детерминанта."
   ]
  },
  {
   "cell_type": "code",
   "execution_count": 127,
   "id": "basic-sculpture",
   "metadata": {},
   "outputs": [
    {
     "data": {
      "text/plain": [
       "array([[0, 5, 0, 5, 0],\n",
       "       [5, 0, 5, 0, 5],\n",
       "       [0, 5, 0, 5, 0],\n",
       "       [5, 0, 5, 0, 5],\n",
       "       [0, 5, 0, 5, 0]])"
      ]
     },
     "execution_count": 127,
     "metadata": {},
     "output_type": "execute_result"
    }
   ],
   "source": [
    "# Первая матрица (с шахматным порядком)\n",
    "A = np.array([5 * (i%2) for i in range(5*5)]).reshape((5, 5))\n",
    "A"
   ]
  },
  {
   "cell_type": "code",
   "execution_count": 152,
   "id": "studied-product",
   "metadata": {},
   "outputs": [
    {
     "data": {
      "text/plain": [
       "array([[5, 5, 5, 5, 5],\n",
       "       [0, 5, 5, 5, 5],\n",
       "       [0, 0, 5, 5, 5],\n",
       "       [0, 0, 0, 5, 5],\n",
       "       [0, 0, 0, 0, 5]])"
      ]
     },
     "execution_count": 152,
     "metadata": {},
     "output_type": "execute_result"
    }
   ],
   "source": [
    "# Вторая матрица (треугольная)\n",
    "B = np.array([[5 if j-i<=0 else 0 for i in range(5)] for j in range(5)])\n",
    "B"
   ]
  },
  {
   "cell_type": "code",
   "execution_count": 155,
   "id": "liquid-electronics",
   "metadata": {},
   "outputs": [
    {
     "data": {
      "text/plain": [
       "(0.0, 3124.999999999999)"
      ]
     },
     "execution_count": 155,
     "metadata": {},
     "output_type": "execute_result"
    }
   ],
   "source": [
    "# Посчитаем определитель матрицы \n",
    "det_A = np.linalg.det(A)\n",
    "det_B = np.linalg.det(B)\n",
    "det_A, det_B"
   ]
  },
  {
   "cell_type": "code",
   "execution_count": 156,
   "id": "widespread-balance",
   "metadata": {},
   "outputs": [
    {
     "data": {
      "text/plain": [
       "array([[ 0.2, -0.2,  0. ,  0. ,  0. ],\n",
       "       [ 0. ,  0.2, -0.2,  0. ,  0. ],\n",
       "       [ 0. ,  0. ,  0.2, -0.2,  0. ],\n",
       "       [ 0. ,  0. ,  0. ,  0.2, -0.2],\n",
       "       [ 0. ,  0. ,  0. ,  0. ,  0.2]])"
      ]
     },
     "execution_count": 156,
     "metadata": {},
     "output_type": "execute_result"
    }
   ],
   "source": [
    "# Для первой матрицы нельзя найти обратную матрицу, т.к. определитель равен 0. Для второй найдём обратную ниже:\n",
    "np.linalg.inv(B)"
   ]
  },
  {
   "cell_type": "code",
   "execution_count": 157,
   "id": "electoral-concrete",
   "metadata": {},
   "outputs": [
    {
     "ename": "LinAlgError",
     "evalue": "Singular matrix",
     "output_type": "error",
     "traceback": [
      "\u001b[0;31m---------------------------------------------------------------------------\u001b[0m",
      "\u001b[0;31mLinAlgError\u001b[0m                               Traceback (most recent call last)",
      "\u001b[0;32m<ipython-input-157-ae645f97e1f8>\u001b[0m in \u001b[0;36m<module>\u001b[0;34m\u001b[0m\n\u001b[0;32m----> 1\u001b[0;31m \u001b[0mnp\u001b[0m\u001b[0;34m.\u001b[0m\u001b[0mlinalg\u001b[0m\u001b[0;34m.\u001b[0m\u001b[0minv\u001b[0m\u001b[0;34m(\u001b[0m\u001b[0mA\u001b[0m\u001b[0;34m)\u001b[0m\u001b[0;34m\u001b[0m\u001b[0;34m\u001b[0m\u001b[0m\n\u001b[0m",
      "\u001b[0;32m<__array_function__ internals>\u001b[0m in \u001b[0;36minv\u001b[0;34m(*args, **kwargs)\u001b[0m\n",
      "\u001b[0;32m/Library/Frameworks/Python.framework/Versions/3.9/lib/python3.9/site-packages/numpy/linalg/linalg.py\u001b[0m in \u001b[0;36minv\u001b[0;34m(a)\u001b[0m\n\u001b[1;32m    543\u001b[0m     \u001b[0msignature\u001b[0m \u001b[0;34m=\u001b[0m \u001b[0;34m'D->D'\u001b[0m \u001b[0;32mif\u001b[0m \u001b[0misComplexType\u001b[0m\u001b[0;34m(\u001b[0m\u001b[0mt\u001b[0m\u001b[0;34m)\u001b[0m \u001b[0;32melse\u001b[0m \u001b[0;34m'd->d'\u001b[0m\u001b[0;34m\u001b[0m\u001b[0;34m\u001b[0m\u001b[0m\n\u001b[1;32m    544\u001b[0m     \u001b[0mextobj\u001b[0m \u001b[0;34m=\u001b[0m \u001b[0mget_linalg_error_extobj\u001b[0m\u001b[0;34m(\u001b[0m\u001b[0m_raise_linalgerror_singular\u001b[0m\u001b[0;34m)\u001b[0m\u001b[0;34m\u001b[0m\u001b[0;34m\u001b[0m\u001b[0m\n\u001b[0;32m--> 545\u001b[0;31m     \u001b[0mainv\u001b[0m \u001b[0;34m=\u001b[0m \u001b[0m_umath_linalg\u001b[0m\u001b[0;34m.\u001b[0m\u001b[0minv\u001b[0m\u001b[0;34m(\u001b[0m\u001b[0ma\u001b[0m\u001b[0;34m,\u001b[0m \u001b[0msignature\u001b[0m\u001b[0;34m=\u001b[0m\u001b[0msignature\u001b[0m\u001b[0;34m,\u001b[0m \u001b[0mextobj\u001b[0m\u001b[0;34m=\u001b[0m\u001b[0mextobj\u001b[0m\u001b[0;34m)\u001b[0m\u001b[0;34m\u001b[0m\u001b[0;34m\u001b[0m\u001b[0m\n\u001b[0m\u001b[1;32m    546\u001b[0m     \u001b[0;32mreturn\u001b[0m \u001b[0mwrap\u001b[0m\u001b[0;34m(\u001b[0m\u001b[0mainv\u001b[0m\u001b[0;34m.\u001b[0m\u001b[0mastype\u001b[0m\u001b[0;34m(\u001b[0m\u001b[0mresult_t\u001b[0m\u001b[0;34m,\u001b[0m \u001b[0mcopy\u001b[0m\u001b[0;34m=\u001b[0m\u001b[0;32mFalse\u001b[0m\u001b[0;34m)\u001b[0m\u001b[0;34m)\u001b[0m\u001b[0;34m\u001b[0m\u001b[0;34m\u001b[0m\u001b[0m\n\u001b[1;32m    547\u001b[0m \u001b[0;34m\u001b[0m\u001b[0m\n",
      "\u001b[0;32m/Library/Frameworks/Python.framework/Versions/3.9/lib/python3.9/site-packages/numpy/linalg/linalg.py\u001b[0m in \u001b[0;36m_raise_linalgerror_singular\u001b[0;34m(err, flag)\u001b[0m\n\u001b[1;32m     86\u001b[0m \u001b[0;34m\u001b[0m\u001b[0m\n\u001b[1;32m     87\u001b[0m \u001b[0;32mdef\u001b[0m \u001b[0m_raise_linalgerror_singular\u001b[0m\u001b[0;34m(\u001b[0m\u001b[0merr\u001b[0m\u001b[0;34m,\u001b[0m \u001b[0mflag\u001b[0m\u001b[0;34m)\u001b[0m\u001b[0;34m:\u001b[0m\u001b[0;34m\u001b[0m\u001b[0;34m\u001b[0m\u001b[0m\n\u001b[0;32m---> 88\u001b[0;31m     \u001b[0;32mraise\u001b[0m \u001b[0mLinAlgError\u001b[0m\u001b[0;34m(\u001b[0m\u001b[0;34m\"Singular matrix\"\u001b[0m\u001b[0;34m)\u001b[0m\u001b[0;34m\u001b[0m\u001b[0;34m\u001b[0m\u001b[0m\n\u001b[0m\u001b[1;32m     89\u001b[0m \u001b[0;34m\u001b[0m\u001b[0m\n\u001b[1;32m     90\u001b[0m \u001b[0;32mdef\u001b[0m \u001b[0m_raise_linalgerror_nonposdef\u001b[0m\u001b[0;34m(\u001b[0m\u001b[0merr\u001b[0m\u001b[0;34m,\u001b[0m \u001b[0mflag\u001b[0m\u001b[0;34m)\u001b[0m\u001b[0;34m:\u001b[0m\u001b[0;34m\u001b[0m\u001b[0;34m\u001b[0m\u001b[0m\n",
      "\u001b[0;31mLinAlgError\u001b[0m: Singular matrix"
     ]
    }
   ],
   "source": [
    "# Вызов ошибку получения обратной матрицы для шахматного порядка:\n",
    "np.linalg.inv(A)"
   ]
  }
 ],
 "metadata": {
  "kernelspec": {
   "display_name": "Python 3",
   "language": "python",
   "name": "python3"
  },
  "language_info": {
   "codemirror_mode": {
    "name": "ipython",
    "version": 3
   },
   "file_extension": ".py",
   "mimetype": "text/x-python",
   "name": "python",
   "nbconvert_exporter": "python",
   "pygments_lexer": "ipython3",
   "version": "3.9.0"
  }
 },
 "nbformat": 4,
 "nbformat_minor": 5
}
