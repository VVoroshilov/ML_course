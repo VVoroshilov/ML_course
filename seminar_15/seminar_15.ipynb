{
 "cells": [
  {
   "cell_type": "markdown",
   "id": "adfc4e56",
   "metadata": {},
   "source": [
    "## Ворошилов Владислав\n",
    "## ПИ20-3\n",
    "## Семинар 15"
   ]
  },
  {
   "cell_type": "code",
   "execution_count": 1,
   "id": "423cbb95",
   "metadata": {},
   "outputs": [],
   "source": [
    "import numpy as np\n",
    "import pandas as pd\n",
    "import random\n",
    "from matplotlib import pyplot as plt\n",
    "import seaborn as sns\n",
    "import random"
   ]
  },
  {
   "cell_type": "markdown",
   "id": "4f815476",
   "metadata": {},
   "source": [
    "### 0. Загрузите датасет для предсказания арендной платы в зависимости от ряда признаков."
   ]
  },
  {
   "cell_type": "code",
   "execution_count": 2,
   "id": "0a389455",
   "metadata": {},
   "outputs": [
    {
     "data": {
      "text/html": [
       "<div>\n",
       "<style scoped>\n",
       "    .dataframe tbody tr th:only-of-type {\n",
       "        vertical-align: middle;\n",
       "    }\n",
       "\n",
       "    .dataframe tbody tr th {\n",
       "        vertical-align: top;\n",
       "    }\n",
       "\n",
       "    .dataframe thead th {\n",
       "        text-align: right;\n",
       "    }\n",
       "</style>\n",
       "<table border=\"1\" class=\"dataframe\">\n",
       "  <thead>\n",
       "    <tr style=\"text-align: right;\">\n",
       "      <th></th>\n",
       "      <th>Posted On</th>\n",
       "      <th>BHK</th>\n",
       "      <th>Rent</th>\n",
       "      <th>Size</th>\n",
       "      <th>Floor</th>\n",
       "      <th>Area Type</th>\n",
       "      <th>Area Locality</th>\n",
       "      <th>City</th>\n",
       "      <th>Furnishing Status</th>\n",
       "      <th>Tenant Preferred</th>\n",
       "      <th>Bathroom</th>\n",
       "      <th>Point of Contact</th>\n",
       "    </tr>\n",
       "  </thead>\n",
       "  <tbody>\n",
       "    <tr>\n",
       "      <th>0</th>\n",
       "      <td>2022-05-18</td>\n",
       "      <td>2</td>\n",
       "      <td>10000</td>\n",
       "      <td>1100</td>\n",
       "      <td>Ground out of 2</td>\n",
       "      <td>Super Area</td>\n",
       "      <td>Bandel</td>\n",
       "      <td>Kolkata</td>\n",
       "      <td>Unfurnished</td>\n",
       "      <td>Bachelors/Family</td>\n",
       "      <td>2</td>\n",
       "      <td>Contact Owner</td>\n",
       "    </tr>\n",
       "    <tr>\n",
       "      <th>1</th>\n",
       "      <td>2022-05-13</td>\n",
       "      <td>2</td>\n",
       "      <td>20000</td>\n",
       "      <td>800</td>\n",
       "      <td>1 out of 3</td>\n",
       "      <td>Super Area</td>\n",
       "      <td>Phool Bagan, Kankurgachi</td>\n",
       "      <td>Kolkata</td>\n",
       "      <td>Semi-Furnished</td>\n",
       "      <td>Bachelors/Family</td>\n",
       "      <td>1</td>\n",
       "      <td>Contact Owner</td>\n",
       "    </tr>\n",
       "    <tr>\n",
       "      <th>2</th>\n",
       "      <td>2022-05-16</td>\n",
       "      <td>2</td>\n",
       "      <td>17000</td>\n",
       "      <td>1000</td>\n",
       "      <td>1 out of 3</td>\n",
       "      <td>Super Area</td>\n",
       "      <td>Salt Lake City Sector 2</td>\n",
       "      <td>Kolkata</td>\n",
       "      <td>Semi-Furnished</td>\n",
       "      <td>Bachelors/Family</td>\n",
       "      <td>1</td>\n",
       "      <td>Contact Owner</td>\n",
       "    </tr>\n",
       "    <tr>\n",
       "      <th>3</th>\n",
       "      <td>2022-07-04</td>\n",
       "      <td>2</td>\n",
       "      <td>10000</td>\n",
       "      <td>800</td>\n",
       "      <td>1 out of 2</td>\n",
       "      <td>Super Area</td>\n",
       "      <td>Dumdum Park</td>\n",
       "      <td>Kolkata</td>\n",
       "      <td>Unfurnished</td>\n",
       "      <td>Bachelors/Family</td>\n",
       "      <td>1</td>\n",
       "      <td>Contact Owner</td>\n",
       "    </tr>\n",
       "    <tr>\n",
       "      <th>4</th>\n",
       "      <td>2022-05-09</td>\n",
       "      <td>2</td>\n",
       "      <td>7500</td>\n",
       "      <td>850</td>\n",
       "      <td>1 out of 2</td>\n",
       "      <td>Carpet Area</td>\n",
       "      <td>South Dum Dum</td>\n",
       "      <td>Kolkata</td>\n",
       "      <td>Unfurnished</td>\n",
       "      <td>Bachelors</td>\n",
       "      <td>1</td>\n",
       "      <td>Contact Owner</td>\n",
       "    </tr>\n",
       "  </tbody>\n",
       "</table>\n",
       "</div>"
      ],
      "text/plain": [
       "    Posted On  BHK   Rent  Size            Floor    Area Type  \\\n",
       "0  2022-05-18    2  10000  1100  Ground out of 2   Super Area   \n",
       "1  2022-05-13    2  20000   800       1 out of 3   Super Area   \n",
       "2  2022-05-16    2  17000  1000       1 out of 3   Super Area   \n",
       "3  2022-07-04    2  10000   800       1 out of 2   Super Area   \n",
       "4  2022-05-09    2   7500   850       1 out of 2  Carpet Area   \n",
       "\n",
       "              Area Locality     City Furnishing Status  Tenant Preferred  \\\n",
       "0                    Bandel  Kolkata       Unfurnished  Bachelors/Family   \n",
       "1  Phool Bagan, Kankurgachi  Kolkata    Semi-Furnished  Bachelors/Family   \n",
       "2   Salt Lake City Sector 2  Kolkata    Semi-Furnished  Bachelors/Family   \n",
       "3               Dumdum Park  Kolkata       Unfurnished  Bachelors/Family   \n",
       "4             South Dum Dum  Kolkata       Unfurnished         Bachelors   \n",
       "\n",
       "   Bathroom Point of Contact  \n",
       "0         2    Contact Owner  \n",
       "1         1    Contact Owner  \n",
       "2         1    Contact Owner  \n",
       "3         1    Contact Owner  \n",
       "4         1    Contact Owner  "
      ]
     },
     "execution_count": 2,
     "metadata": {},
     "output_type": "execute_result"
    }
   ],
   "source": [
    "df = pd.read_csv(\"./House_Rent_Dataset.csv\")\n",
    "df.head(5)"
   ]
  },
  {
   "cell_type": "markdown",
   "id": "9d44d9d6",
   "metadata": {},
   "source": [
    "### 1. Превратите признак `Floor` в два признака: `Floor_number`- номер этажа, на котором находится квартира (подвал, полуподвал и цокольный этаж обозначьте числом `0`) и `Total_floors`- общее количество этажей в доме, в котором сдаётся квартира."
   ]
  },
  {
   "cell_type": "code",
   "execution_count": 3,
   "id": "617f045b",
   "metadata": {},
   "outputs": [],
   "source": [
    "df[\"Floor_number\"] = df[\"Floor\"].str.split(\" out of \", expand=True)[0]\n",
    "df.loc[df[\"Floor_number\"] == \"Ground\", \"Floor_number\"] = 0\n",
    "df.loc[df[\"Floor_number\"] == \"Upper Basement\", \"Floor_number\"] = 0\n",
    "df.loc[df[\"Floor_number\"] == \"Lower Basement\", \"Floor_number\"] = 0"
   ]
  },
  {
   "cell_type": "code",
   "execution_count": 4,
   "id": "236134ff",
   "metadata": {
    "scrolled": true
   },
   "outputs": [
    {
     "data": {
      "text/plain": [
       "1     1161\n",
       "0      961\n",
       "2      945\n",
       "3      512\n",
       "4      272\n",
       "5      164\n",
       "6       93\n",
       "7       74\n",
       "10      67\n",
       "8       66\n",
       "9       65\n",
       "12      47\n",
       "11      43\n",
       "15      41\n",
       "14      34\n",
       "18      26\n",
       "17      22\n",
       "16      21\n",
       "19      16\n",
       "13      15\n",
       "20      12\n",
       "25      12\n",
       "23       9\n",
       "24       6\n",
       "21       6\n",
       "30       5\n",
       "34       4\n",
       "28       4\n",
       "35       3\n",
       "27       3\n",
       "22       3\n",
       "32       3\n",
       "26       3\n",
       "65       3\n",
       "60       3\n",
       "45       2\n",
       "36       2\n",
       "48       2\n",
       "40       2\n",
       "53       2\n",
       "44       1\n",
       "41       1\n",
       "46       1\n",
       "37       1\n",
       "33       1\n",
       "50       1\n",
       "39       1\n",
       "43       1\n",
       "29       1\n",
       "49       1\n",
       "47       1\n",
       "76       1\n",
       "Name: Floor_number, dtype: int64"
      ]
     },
     "execution_count": 4,
     "metadata": {},
     "output_type": "execute_result"
    }
   ],
   "source": [
    "df[\"Floor_number\"].value_counts()"
   ]
  },
  {
   "cell_type": "code",
   "execution_count": 5,
   "id": "91bcc1f6",
   "metadata": {},
   "outputs": [
    {
     "data": {
      "text/plain": [
       "4     938\n",
       "3     914\n",
       "2     868\n",
       "5     422\n",
       "1     333\n",
       "     ... \n",
       "39      1\n",
       "54      1\n",
       "62      1\n",
       "59      1\n",
       "89      1\n",
       "Name: Total_floors, Length: 66, dtype: int64"
      ]
     },
     "execution_count": 5,
     "metadata": {},
     "output_type": "execute_result"
    }
   ],
   "source": [
    "df[\"Total_floors\"] = df[\"Floor\"].str.split(\" out of \", expand=True)[1]\n",
    "df[\"Total_floors\"].value_counts()"
   ]
  },
  {
   "cell_type": "markdown",
   "id": "b3866a16",
   "metadata": {},
   "source": [
    "### 2. Убедитесь, что признаки `Area Type` и `Point of Contact` имеют только по три значения. Удалите строки с теми значениями, которые встречаются менее трёх раз. Оставшиеся значения замените на `0` и `1`. "
   ]
  },
  {
   "cell_type": "code",
   "execution_count": 6,
   "id": "552cdce2",
   "metadata": {},
   "outputs": [
    {
     "data": {
      "text/plain": [
       "Super Area     2446\n",
       "Carpet Area    2298\n",
       "Built Area        2\n",
       "Name: Area Type, dtype: int64"
      ]
     },
     "execution_count": 6,
     "metadata": {},
     "output_type": "execute_result"
    }
   ],
   "source": [
    "df[\"Area Type\"].value_counts()"
   ]
  },
  {
   "cell_type": "code",
   "execution_count": 7,
   "id": "81eb9494",
   "metadata": {},
   "outputs": [
    {
     "data": {
      "text/plain": [
       "Contact Owner      3216\n",
       "Contact Agent      1529\n",
       "Contact Builder       1\n",
       "Name: Point of Contact, dtype: int64"
      ]
     },
     "execution_count": 7,
     "metadata": {},
     "output_type": "execute_result"
    }
   ],
   "source": [
    "df[\"Point of Contact\"].value_counts()"
   ]
  },
  {
   "cell_type": "code",
   "execution_count": 8,
   "id": "b96c5b2d",
   "metadata": {},
   "outputs": [],
   "source": [
    "df.drop(df[df[\"Area Type\"] == \"Built Area\"].index, axis=0, inplace=True)\n",
    "df.drop(df[df[\"Point of Contact\"] == \"Contact Builder\"].index, axis=0, inplace=True)"
   ]
  },
  {
   "cell_type": "code",
   "execution_count": 9,
   "id": "a154beaa",
   "metadata": {},
   "outputs": [
    {
     "data": {
      "text/plain": [
       "Super Area     2445\n",
       "Carpet Area    2298\n",
       "Name: Area Type, dtype: int64"
      ]
     },
     "execution_count": 9,
     "metadata": {},
     "output_type": "execute_result"
    }
   ],
   "source": [
    "df[\"Area Type\"].value_counts()"
   ]
  },
  {
   "cell_type": "code",
   "execution_count": 10,
   "id": "5f260620",
   "metadata": {},
   "outputs": [
    {
     "data": {
      "text/plain": [
       "Contact Owner    3214\n",
       "Contact Agent    1529\n",
       "Name: Point of Contact, dtype: int64"
      ]
     },
     "execution_count": 10,
     "metadata": {},
     "output_type": "execute_result"
    }
   ],
   "source": [
    "df[\"Point of Contact\"].value_counts()"
   ]
  },
  {
   "cell_type": "code",
   "execution_count": 11,
   "id": "4d103d57",
   "metadata": {},
   "outputs": [],
   "source": [
    "df[\"Area Type\"] = df[\"Area Type\"].map({\"Super Area\": 0, \"Carpet Area\": 1})"
   ]
  },
  {
   "cell_type": "code",
   "execution_count": 12,
   "id": "4b1fa1ab",
   "metadata": {},
   "outputs": [],
   "source": [
    "df[\"Point of Contact\"] = df[\"Point of Contact\"].map({\"Contact Owner\": 0, \"Contact Agent\": 1})"
   ]
  },
  {
   "cell_type": "code",
   "execution_count": 13,
   "id": "5f64fbbb",
   "metadata": {},
   "outputs": [
    {
     "data": {
      "text/plain": [
       "0    2445\n",
       "1    2298\n",
       "Name: Area Type, dtype: int64"
      ]
     },
     "execution_count": 13,
     "metadata": {},
     "output_type": "execute_result"
    }
   ],
   "source": [
    "df[\"Area Type\"].value_counts()"
   ]
  },
  {
   "cell_type": "code",
   "execution_count": 14,
   "id": "f82b4e1d",
   "metadata": {},
   "outputs": [
    {
     "data": {
      "text/plain": [
       "0    3214\n",
       "1    1529\n",
       "Name: Point of Contact, dtype: int64"
      ]
     },
     "execution_count": 14,
     "metadata": {},
     "output_type": "execute_result"
    }
   ],
   "source": [
    "df[\"Point of Contact\"].value_counts()"
   ]
  },
  {
   "cell_type": "markdown",
   "id": "98a8910c",
   "metadata": {},
   "source": [
    "### 3. Определите, сколько значений имеет признак `City`. Сделайте из этого признака dummy переменные,т.е. замените этот признак на такое количество признаков, сколько значений он принимает, где в каждом новом признаке на месте его значения, стоят единицы, а остальные - нули."
   ]
  },
  {
   "cell_type": "code",
   "execution_count": 35,
   "id": "eb7a7f5e",
   "metadata": {},
   "outputs": [
    {
     "data": {
      "text/plain": [
       "Mumbai       972\n",
       "Chennai      891\n",
       "Bangalore    886\n",
       "Hyderabad    868\n",
       "Delhi        605\n",
       "Kolkata      524\n",
       "Name: City, dtype: int64"
      ]
     },
     "execution_count": 35,
     "metadata": {},
     "output_type": "execute_result"
    }
   ],
   "source": [
    "df[\"City\"].value_counts()"
   ]
  },
  {
   "cell_type": "code",
   "execution_count": 36,
   "id": "52d67e3b",
   "metadata": {},
   "outputs": [
    {
     "data": {
      "text/plain": [
       "0"
      ]
     },
     "execution_count": 36,
     "metadata": {},
     "output_type": "execute_result"
    }
   ],
   "source": [
    "df[\"City\"].isna().sum()"
   ]
  },
  {
   "cell_type": "code",
   "execution_count": 15,
   "id": "524c3368",
   "metadata": {},
   "outputs": [
    {
     "data": {
      "text/html": [
       "<div>\n",
       "<style scoped>\n",
       "    .dataframe tbody tr th:only-of-type {\n",
       "        vertical-align: middle;\n",
       "    }\n",
       "\n",
       "    .dataframe tbody tr th {\n",
       "        vertical-align: top;\n",
       "    }\n",
       "\n",
       "    .dataframe thead th {\n",
       "        text-align: right;\n",
       "    }\n",
       "</style>\n",
       "<table border=\"1\" class=\"dataframe\">\n",
       "  <thead>\n",
       "    <tr style=\"text-align: right;\">\n",
       "      <th></th>\n",
       "      <th>Posted On</th>\n",
       "      <th>BHK</th>\n",
       "      <th>Rent</th>\n",
       "      <th>Size</th>\n",
       "      <th>Floor</th>\n",
       "      <th>Area Type</th>\n",
       "      <th>Area Locality</th>\n",
       "      <th>Furnishing Status</th>\n",
       "      <th>Tenant Preferred</th>\n",
       "      <th>Bathroom</th>\n",
       "      <th>Point of Contact</th>\n",
       "      <th>Floor_number</th>\n",
       "      <th>Total_floors</th>\n",
       "      <th>City_Bangalore</th>\n",
       "      <th>City_Chennai</th>\n",
       "      <th>City_Delhi</th>\n",
       "      <th>City_Hyderabad</th>\n",
       "      <th>City_Kolkata</th>\n",
       "      <th>City_Mumbai</th>\n",
       "    </tr>\n",
       "  </thead>\n",
       "  <tbody>\n",
       "    <tr>\n",
       "      <th>0</th>\n",
       "      <td>2022-05-18</td>\n",
       "      <td>2</td>\n",
       "      <td>10000</td>\n",
       "      <td>1100</td>\n",
       "      <td>Ground out of 2</td>\n",
       "      <td>0</td>\n",
       "      <td>Bandel</td>\n",
       "      <td>Unfurnished</td>\n",
       "      <td>Bachelors/Family</td>\n",
       "      <td>2</td>\n",
       "      <td>0</td>\n",
       "      <td>0</td>\n",
       "      <td>2</td>\n",
       "      <td>0</td>\n",
       "      <td>0</td>\n",
       "      <td>0</td>\n",
       "      <td>0</td>\n",
       "      <td>1</td>\n",
       "      <td>0</td>\n",
       "    </tr>\n",
       "    <tr>\n",
       "      <th>1</th>\n",
       "      <td>2022-05-13</td>\n",
       "      <td>2</td>\n",
       "      <td>20000</td>\n",
       "      <td>800</td>\n",
       "      <td>1 out of 3</td>\n",
       "      <td>0</td>\n",
       "      <td>Phool Bagan, Kankurgachi</td>\n",
       "      <td>Semi-Furnished</td>\n",
       "      <td>Bachelors/Family</td>\n",
       "      <td>1</td>\n",
       "      <td>0</td>\n",
       "      <td>1</td>\n",
       "      <td>3</td>\n",
       "      <td>0</td>\n",
       "      <td>0</td>\n",
       "      <td>0</td>\n",
       "      <td>0</td>\n",
       "      <td>1</td>\n",
       "      <td>0</td>\n",
       "    </tr>\n",
       "    <tr>\n",
       "      <th>2</th>\n",
       "      <td>2022-05-16</td>\n",
       "      <td>2</td>\n",
       "      <td>17000</td>\n",
       "      <td>1000</td>\n",
       "      <td>1 out of 3</td>\n",
       "      <td>0</td>\n",
       "      <td>Salt Lake City Sector 2</td>\n",
       "      <td>Semi-Furnished</td>\n",
       "      <td>Bachelors/Family</td>\n",
       "      <td>1</td>\n",
       "      <td>0</td>\n",
       "      <td>1</td>\n",
       "      <td>3</td>\n",
       "      <td>0</td>\n",
       "      <td>0</td>\n",
       "      <td>0</td>\n",
       "      <td>0</td>\n",
       "      <td>1</td>\n",
       "      <td>0</td>\n",
       "    </tr>\n",
       "  </tbody>\n",
       "</table>\n",
       "</div>"
      ],
      "text/plain": [
       "    Posted On  BHK   Rent  Size            Floor  Area Type  \\\n",
       "0  2022-05-18    2  10000  1100  Ground out of 2          0   \n",
       "1  2022-05-13    2  20000   800       1 out of 3          0   \n",
       "2  2022-05-16    2  17000  1000       1 out of 3          0   \n",
       "\n",
       "              Area Locality Furnishing Status  Tenant Preferred  Bathroom  \\\n",
       "0                    Bandel       Unfurnished  Bachelors/Family         2   \n",
       "1  Phool Bagan, Kankurgachi    Semi-Furnished  Bachelors/Family         1   \n",
       "2   Salt Lake City Sector 2    Semi-Furnished  Bachelors/Family         1   \n",
       "\n",
       "   Point of Contact Floor_number Total_floors  City_Bangalore  City_Chennai  \\\n",
       "0                 0            0            2               0             0   \n",
       "1                 0            1            3               0             0   \n",
       "2                 0            1            3               0             0   \n",
       "\n",
       "   City_Delhi  City_Hyderabad  City_Kolkata  City_Mumbai  \n",
       "0           0               0             1            0  \n",
       "1           0               0             1            0  \n",
       "2           0               0             1            0  "
      ]
     },
     "execution_count": 15,
     "metadata": {},
     "output_type": "execute_result"
    }
   ],
   "source": [
    "df = pd.get_dummies(data=df, columns=[\"City\"])\n",
    "df.head(3)"
   ]
  },
  {
   "cell_type": "markdown",
   "id": "a21c7dc7",
   "metadata": {},
   "source": [
    "### 4.Замените признак `Furnishing Status` -\"статус мебелировки\" на числовой признак следующим образом. Замените статус \"без мебели\" на значение 0, \"частичная мебелировка\" на 1 и \"с мебелью\" на значение 2."
   ]
  },
  {
   "cell_type": "code",
   "execution_count": 16,
   "id": "e7ba8701",
   "metadata": {},
   "outputs": [
    {
     "data": {
      "text/plain": [
       "Semi-Furnished    2251\n",
       "Unfurnished       1813\n",
       "Furnished          679\n",
       "Name: Furnishing Status, dtype: int64"
      ]
     },
     "execution_count": 16,
     "metadata": {},
     "output_type": "execute_result"
    }
   ],
   "source": [
    "df[\"Furnishing Status\"].value_counts()"
   ]
  },
  {
   "cell_type": "code",
   "execution_count": 17,
   "id": "95b803f2",
   "metadata": {},
   "outputs": [],
   "source": [
    "df[\"Furnishing Status\"] = df[\"Furnishing Status\"].map({\"Unfurnished\": 0, \"Semi-Furnished\": 1, \"Furnished\": 2})"
   ]
  },
  {
   "cell_type": "code",
   "execution_count": 18,
   "id": "a81682da",
   "metadata": {},
   "outputs": [
    {
     "data": {
      "text/plain": [
       "1    2251\n",
       "0    1813\n",
       "2     679\n",
       "Name: Furnishing Status, dtype: int64"
      ]
     },
     "execution_count": 18,
     "metadata": {},
     "output_type": "execute_result"
    }
   ],
   "source": [
    "df[\"Furnishing Status\"].value_counts()"
   ]
  },
  {
   "cell_type": "markdown",
   "id": "9ae1f0fd",
   "metadata": {},
   "source": [
    "### 5. Признак `Tenant Preferred` замените на два числовых признака, похожим на dummy переменные образом. В первом из них, поставьте единицы там, где значение `Family` и `Bachelors/Family`, а на месте `Bachelors` - нули. Во втором наоборот, единицы там, где `Bachelors` и `Bachelors/Family`, а на месте `Family` - нули."
   ]
  },
  {
   "cell_type": "code",
   "execution_count": 19,
   "id": "4f3bc6a0",
   "metadata": {},
   "outputs": [
    {
     "data": {
      "text/plain": [
       "Bachelors/Family    3441\n",
       "Bachelors            830\n",
       "Family               472\n",
       "Name: Tenant Preferred, dtype: int64"
      ]
     },
     "execution_count": 19,
     "metadata": {},
     "output_type": "execute_result"
    }
   ],
   "source": [
    "df[\"Tenant Preferred\"].value_counts()"
   ]
  },
  {
   "cell_type": "code",
   "execution_count": 21,
   "id": "21d18d8b",
   "metadata": {},
   "outputs": [],
   "source": [
    "df[\"Tenant Preferred Family\"] = 0\n",
    "df[\"Tenant Preferred Bachelors\"] = 0\n",
    "\n",
    "df.loc[(df[\"Tenant Preferred\"] == \"Family\") | (df[\"Tenant Preferred\"] == \"Bachelors/Family\"), \"Tenant Preferred Family\"] = 1\n",
    "df.loc[(df[\"Tenant Preferred\"] == \"Bachelors\") | (df[\"Tenant Preferred\"] == \"Bachelors/Family\"), \"Tenant Preferred Bachelors\"] = 1\n"
   ]
  },
  {
   "cell_type": "code",
   "execution_count": 22,
   "id": "f4806734",
   "metadata": {},
   "outputs": [
    {
     "data": {
      "text/plain": [
       "1    3913\n",
       "0     830\n",
       "Name: Tenant Preferred Family, dtype: int64"
      ]
     },
     "execution_count": 22,
     "metadata": {},
     "output_type": "execute_result"
    }
   ],
   "source": [
    "df[\"Tenant Preferred Family\"].value_counts()"
   ]
  },
  {
   "cell_type": "code",
   "execution_count": 23,
   "id": "1ff35392",
   "metadata": {},
   "outputs": [
    {
     "data": {
      "text/plain": [
       "1    4271\n",
       "0     472\n",
       "Name: Tenant Preferred Bachelors, dtype: int64"
      ]
     },
     "execution_count": 23,
     "metadata": {},
     "output_type": "execute_result"
    }
   ],
   "source": [
    "df[\"Tenant Preferred Bachelors\"].value_counts()"
   ]
  },
  {
   "cell_type": "code",
   "execution_count": 34,
   "id": "a97c3823",
   "metadata": {},
   "outputs": [],
   "source": [
    "df.drop(columns=[\"Tenant Preferred\"], inplace=True)"
   ]
  },
  {
   "cell_type": "markdown",
   "id": "15dd9b70",
   "metadata": {},
   "source": [
    "### 6. В дате `Posted On` оставьте только номер месяца, в котором размещено объявление о сдаче в аренду."
   ]
  },
  {
   "cell_type": "code",
   "execution_count": 29,
   "id": "7b229d9a",
   "metadata": {},
   "outputs": [],
   "source": [
    "df.loc[:, \"Posted On\"] = df[\"Posted On\"].str[5:7]"
   ]
  },
  {
   "cell_type": "code",
   "execution_count": 30,
   "id": "59273b5b",
   "metadata": {
    "scrolled": true
   },
   "outputs": [
    {
     "data": {
      "text/html": [
       "<div>\n",
       "<style scoped>\n",
       "    .dataframe tbody tr th:only-of-type {\n",
       "        vertical-align: middle;\n",
       "    }\n",
       "\n",
       "    .dataframe tbody tr th {\n",
       "        vertical-align: top;\n",
       "    }\n",
       "\n",
       "    .dataframe thead th {\n",
       "        text-align: right;\n",
       "    }\n",
       "</style>\n",
       "<table border=\"1\" class=\"dataframe\">\n",
       "  <thead>\n",
       "    <tr style=\"text-align: right;\">\n",
       "      <th></th>\n",
       "      <th>Posted On</th>\n",
       "      <th>BHK</th>\n",
       "      <th>Rent</th>\n",
       "      <th>Size</th>\n",
       "      <th>Floor</th>\n",
       "      <th>Area Type</th>\n",
       "      <th>Area Locality</th>\n",
       "      <th>Furnishing Status</th>\n",
       "      <th>Tenant Preferred</th>\n",
       "      <th>Bathroom</th>\n",
       "      <th>...</th>\n",
       "      <th>Floor_number</th>\n",
       "      <th>Total_floors</th>\n",
       "      <th>City_Bangalore</th>\n",
       "      <th>City_Chennai</th>\n",
       "      <th>City_Delhi</th>\n",
       "      <th>City_Hyderabad</th>\n",
       "      <th>City_Kolkata</th>\n",
       "      <th>City_Mumbai</th>\n",
       "      <th>Tenant Preferred Family</th>\n",
       "      <th>Tenant Preferred Bachelors</th>\n",
       "    </tr>\n",
       "  </thead>\n",
       "  <tbody>\n",
       "    <tr>\n",
       "      <th>0</th>\n",
       "      <td>05</td>\n",
       "      <td>2</td>\n",
       "      <td>10000</td>\n",
       "      <td>1100</td>\n",
       "      <td>Ground out of 2</td>\n",
       "      <td>0</td>\n",
       "      <td>Bandel</td>\n",
       "      <td>0</td>\n",
       "      <td>Bachelors/Family</td>\n",
       "      <td>2</td>\n",
       "      <td>...</td>\n",
       "      <td>0</td>\n",
       "      <td>2</td>\n",
       "      <td>0</td>\n",
       "      <td>0</td>\n",
       "      <td>0</td>\n",
       "      <td>0</td>\n",
       "      <td>1</td>\n",
       "      <td>0</td>\n",
       "      <td>1</td>\n",
       "      <td>1</td>\n",
       "    </tr>\n",
       "    <tr>\n",
       "      <th>1</th>\n",
       "      <td>05</td>\n",
       "      <td>2</td>\n",
       "      <td>20000</td>\n",
       "      <td>800</td>\n",
       "      <td>1 out of 3</td>\n",
       "      <td>0</td>\n",
       "      <td>Phool Bagan, Kankurgachi</td>\n",
       "      <td>1</td>\n",
       "      <td>Bachelors/Family</td>\n",
       "      <td>1</td>\n",
       "      <td>...</td>\n",
       "      <td>1</td>\n",
       "      <td>3</td>\n",
       "      <td>0</td>\n",
       "      <td>0</td>\n",
       "      <td>0</td>\n",
       "      <td>0</td>\n",
       "      <td>1</td>\n",
       "      <td>0</td>\n",
       "      <td>1</td>\n",
       "      <td>1</td>\n",
       "    </tr>\n",
       "    <tr>\n",
       "      <th>2</th>\n",
       "      <td>05</td>\n",
       "      <td>2</td>\n",
       "      <td>17000</td>\n",
       "      <td>1000</td>\n",
       "      <td>1 out of 3</td>\n",
       "      <td>0</td>\n",
       "      <td>Salt Lake City Sector 2</td>\n",
       "      <td>1</td>\n",
       "      <td>Bachelors/Family</td>\n",
       "      <td>1</td>\n",
       "      <td>...</td>\n",
       "      <td>1</td>\n",
       "      <td>3</td>\n",
       "      <td>0</td>\n",
       "      <td>0</td>\n",
       "      <td>0</td>\n",
       "      <td>0</td>\n",
       "      <td>1</td>\n",
       "      <td>0</td>\n",
       "      <td>1</td>\n",
       "      <td>1</td>\n",
       "    </tr>\n",
       "    <tr>\n",
       "      <th>3</th>\n",
       "      <td>07</td>\n",
       "      <td>2</td>\n",
       "      <td>10000</td>\n",
       "      <td>800</td>\n",
       "      <td>1 out of 2</td>\n",
       "      <td>0</td>\n",
       "      <td>Dumdum Park</td>\n",
       "      <td>0</td>\n",
       "      <td>Bachelors/Family</td>\n",
       "      <td>1</td>\n",
       "      <td>...</td>\n",
       "      <td>1</td>\n",
       "      <td>2</td>\n",
       "      <td>0</td>\n",
       "      <td>0</td>\n",
       "      <td>0</td>\n",
       "      <td>0</td>\n",
       "      <td>1</td>\n",
       "      <td>0</td>\n",
       "      <td>1</td>\n",
       "      <td>1</td>\n",
       "    </tr>\n",
       "    <tr>\n",
       "      <th>4</th>\n",
       "      <td>05</td>\n",
       "      <td>2</td>\n",
       "      <td>7500</td>\n",
       "      <td>850</td>\n",
       "      <td>1 out of 2</td>\n",
       "      <td>1</td>\n",
       "      <td>South Dum Dum</td>\n",
       "      <td>0</td>\n",
       "      <td>Bachelors</td>\n",
       "      <td>1</td>\n",
       "      <td>...</td>\n",
       "      <td>1</td>\n",
       "      <td>2</td>\n",
       "      <td>0</td>\n",
       "      <td>0</td>\n",
       "      <td>0</td>\n",
       "      <td>0</td>\n",
       "      <td>1</td>\n",
       "      <td>0</td>\n",
       "      <td>0</td>\n",
       "      <td>1</td>\n",
       "    </tr>\n",
       "  </tbody>\n",
       "</table>\n",
       "<p>5 rows × 21 columns</p>\n",
       "</div>"
      ],
      "text/plain": [
       "  Posted On  BHK   Rent  Size            Floor  Area Type  \\\n",
       "0        05    2  10000  1100  Ground out of 2          0   \n",
       "1        05    2  20000   800       1 out of 3          0   \n",
       "2        05    2  17000  1000       1 out of 3          0   \n",
       "3        07    2  10000   800       1 out of 2          0   \n",
       "4        05    2   7500   850       1 out of 2          1   \n",
       "\n",
       "              Area Locality  Furnishing Status  Tenant Preferred  Bathroom  \\\n",
       "0                    Bandel                  0  Bachelors/Family         2   \n",
       "1  Phool Bagan, Kankurgachi                  1  Bachelors/Family         1   \n",
       "2   Salt Lake City Sector 2                  1  Bachelors/Family         1   \n",
       "3               Dumdum Park                  0  Bachelors/Family         1   \n",
       "4             South Dum Dum                  0         Bachelors         1   \n",
       "\n",
       "   ...  Floor_number Total_floors City_Bangalore  City_Chennai  City_Delhi  \\\n",
       "0  ...             0            2              0             0           0   \n",
       "1  ...             1            3              0             0           0   \n",
       "2  ...             1            3              0             0           0   \n",
       "3  ...             1            2              0             0           0   \n",
       "4  ...             1            2              0             0           0   \n",
       "\n",
       "   City_Hyderabad  City_Kolkata  City_Mumbai  Tenant Preferred Family  \\\n",
       "0               0             1            0                        1   \n",
       "1               0             1            0                        1   \n",
       "2               0             1            0                        1   \n",
       "3               0             1            0                        1   \n",
       "4               0             1            0                        0   \n",
       "\n",
       "   Tenant Preferred Bachelors  \n",
       "0                           1  \n",
       "1                           1  \n",
       "2                           1  \n",
       "3                           1  \n",
       "4                           1  \n",
       "\n",
       "[5 rows x 21 columns]"
      ]
     },
     "execution_count": 30,
     "metadata": {},
     "output_type": "execute_result"
    }
   ],
   "source": [
    "df.head(5)"
   ]
  },
  {
   "cell_type": "code",
   "execution_count": 43,
   "id": "dc6920a0",
   "metadata": {},
   "outputs": [],
   "source": [
    "df[\"Posted On\"] = df[\"Posted On\"].astype(int)"
   ]
  },
  {
   "cell_type": "code",
   "execution_count": 44,
   "id": "e1fe1ed3",
   "metadata": {},
   "outputs": [
    {
     "data": {
      "text/plain": [
       "Posted On                      int64\n",
       "BHK                            int64\n",
       "Rent                           int64\n",
       "Size                           int64\n",
       "Area Type                      int64\n",
       "Furnishing Status              int64\n",
       "Bathroom                       int64\n",
       "Point of Contact               int64\n",
       "Floor_number                  object\n",
       "Total_floors                  object\n",
       "City_Bangalore                 uint8\n",
       "City_Chennai                   uint8\n",
       "City_Delhi                     uint8\n",
       "City_Hyderabad                 uint8\n",
       "City_Kolkata                   uint8\n",
       "City_Mumbai                    uint8\n",
       "Tenant Preferred Family        int64\n",
       "Tenant Preferred Bachelors     int64\n",
       "dtype: object"
      ]
     },
     "execution_count": 44,
     "metadata": {},
     "output_type": "execute_result"
    }
   ],
   "source": [
    "df.dtypes"
   ]
  },
  {
   "cell_type": "markdown",
   "id": "1dc1340a",
   "metadata": {},
   "source": [
    "### 7. Удалите признак `Area Locality`."
   ]
  },
  {
   "cell_type": "code",
   "execution_count": 32,
   "id": "29cbb84e",
   "metadata": {},
   "outputs": [],
   "source": [
    "df.drop(columns=[\"Area Locality\"], inplace=True)"
   ]
  },
  {
   "cell_type": "markdown",
   "id": "f204e35b",
   "metadata": {},
   "source": [
    "### 8. Сохраните полученный датасет и выведете его."
   ]
  },
  {
   "cell_type": "code",
   "execution_count": 36,
   "id": "363aff42",
   "metadata": {},
   "outputs": [],
   "source": [
    "df.drop(columns=[\"Floor\"], inplace=True)"
   ]
  },
  {
   "cell_type": "code",
   "execution_count": 37,
   "id": "b4df4f3b",
   "metadata": {
    "scrolled": true
   },
   "outputs": [
    {
     "data": {
      "text/html": [
       "<div>\n",
       "<style scoped>\n",
       "    .dataframe tbody tr th:only-of-type {\n",
       "        vertical-align: middle;\n",
       "    }\n",
       "\n",
       "    .dataframe tbody tr th {\n",
       "        vertical-align: top;\n",
       "    }\n",
       "\n",
       "    .dataframe thead th {\n",
       "        text-align: right;\n",
       "    }\n",
       "</style>\n",
       "<table border=\"1\" class=\"dataframe\">\n",
       "  <thead>\n",
       "    <tr style=\"text-align: right;\">\n",
       "      <th></th>\n",
       "      <th>Posted On</th>\n",
       "      <th>BHK</th>\n",
       "      <th>Rent</th>\n",
       "      <th>Size</th>\n",
       "      <th>Area Type</th>\n",
       "      <th>Furnishing Status</th>\n",
       "      <th>Bathroom</th>\n",
       "      <th>Point of Contact</th>\n",
       "      <th>Floor_number</th>\n",
       "      <th>Total_floors</th>\n",
       "      <th>City_Bangalore</th>\n",
       "      <th>City_Chennai</th>\n",
       "      <th>City_Delhi</th>\n",
       "      <th>City_Hyderabad</th>\n",
       "      <th>City_Kolkata</th>\n",
       "      <th>City_Mumbai</th>\n",
       "      <th>Tenant Preferred Family</th>\n",
       "      <th>Tenant Preferred Bachelors</th>\n",
       "    </tr>\n",
       "  </thead>\n",
       "  <tbody>\n",
       "    <tr>\n",
       "      <th>0</th>\n",
       "      <td>05</td>\n",
       "      <td>2</td>\n",
       "      <td>10000</td>\n",
       "      <td>1100</td>\n",
       "      <td>0</td>\n",
       "      <td>0</td>\n",
       "      <td>2</td>\n",
       "      <td>0</td>\n",
       "      <td>0</td>\n",
       "      <td>2</td>\n",
       "      <td>0</td>\n",
       "      <td>0</td>\n",
       "      <td>0</td>\n",
       "      <td>0</td>\n",
       "      <td>1</td>\n",
       "      <td>0</td>\n",
       "      <td>1</td>\n",
       "      <td>1</td>\n",
       "    </tr>\n",
       "    <tr>\n",
       "      <th>1</th>\n",
       "      <td>05</td>\n",
       "      <td>2</td>\n",
       "      <td>20000</td>\n",
       "      <td>800</td>\n",
       "      <td>0</td>\n",
       "      <td>1</td>\n",
       "      <td>1</td>\n",
       "      <td>0</td>\n",
       "      <td>1</td>\n",
       "      <td>3</td>\n",
       "      <td>0</td>\n",
       "      <td>0</td>\n",
       "      <td>0</td>\n",
       "      <td>0</td>\n",
       "      <td>1</td>\n",
       "      <td>0</td>\n",
       "      <td>1</td>\n",
       "      <td>1</td>\n",
       "    </tr>\n",
       "    <tr>\n",
       "      <th>2</th>\n",
       "      <td>05</td>\n",
       "      <td>2</td>\n",
       "      <td>17000</td>\n",
       "      <td>1000</td>\n",
       "      <td>0</td>\n",
       "      <td>1</td>\n",
       "      <td>1</td>\n",
       "      <td>0</td>\n",
       "      <td>1</td>\n",
       "      <td>3</td>\n",
       "      <td>0</td>\n",
       "      <td>0</td>\n",
       "      <td>0</td>\n",
       "      <td>0</td>\n",
       "      <td>1</td>\n",
       "      <td>0</td>\n",
       "      <td>1</td>\n",
       "      <td>1</td>\n",
       "    </tr>\n",
       "    <tr>\n",
       "      <th>3</th>\n",
       "      <td>07</td>\n",
       "      <td>2</td>\n",
       "      <td>10000</td>\n",
       "      <td>800</td>\n",
       "      <td>0</td>\n",
       "      <td>0</td>\n",
       "      <td>1</td>\n",
       "      <td>0</td>\n",
       "      <td>1</td>\n",
       "      <td>2</td>\n",
       "      <td>0</td>\n",
       "      <td>0</td>\n",
       "      <td>0</td>\n",
       "      <td>0</td>\n",
       "      <td>1</td>\n",
       "      <td>0</td>\n",
       "      <td>1</td>\n",
       "      <td>1</td>\n",
       "    </tr>\n",
       "    <tr>\n",
       "      <th>4</th>\n",
       "      <td>05</td>\n",
       "      <td>2</td>\n",
       "      <td>7500</td>\n",
       "      <td>850</td>\n",
       "      <td>1</td>\n",
       "      <td>0</td>\n",
       "      <td>1</td>\n",
       "      <td>0</td>\n",
       "      <td>1</td>\n",
       "      <td>2</td>\n",
       "      <td>0</td>\n",
       "      <td>0</td>\n",
       "      <td>0</td>\n",
       "      <td>0</td>\n",
       "      <td>1</td>\n",
       "      <td>0</td>\n",
       "      <td>0</td>\n",
       "      <td>1</td>\n",
       "    </tr>\n",
       "    <tr>\n",
       "      <th>...</th>\n",
       "      <td>...</td>\n",
       "      <td>...</td>\n",
       "      <td>...</td>\n",
       "      <td>...</td>\n",
       "      <td>...</td>\n",
       "      <td>...</td>\n",
       "      <td>...</td>\n",
       "      <td>...</td>\n",
       "      <td>...</td>\n",
       "      <td>...</td>\n",
       "      <td>...</td>\n",
       "      <td>...</td>\n",
       "      <td>...</td>\n",
       "      <td>...</td>\n",
       "      <td>...</td>\n",
       "      <td>...</td>\n",
       "      <td>...</td>\n",
       "      <td>...</td>\n",
       "    </tr>\n",
       "    <tr>\n",
       "      <th>4741</th>\n",
       "      <td>05</td>\n",
       "      <td>2</td>\n",
       "      <td>15000</td>\n",
       "      <td>1000</td>\n",
       "      <td>1</td>\n",
       "      <td>1</td>\n",
       "      <td>2</td>\n",
       "      <td>0</td>\n",
       "      <td>3</td>\n",
       "      <td>5</td>\n",
       "      <td>0</td>\n",
       "      <td>0</td>\n",
       "      <td>0</td>\n",
       "      <td>1</td>\n",
       "      <td>0</td>\n",
       "      <td>0</td>\n",
       "      <td>1</td>\n",
       "      <td>1</td>\n",
       "    </tr>\n",
       "    <tr>\n",
       "      <th>4742</th>\n",
       "      <td>05</td>\n",
       "      <td>3</td>\n",
       "      <td>29000</td>\n",
       "      <td>2000</td>\n",
       "      <td>0</td>\n",
       "      <td>1</td>\n",
       "      <td>3</td>\n",
       "      <td>0</td>\n",
       "      <td>1</td>\n",
       "      <td>4</td>\n",
       "      <td>0</td>\n",
       "      <td>0</td>\n",
       "      <td>0</td>\n",
       "      <td>1</td>\n",
       "      <td>0</td>\n",
       "      <td>0</td>\n",
       "      <td>1</td>\n",
       "      <td>1</td>\n",
       "    </tr>\n",
       "    <tr>\n",
       "      <th>4743</th>\n",
       "      <td>07</td>\n",
       "      <td>3</td>\n",
       "      <td>35000</td>\n",
       "      <td>1750</td>\n",
       "      <td>1</td>\n",
       "      <td>1</td>\n",
       "      <td>3</td>\n",
       "      <td>1</td>\n",
       "      <td>3</td>\n",
       "      <td>5</td>\n",
       "      <td>0</td>\n",
       "      <td>0</td>\n",
       "      <td>0</td>\n",
       "      <td>1</td>\n",
       "      <td>0</td>\n",
       "      <td>0</td>\n",
       "      <td>1</td>\n",
       "      <td>1</td>\n",
       "    </tr>\n",
       "    <tr>\n",
       "      <th>4744</th>\n",
       "      <td>07</td>\n",
       "      <td>3</td>\n",
       "      <td>45000</td>\n",
       "      <td>1500</td>\n",
       "      <td>1</td>\n",
       "      <td>1</td>\n",
       "      <td>2</td>\n",
       "      <td>1</td>\n",
       "      <td>23</td>\n",
       "      <td>34</td>\n",
       "      <td>0</td>\n",
       "      <td>0</td>\n",
       "      <td>0</td>\n",
       "      <td>1</td>\n",
       "      <td>0</td>\n",
       "      <td>0</td>\n",
       "      <td>1</td>\n",
       "      <td>0</td>\n",
       "    </tr>\n",
       "    <tr>\n",
       "      <th>4745</th>\n",
       "      <td>05</td>\n",
       "      <td>2</td>\n",
       "      <td>15000</td>\n",
       "      <td>1000</td>\n",
       "      <td>1</td>\n",
       "      <td>0</td>\n",
       "      <td>2</td>\n",
       "      <td>0</td>\n",
       "      <td>4</td>\n",
       "      <td>5</td>\n",
       "      <td>0</td>\n",
       "      <td>0</td>\n",
       "      <td>0</td>\n",
       "      <td>1</td>\n",
       "      <td>0</td>\n",
       "      <td>0</td>\n",
       "      <td>0</td>\n",
       "      <td>1</td>\n",
       "    </tr>\n",
       "  </tbody>\n",
       "</table>\n",
       "<p>4743 rows × 18 columns</p>\n",
       "</div>"
      ],
      "text/plain": [
       "     Posted On  BHK   Rent  Size  Area Type  Furnishing Status  Bathroom  \\\n",
       "0           05    2  10000  1100          0                  0         2   \n",
       "1           05    2  20000   800          0                  1         1   \n",
       "2           05    2  17000  1000          0                  1         1   \n",
       "3           07    2  10000   800          0                  0         1   \n",
       "4           05    2   7500   850          1                  0         1   \n",
       "...        ...  ...    ...   ...        ...                ...       ...   \n",
       "4741        05    2  15000  1000          1                  1         2   \n",
       "4742        05    3  29000  2000          0                  1         3   \n",
       "4743        07    3  35000  1750          1                  1         3   \n",
       "4744        07    3  45000  1500          1                  1         2   \n",
       "4745        05    2  15000  1000          1                  0         2   \n",
       "\n",
       "      Point of Contact Floor_number Total_floors  City_Bangalore  \\\n",
       "0                    0            0            2               0   \n",
       "1                    0            1            3               0   \n",
       "2                    0            1            3               0   \n",
       "3                    0            1            2               0   \n",
       "4                    0            1            2               0   \n",
       "...                ...          ...          ...             ...   \n",
       "4741                 0            3            5               0   \n",
       "4742                 0            1            4               0   \n",
       "4743                 1            3            5               0   \n",
       "4744                 1           23           34               0   \n",
       "4745                 0            4            5               0   \n",
       "\n",
       "      City_Chennai  City_Delhi  City_Hyderabad  City_Kolkata  City_Mumbai  \\\n",
       "0                0           0               0             1            0   \n",
       "1                0           0               0             1            0   \n",
       "2                0           0               0             1            0   \n",
       "3                0           0               0             1            0   \n",
       "4                0           0               0             1            0   \n",
       "...            ...         ...             ...           ...          ...   \n",
       "4741             0           0               1             0            0   \n",
       "4742             0           0               1             0            0   \n",
       "4743             0           0               1             0            0   \n",
       "4744             0           0               1             0            0   \n",
       "4745             0           0               1             0            0   \n",
       "\n",
       "      Tenant Preferred Family  Tenant Preferred Bachelors  \n",
       "0                           1                           1  \n",
       "1                           1                           1  \n",
       "2                           1                           1  \n",
       "3                           1                           1  \n",
       "4                           0                           1  \n",
       "...                       ...                         ...  \n",
       "4741                        1                           1  \n",
       "4742                        1                           1  \n",
       "4743                        1                           1  \n",
       "4744                        1                           0  \n",
       "4745                        0                           1  \n",
       "\n",
       "[4743 rows x 18 columns]"
      ]
     },
     "execution_count": 37,
     "metadata": {},
     "output_type": "execute_result"
    }
   ],
   "source": [
    "df"
   ]
  }
 ],
 "metadata": {
  "kernelspec": {
   "display_name": "Python 3 (ipykernel)",
   "language": "python",
   "name": "python3"
  },
  "language_info": {
   "codemirror_mode": {
    "name": "ipython",
    "version": 3
   },
   "file_extension": ".py",
   "mimetype": "text/x-python",
   "name": "python",
   "nbconvert_exporter": "python",
   "pygments_lexer": "ipython3",
   "version": "3.10.0"
  }
 },
 "nbformat": 4,
 "nbformat_minor": 5
}
