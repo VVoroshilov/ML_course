{
 "cells": [
  {
   "cell_type": "markdown",
   "id": "50ac865f",
   "metadata": {},
   "source": [
    "# Семинар 11\n",
    "## Предобработка данных\n",
    "### Ворошилов Владислав\n",
    "### Группа: ПИ20-3"
   ]
  },
  {
   "cell_type": "code",
   "execution_count": 1,
   "id": "ec0e67ab",
   "metadata": {},
   "outputs": [],
   "source": [
    "import numpy as np\n",
    "import pandas as pd\n",
    "import random\n",
    "import seaborn as sns\n",
    "import matplotlib.pyplot as plt"
   ]
  },
  {
   "cell_type": "markdown",
   "id": "5b6d17e5",
   "metadata": {},
   "source": [
    "### 1. Загрузите и прочитайте в pandas приложенный датасет. Обратите внимание, что датасет собран «криво», поэтому прежде чем он «правильно» загрузится (рис.1), необходимо его обработать."
   ]
  },
  {
   "cell_type": "code",
   "execution_count": 2,
   "id": "d6ba44d0",
   "metadata": {},
   "outputs": [
    {
     "data": {
      "text/html": [
       "<div>\n",
       "<style scoped>\n",
       "    .dataframe tbody tr th:only-of-type {\n",
       "        vertical-align: middle;\n",
       "    }\n",
       "\n",
       "    .dataframe tbody tr th {\n",
       "        vertical-align: top;\n",
       "    }\n",
       "\n",
       "    .dataframe thead th {\n",
       "        text-align: right;\n",
       "    }\n",
       "</style>\n",
       "<table border=\"1\" class=\"dataframe\">\n",
       "  <thead>\n",
       "    <tr style=\"text-align: right;\">\n",
       "      <th></th>\n",
       "      <th>dateCrawled</th>\n",
       "      <th>name</th>\n",
       "      <th>seller</th>\n",
       "      <th>offerType</th>\n",
       "      <th>price</th>\n",
       "      <th>abtest</th>\n",
       "      <th>vehicleType</th>\n",
       "      <th>yearOfRegistration</th>\n",
       "      <th>gearbox</th>\n",
       "      <th>powerPS</th>\n",
       "      <th>model</th>\n",
       "      <th>kilometer</th>\n",
       "      <th>monthOfRegistration</th>\n",
       "      <th>fuelType</th>\n",
       "      <th>brand</th>\n",
       "      <th>notRepairedDamage</th>\n",
       "      <th>dateCreated</th>\n",
       "      <th>postalCode</th>\n",
       "      <th>lastSeen</th>\n",
       "    </tr>\n",
       "  </thead>\n",
       "  <tbody>\n",
       "    <tr>\n",
       "      <th>0</th>\n",
       "      <td>30/03/2016 13:51</td>\n",
       "      <td>Zu_verkaufen</td>\n",
       "      <td>private</td>\n",
       "      <td>offer</td>\n",
       "      <td>4450</td>\n",
       "      <td>test</td>\n",
       "      <td>limousine</td>\n",
       "      <td>2003</td>\n",
       "      <td>manual</td>\n",
       "      <td>150</td>\n",
       "      <td>3er</td>\n",
       "      <td>150000</td>\n",
       "      <td>3</td>\n",
       "      <td>diesel</td>\n",
       "      <td>bmw</td>\n",
       "      <td>NaN</td>\n",
       "      <td>30/03/2016 0:00</td>\n",
       "      <td>20257</td>\n",
       "      <td>7/4/2016 4:44</td>\n",
       "    </tr>\n",
       "    <tr>\n",
       "      <th>1</th>\n",
       "      <td>7/3/2016 9:54</td>\n",
       "      <td>Volvo_XC90_2.4D_Summum</td>\n",
       "      <td>private</td>\n",
       "      <td>offer</td>\n",
       "      <td>13299</td>\n",
       "      <td>control</td>\n",
       "      <td>suv</td>\n",
       "      <td>2005</td>\n",
       "      <td>manual</td>\n",
       "      <td>163</td>\n",
       "      <td>xc_reihe</td>\n",
       "      <td>150000</td>\n",
       "      <td>6</td>\n",
       "      <td>diesel</td>\n",
       "      <td>volvo</td>\n",
       "      <td>no</td>\n",
       "      <td>7/3/2016 0:00</td>\n",
       "      <td>88045</td>\n",
       "      <td>26/03/2016 13:17</td>\n",
       "    </tr>\n",
       "    <tr>\n",
       "      <th>2</th>\n",
       "      <td>1/4/2016 0:57</td>\n",
       "      <td>Volkswagen_Touran</td>\n",
       "      <td>private</td>\n",
       "      <td>offer</td>\n",
       "      <td>3200</td>\n",
       "      <td>test</td>\n",
       "      <td>bus</td>\n",
       "      <td>2003</td>\n",
       "      <td>manual</td>\n",
       "      <td>101</td>\n",
       "      <td>touran</td>\n",
       "      <td>150000</td>\n",
       "      <td>11</td>\n",
       "      <td>diesel</td>\n",
       "      <td>volkswagen</td>\n",
       "      <td>NaN</td>\n",
       "      <td>31/03/2016 0:00</td>\n",
       "      <td>27449</td>\n",
       "      <td>1/4/2016 8:40</td>\n",
       "    </tr>\n",
       "    <tr>\n",
       "      <th>3</th>\n",
       "      <td>19/03/2016 17:50</td>\n",
       "      <td>Seat_Ibiza_1.4_16V_Reference</td>\n",
       "      <td>private</td>\n",
       "      <td>offer</td>\n",
       "      <td>4500</td>\n",
       "      <td>control</td>\n",
       "      <td>small car</td>\n",
       "      <td>2006</td>\n",
       "      <td>manual</td>\n",
       "      <td>86</td>\n",
       "      <td>ibiza</td>\n",
       "      <td>60000</td>\n",
       "      <td>12</td>\n",
       "      <td>petrol</td>\n",
       "      <td>seat</td>\n",
       "      <td>no</td>\n",
       "      <td>19/03/2016 0:00</td>\n",
       "      <td>34537</td>\n",
       "      <td>7/4/2016 4:44</td>\n",
       "    </tr>\n",
       "    <tr>\n",
       "      <th>4</th>\n",
       "      <td>16/03/2016 14:51</td>\n",
       "      <td>Volvo_XC90_D5_Aut._RDesign_R_Design_AWD_GSHD_S...</td>\n",
       "      <td>private</td>\n",
       "      <td>offer</td>\n",
       "      <td>18750</td>\n",
       "      <td>test</td>\n",
       "      <td>suv</td>\n",
       "      <td>2008</td>\n",
       "      <td>automatic</td>\n",
       "      <td>185</td>\n",
       "      <td>xc_reihe</td>\n",
       "      <td>150000</td>\n",
       "      <td>11</td>\n",
       "      <td>diesel</td>\n",
       "      <td>volvo</td>\n",
       "      <td>no</td>\n",
       "      <td>16/03/2016 0:00</td>\n",
       "      <td>55270</td>\n",
       "      <td>1/4/2016 23:18</td>\n",
       "    </tr>\n",
       "    <tr>\n",
       "      <th>...</th>\n",
       "      <td>...</td>\n",
       "      <td>...</td>\n",
       "      <td>...</td>\n",
       "      <td>...</td>\n",
       "      <td>...</td>\n",
       "      <td>...</td>\n",
       "      <td>...</td>\n",
       "      <td>...</td>\n",
       "      <td>...</td>\n",
       "      <td>...</td>\n",
       "      <td>...</td>\n",
       "      <td>...</td>\n",
       "      <td>...</td>\n",
       "      <td>...</td>\n",
       "      <td>...</td>\n",
       "      <td>...</td>\n",
       "      <td>...</td>\n",
       "      <td>...</td>\n",
       "      <td>...</td>\n",
       "    </tr>\n",
       "    <tr>\n",
       "      <th>49996</th>\n",
       "      <td>3/4/2016 15:48</td>\n",
       "      <td>Suche_VW_T5_Multivan</td>\n",
       "      <td>private</td>\n",
       "      <td>request</td>\n",
       "      <td>0</td>\n",
       "      <td>test</td>\n",
       "      <td>bus</td>\n",
       "      <td>2005</td>\n",
       "      <td>NaN</td>\n",
       "      <td>0</td>\n",
       "      <td>transporter</td>\n",
       "      <td>150000</td>\n",
       "      <td>0</td>\n",
       "      <td>NaN</td>\n",
       "      <td>volkswagen</td>\n",
       "      <td>NaN</td>\n",
       "      <td>3/4/2016 0:00</td>\n",
       "      <td>29690</td>\n",
       "      <td>5/4/2016 15:16</td>\n",
       "    </tr>\n",
       "    <tr>\n",
       "      <th>49997</th>\n",
       "      <td>27/03/2016 14:55</td>\n",
       "      <td>Suche_einen_originalen_VW_Golf_2_Fire_and_Ice_G60</td>\n",
       "      <td>private</td>\n",
       "      <td>request</td>\n",
       "      <td>19999</td>\n",
       "      <td>control</td>\n",
       "      <td>NaN</td>\n",
       "      <td>1990</td>\n",
       "      <td>NaN</td>\n",
       "      <td>0</td>\n",
       "      <td>golf</td>\n",
       "      <td>5000</td>\n",
       "      <td>0</td>\n",
       "      <td>NaN</td>\n",
       "      <td>volkswagen</td>\n",
       "      <td>NaN</td>\n",
       "      <td>27/03/2016 0:00</td>\n",
       "      <td>50181</td>\n",
       "      <td>7/4/2016 11:45</td>\n",
       "    </tr>\n",
       "    <tr>\n",
       "      <th>49998</th>\n",
       "      <td>14/03/2016 18:51</td>\n",
       "      <td>[SUCHE]_BMW_e46_Coupe_330ci_M_Paket_Facelift__...</td>\n",
       "      <td>private</td>\n",
       "      <td>request</td>\n",
       "      <td>0</td>\n",
       "      <td>test</td>\n",
       "      <td>coupe</td>\n",
       "      <td>2004</td>\n",
       "      <td>manual</td>\n",
       "      <td>0</td>\n",
       "      <td>3er</td>\n",
       "      <td>150000</td>\n",
       "      <td>1</td>\n",
       "      <td>petrol</td>\n",
       "      <td>bmw</td>\n",
       "      <td>no</td>\n",
       "      <td>14/03/2016 0:00</td>\n",
       "      <td>86956</td>\n",
       "      <td>25/03/2016 6:17</td>\n",
       "    </tr>\n",
       "    <tr>\n",
       "      <th>49999</th>\n",
       "      <td>15/03/2016 18:06</td>\n",
       "      <td>Verkaufe_mehrere_Fahrzeuge_zum_Verschrotten</td>\n",
       "      <td>commercial</td>\n",
       "      <td>offer</td>\n",
       "      <td>100</td>\n",
       "      <td>control</td>\n",
       "      <td>station wagon</td>\n",
       "      <td>2000</td>\n",
       "      <td>manual</td>\n",
       "      <td>0</td>\n",
       "      <td>megane</td>\n",
       "      <td>150000</td>\n",
       "      <td>8</td>\n",
       "      <td>petrol</td>\n",
       "      <td>renault</td>\n",
       "      <td>NaN</td>\n",
       "      <td>15/03/2016 0:00</td>\n",
       "      <td>65232</td>\n",
       "      <td>6/4/2016 17:15</td>\n",
       "    </tr>\n",
       "    <tr>\n",
       "      <th>50000</th>\n",
       "      <td>22/03/2016 9:54</td>\n",
       "      <td>Chevrolet_Matiz_1.Hd_TÜV11/2017</td>\n",
       "      <td>commercial</td>\n",
       "      <td>offer</td>\n",
       "      <td>1100</td>\n",
       "      <td>test</td>\n",
       "      <td>small car</td>\n",
       "      <td>2006</td>\n",
       "      <td>manual</td>\n",
       "      <td>38</td>\n",
       "      <td>matiz</td>\n",
       "      <td>150000</td>\n",
       "      <td>10</td>\n",
       "      <td>petrol</td>\n",
       "      <td>chevrolet</td>\n",
       "      <td>no</td>\n",
       "      <td>22/03/2016 0:00</td>\n",
       "      <td>7973</td>\n",
       "      <td>5/4/2016 21:15</td>\n",
       "    </tr>\n",
       "  </tbody>\n",
       "</table>\n",
       "<p>50001 rows × 19 columns</p>\n",
       "</div>"
      ],
      "text/plain": [
       "            dateCrawled                                               name  \\\n",
       "0      30/03/2016 13:51                                       Zu_verkaufen   \n",
       "1         7/3/2016 9:54                             Volvo_XC90_2.4D_Summum   \n",
       "2         1/4/2016 0:57                                  Volkswagen_Touran   \n",
       "3      19/03/2016 17:50                       Seat_Ibiza_1.4_16V_Reference   \n",
       "4      16/03/2016 14:51  Volvo_XC90_D5_Aut._RDesign_R_Design_AWD_GSHD_S...   \n",
       "...                 ...                                                ...   \n",
       "49996    3/4/2016 15:48                               Suche_VW_T5_Multivan   \n",
       "49997  27/03/2016 14:55  Suche_einen_originalen_VW_Golf_2_Fire_and_Ice_G60   \n",
       "49998  14/03/2016 18:51  [SUCHE]_BMW_e46_Coupe_330ci_M_Paket_Facelift__...   \n",
       "49999  15/03/2016 18:06        Verkaufe_mehrere_Fahrzeuge_zum_Verschrotten   \n",
       "50000   22/03/2016 9:54                    Chevrolet_Matiz_1.Hd_TÜV11/2017   \n",
       "\n",
       "           seller offerType  price   abtest    vehicleType  \\\n",
       "0         private     offer   4450     test      limousine   \n",
       "1         private     offer  13299  control            suv   \n",
       "2         private     offer   3200     test            bus   \n",
       "3         private     offer   4500  control      small car   \n",
       "4         private     offer  18750     test            suv   \n",
       "...           ...       ...    ...      ...            ...   \n",
       "49996     private   request      0     test            bus   \n",
       "49997     private   request  19999  control            NaN   \n",
       "49998     private   request      0     test          coupe   \n",
       "49999  commercial     offer    100  control  station wagon   \n",
       "50000  commercial     offer   1100     test      small car   \n",
       "\n",
       "       yearOfRegistration    gearbox  powerPS        model  kilometer  \\\n",
       "0                    2003     manual      150          3er     150000   \n",
       "1                    2005     manual      163     xc_reihe     150000   \n",
       "2                    2003     manual      101       touran     150000   \n",
       "3                    2006     manual       86        ibiza      60000   \n",
       "4                    2008  automatic      185     xc_reihe     150000   \n",
       "...                   ...        ...      ...          ...        ...   \n",
       "49996                2005        NaN        0  transporter     150000   \n",
       "49997                1990        NaN        0         golf       5000   \n",
       "49998                2004     manual        0          3er     150000   \n",
       "49999                2000     manual        0       megane     150000   \n",
       "50000                2006     manual       38        matiz     150000   \n",
       "\n",
       "       monthOfRegistration fuelType       brand notRepairedDamage  \\\n",
       "0                        3   diesel         bmw               NaN   \n",
       "1                        6   diesel       volvo                no   \n",
       "2                       11   diesel  volkswagen               NaN   \n",
       "3                       12   petrol        seat                no   \n",
       "4                       11   diesel       volvo                no   \n",
       "...                    ...      ...         ...               ...   \n",
       "49996                    0      NaN  volkswagen               NaN   \n",
       "49997                    0      NaN  volkswagen               NaN   \n",
       "49998                    1   petrol         bmw                no   \n",
       "49999                    8   petrol     renault               NaN   \n",
       "50000                   10   petrol   chevrolet                no   \n",
       "\n",
       "           dateCreated  postalCode          lastSeen  \n",
       "0      30/03/2016 0:00       20257     7/4/2016 4:44  \n",
       "1        7/3/2016 0:00       88045  26/03/2016 13:17  \n",
       "2      31/03/2016 0:00       27449     1/4/2016 8:40  \n",
       "3      19/03/2016 0:00       34537     7/4/2016 4:44  \n",
       "4      16/03/2016 0:00       55270    1/4/2016 23:18  \n",
       "...                ...         ...               ...  \n",
       "49996    3/4/2016 0:00       29690    5/4/2016 15:16  \n",
       "49997  27/03/2016 0:00       50181    7/4/2016 11:45  \n",
       "49998  14/03/2016 0:00       86956   25/03/2016 6:17  \n",
       "49999  15/03/2016 0:00       65232    6/4/2016 17:15  \n",
       "50000  22/03/2016 0:00        7973    5/4/2016 21:15  \n",
       "\n",
       "[50001 rows x 19 columns]"
      ]
     },
     "execution_count": 2,
     "metadata": {},
     "output_type": "execute_result"
    }
   ],
   "source": [
    "df = pd.read_csv(\"./ML5.1_preprocessing/data/cars_sampled.csv\")\n",
    "df"
   ]
  },
  {
   "cell_type": "markdown",
   "id": "10734559",
   "metadata": {},
   "source": [
    "### 2. Сделайте описательную статистику: размер, типы переменных, пустые значения, уникальные имена и т.д."
   ]
  },
  {
   "cell_type": "code",
   "execution_count": 3,
   "id": "587aa8ef",
   "metadata": {
    "scrolled": true
   },
   "outputs": [
    {
     "data": {
      "text/plain": [
       "(50001, 19)"
      ]
     },
     "execution_count": 3,
     "metadata": {},
     "output_type": "execute_result"
    }
   ],
   "source": [
    "df.shape"
   ]
  },
  {
   "cell_type": "code",
   "execution_count": 4,
   "id": "b2952cd4",
   "metadata": {},
   "outputs": [
    {
     "data": {
      "text/plain": [
       "dateCrawled            object\n",
       "name                   object\n",
       "seller                 object\n",
       "offerType              object\n",
       "price                   int64\n",
       "abtest                 object\n",
       "vehicleType            object\n",
       "yearOfRegistration      int64\n",
       "gearbox                object\n",
       "powerPS                 int64\n",
       "model                  object\n",
       "kilometer               int64\n",
       "monthOfRegistration     int64\n",
       "fuelType               object\n",
       "brand                  object\n",
       "notRepairedDamage      object\n",
       "dateCreated            object\n",
       "postalCode              int64\n",
       "lastSeen               object\n",
       "dtype: object"
      ]
     },
     "execution_count": 4,
     "metadata": {},
     "output_type": "execute_result"
    }
   ],
   "source": [
    "df.dtypes"
   ]
  },
  {
   "cell_type": "code",
   "execution_count": 5,
   "id": "07cd3459",
   "metadata": {},
   "outputs": [
    {
     "data": {
      "text/plain": [
       "dateCrawled               0\n",
       "name                      0\n",
       "seller                    0\n",
       "offerType                 0\n",
       "price                     0\n",
       "abtest                    0\n",
       "vehicleType            5188\n",
       "yearOfRegistration        0\n",
       "gearbox                2824\n",
       "powerPS                   0\n",
       "model                  2758\n",
       "kilometer                 0\n",
       "monthOfRegistration       0\n",
       "fuelType               4503\n",
       "brand                     0\n",
       "notRepairedDamage      9716\n",
       "dateCreated               0\n",
       "postalCode                0\n",
       "lastSeen                  0\n",
       "dtype: int64"
      ]
     },
     "execution_count": 5,
     "metadata": {},
     "output_type": "execute_result"
    }
   ],
   "source": [
    "df.isna().sum()"
   ]
  },
  {
   "cell_type": "code",
   "execution_count": 6,
   "id": "cb4f2351",
   "metadata": {},
   "outputs": [
    {
     "data": {
      "text/html": [
       "<div>\n",
       "<style scoped>\n",
       "    .dataframe tbody tr th:only-of-type {\n",
       "        vertical-align: middle;\n",
       "    }\n",
       "\n",
       "    .dataframe tbody tr th {\n",
       "        vertical-align: top;\n",
       "    }\n",
       "\n",
       "    .dataframe thead th {\n",
       "        text-align: right;\n",
       "    }\n",
       "</style>\n",
       "<table border=\"1\" class=\"dataframe\">\n",
       "  <thead>\n",
       "    <tr style=\"text-align: right;\">\n",
       "      <th></th>\n",
       "      <th>price</th>\n",
       "      <th>yearOfRegistration</th>\n",
       "      <th>powerPS</th>\n",
       "      <th>kilometer</th>\n",
       "      <th>monthOfRegistration</th>\n",
       "      <th>postalCode</th>\n",
       "    </tr>\n",
       "  </thead>\n",
       "  <tbody>\n",
       "    <tr>\n",
       "      <th>count</th>\n",
       "      <td>5.000100e+04</td>\n",
       "      <td>50001.000000</td>\n",
       "      <td>50001.000000</td>\n",
       "      <td>50001.000000</td>\n",
       "      <td>50001.000000</td>\n",
       "      <td>50001.000000</td>\n",
       "    </tr>\n",
       "    <tr>\n",
       "      <th>mean</th>\n",
       "      <td>6.559865e+03</td>\n",
       "      <td>2005.544229</td>\n",
       "      <td>116.496130</td>\n",
       "      <td>125613.687726</td>\n",
       "      <td>5.743725</td>\n",
       "      <td>50775.216696</td>\n",
       "    </tr>\n",
       "    <tr>\n",
       "      <th>std</th>\n",
       "      <td>8.581847e+04</td>\n",
       "      <td>122.991832</td>\n",
       "      <td>230.567709</td>\n",
       "      <td>40205.234483</td>\n",
       "      <td>3.711345</td>\n",
       "      <td>25743.701933</td>\n",
       "    </tr>\n",
       "    <tr>\n",
       "      <th>min</th>\n",
       "      <td>0.000000e+00</td>\n",
       "      <td>1000.000000</td>\n",
       "      <td>0.000000</td>\n",
       "      <td>5000.000000</td>\n",
       "      <td>0.000000</td>\n",
       "      <td>1067.000000</td>\n",
       "    </tr>\n",
       "    <tr>\n",
       "      <th>25%</th>\n",
       "      <td>1.150000e+03</td>\n",
       "      <td>1999.000000</td>\n",
       "      <td>69.000000</td>\n",
       "      <td>125000.000000</td>\n",
       "      <td>3.000000</td>\n",
       "      <td>30559.000000</td>\n",
       "    </tr>\n",
       "    <tr>\n",
       "      <th>50%</th>\n",
       "      <td>2.950000e+03</td>\n",
       "      <td>2003.000000</td>\n",
       "      <td>105.000000</td>\n",
       "      <td>150000.000000</td>\n",
       "      <td>6.000000</td>\n",
       "      <td>49504.000000</td>\n",
       "    </tr>\n",
       "    <tr>\n",
       "      <th>75%</th>\n",
       "      <td>7.190000e+03</td>\n",
       "      <td>2008.000000</td>\n",
       "      <td>150.000000</td>\n",
       "      <td>150000.000000</td>\n",
       "      <td>9.000000</td>\n",
       "      <td>71404.000000</td>\n",
       "    </tr>\n",
       "    <tr>\n",
       "      <th>max</th>\n",
       "      <td>1.234568e+07</td>\n",
       "      <td>9999.000000</td>\n",
       "      <td>19312.000000</td>\n",
       "      <td>150000.000000</td>\n",
       "      <td>12.000000</td>\n",
       "      <td>99998.000000</td>\n",
       "    </tr>\n",
       "  </tbody>\n",
       "</table>\n",
       "</div>"
      ],
      "text/plain": [
       "              price  yearOfRegistration       powerPS      kilometer  \\\n",
       "count  5.000100e+04        50001.000000  50001.000000   50001.000000   \n",
       "mean   6.559865e+03         2005.544229    116.496130  125613.687726   \n",
       "std    8.581847e+04          122.991832    230.567709   40205.234483   \n",
       "min    0.000000e+00         1000.000000      0.000000    5000.000000   \n",
       "25%    1.150000e+03         1999.000000     69.000000  125000.000000   \n",
       "50%    2.950000e+03         2003.000000    105.000000  150000.000000   \n",
       "75%    7.190000e+03         2008.000000    150.000000  150000.000000   \n",
       "max    1.234568e+07         9999.000000  19312.000000  150000.000000   \n",
       "\n",
       "       monthOfRegistration    postalCode  \n",
       "count         50001.000000  50001.000000  \n",
       "mean              5.743725  50775.216696  \n",
       "std               3.711345  25743.701933  \n",
       "min               0.000000   1067.000000  \n",
       "25%               3.000000  30559.000000  \n",
       "50%               6.000000  49504.000000  \n",
       "75%               9.000000  71404.000000  \n",
       "max              12.000000  99998.000000  "
      ]
     },
     "execution_count": 6,
     "metadata": {},
     "output_type": "execute_result"
    }
   ],
   "source": [
    "df.describe()"
   ]
  },
  {
   "cell_type": "code",
   "execution_count": 7,
   "id": "eb62fd2e",
   "metadata": {},
   "outputs": [
    {
     "name": "stdout",
     "output_type": "stream",
     "text": [
      "['30/03/2016 13:51' '7/3/2016 9:54' '1/4/2016 0:57' ... '24/03/2016 18:31'\n",
      " '17/03/2016 6:32' '20/03/2016 8:52']\n",
      "['Zu_verkaufen' 'Volvo_XC90_2.4D_Summum' 'Volkswagen_Touran' ...\n",
      " '[SUCHE]_BMW_e46_Coupe_330ci_M_Paket_Facelift___Xenon_evtl._Cabrio'\n",
      " 'Verkaufe_mehrere_Fahrzeuge_zum_Verschrotten'\n",
      " 'Chevrolet_Matiz_1.Hd_TÜV11/2017']\n",
      "['private' 'commercial']\n",
      "['offer' 'request']\n",
      "['test' 'control']\n",
      "['limousine' 'suv' 'bus' 'small car' 'station wagon' 'coupe' nan 'others'\n",
      " 'cabrio']\n",
      "['manual' 'automatic' nan]\n",
      "['3er' 'xc_reihe' 'touran' 'ibiza' 'passat' 'astra' 'clk' 'vectra'\n",
      " 'octavia' 'a_klasse' 'yaris' 'meriva' nan 'others' 'golf' '3_reihe'\n",
      " 'carisma' 'colt' '80' 'panda' 'micra' '156' 'c_klasse' 'polo' '1er' 'ka'\n",
      " 'e_klasse' 'freelander' 'a4' 'almera' 'forester' 'cooper' '5er' 'a3'\n",
      " 'grand' 'voyager' 'fiesta' 'clio' 'cordoba' 'slk' 'berlingo' 'v40' 'sl'\n",
      " 'x_reihe' 'twingo' 'fabia' 'swift' 'logan' '500' 'punto' 's_klasse'\n",
      " '2_reihe' 'galaxy' 'sharan' 'agila' 'kangoo' 'captiva' 'scenic' 'mondeo'\n",
      " 'sorento' 'primera' 'omega' 'a6' 'fortwo' 'scirocco' 'transporter' 'c4'\n",
      " 'qashqai' 'clubman' 'insignia' '7er' 'signum' 'megane' 'kadett' 'corsa'\n",
      " 'arosa' 'focus' 'z_reihe' 'caddy' 'aygo' 'matiz' 'combo' 'corolla' '601'\n",
      " 'c_max' 'c_reihe' 'beetle' 'tigra' 'sandero' 'tiguan' 's_max' 'toledo'\n",
      " 'zafira' 'a2' 'transit' 'a5' 'tt' 'citigo' 'espace' 'tucson' 'accord'\n",
      " 'rav' 'i_reihe' 'laguna' 'roadster' 'rio' 'bora' 'kuga' '147' 'c1'\n",
      " 'cuore' 'civic' 'mustang' 'lupo' 'c5' 'stilo' '6_reihe' 'mx_reihe'\n",
      " 'cayenne' 'justy' 'avensis' 'santa' 'kaefer' 'up' 'yeti' 'modus'\n",
      " 'rx_reihe' 'sprinter' 'forfour' 'cherokee' 'navara' 'v70' 'q3' '1_reihe'\n",
      " 'a8' 'verso' 'boxster' 'v_klasse' 'doblo' 'fox' '100' 'altea' 'impreza'\n",
      " 'eos' 'leon' 'calibra' 'q5' '911' 'x_trail' 'v50' 'carnival' 'bravo'\n",
      " 'jazz' 'm_klasse' 'jetta' 'escort' '4_reihe' '300c' 'ceed' 'a1' 'cl'\n",
      " 'vito' 'one' 'alhambra' 'getz' 'pajero' 'ducato' 'vivaro' 'touareg' '90'\n",
      " 'cr_reihe' '850' 'q7' 'duster' 'cx_reihe' 'seicento' 'fusion' 'b_klasse'\n",
      " 'musa' 'cc' 'c3' 'c2' '5_reihe' '900' 'kalos' 'viano' 'ypsilon' 'picanto'\n",
      " 'ptcruiser' 'sportage' 'aveo' 'exeo' 'jimny' 'note' 'm_reihe' 'auris'\n",
      " 'lanos' 'juke' 'lancer' '6er' 'phaeton' 'x_type' 'range_rover_sport'\n",
      " 'spark' 'galant' 'superb' 'spider' 'crossfire' '159' 'range_rover' 'r19'\n",
      " 'legacy' 'amarok' 's60' 'glk' 'wrangler' '9000' 'roomster' 'i3'\n",
      " 'outlander' 'b_max' 'antara' 'niva' 'sirion' 'nubira' 'g_klasse' 'lodgy'\n",
      " 'mii' 'range_rover_evoque' 'terios' '145' 'gl' 'serie_2' 'defender'\n",
      " 'delta' '200' 's_type' 'samara' 'materia' 'croma' 'lybra' 'discovery'\n",
      " 'v60' 'serie_3' 'move' 'kalina' 'elefantino' 'charade' 'rangerover']\n",
      "['diesel' 'petrol' nan 'cng' 'lpg' 'hybrid' 'electro' 'other']\n",
      "['bmw' 'volvo' 'volkswagen' 'seat' 'opel' 'mercedes_benz' 'skoda' 'toyota'\n",
      " 'nissan' 'sonstige_autos' 'mazda' 'mitsubishi' 'audi' 'fiat' 'alfa_romeo'\n",
      " 'saab' 'ford' 'peugeot' 'land_rover' 'daihatsu' 'subaru' 'mini' 'citroen'\n",
      " 'jeep' 'chrysler' 'renault' 'suzuki' 'dacia' 'chevrolet' 'kia' 'smart'\n",
      " 'hyundai' 'lancia' 'trabant' 'honda' 'jaguar' 'porsche' 'rover' 'daewoo'\n",
      " 'lada']\n",
      "[nan 'no' 'yes']\n",
      "['30/03/2016 0:00' '7/3/2016 0:00' '31/03/2016 0:00' '19/03/2016 0:00'\n",
      " '16/03/2016 0:00' '2/4/2016 0:00' '3/4/2016 0:00' '24/03/2016 0:00'\n",
      " '28/03/2016 0:00' '5/4/2016 0:00' '21/03/2016 0:00' '25/03/2016 0:00'\n",
      " '13/03/2016 0:00' '8/3/2016 0:00' '12/3/2016 0:00' '22/03/2016 0:00'\n",
      " '15/03/2016 0:00' '1/4/2016 0:00' '27/03/2016 0:00' '29/03/2016 0:00'\n",
      " '26/03/2016 0:00' '23/03/2016 0:00' '11/3/2016 0:00' '9/3/2016 0:00'\n",
      " '14/03/2016 0:00' '4/4/2016 0:00' '10/3/2016 0:00' '17/03/2016 0:00'\n",
      " '20/03/2016 0:00' '18/03/2016 0:00' '5/3/2016 0:00' '6/3/2016 0:00'\n",
      " '4/3/2016 0:00' '28/02/2016 0:00' '3/3/2016 0:00' '6/4/2016 0:00'\n",
      " '7/4/2016 0:00' '4/2/2016 0:00' '23/02/2016 0:00' '27/02/2016 0:00'\n",
      " '1/3/2016 0:00' '7/1/2016 0:00' '2/3/2016 0:00' '12/11/2015 0:00'\n",
      " '26/02/2016 0:00' '20/02/2016 0:00' '28/12/2015 0:00' '21/02/2016 0:00'\n",
      " '14/02/2016 0:00' '13/02/2016 0:00' '30/01/2016 0:00' '29/02/2016 0:00'\n",
      " '19/02/2016 0:00' '24/02/2016 0:00' '27/01/2016 0:00' '25/02/2016 0:00'\n",
      " '30/12/2015 0:00' '25/01/2016 0:00' '29/01/2016 0:00' '5/12/2015 0:00'\n",
      " '5/2/2016 0:00' '9/2/2016 0:00' '24/01/2016 0:00' '2/11/2015 0:00'\n",
      " '6/12/2015 0:00' '18/02/2016 0:00' '20/01/2016 0:00' '4/9/2015 0:00'\n",
      " '15/02/2016 0:00' '16/02/2016 0:00' '22/02/2016 0:00' '2/2/2016 0:00'\n",
      " '3/2/2016 0:00' '12/2/2016 0:00' '19/01/2016 0:00']\n",
      "['7/4/2016 4:44' '26/03/2016 13:17' '1/4/2016 8:40' ... '30/03/2016 19:18'\n",
      " '20/03/2016 9:39' '26/03/2016 17:54']\n"
     ]
    }
   ],
   "source": [
    "for col in df:\n",
    "    if df[col].dtype == \"object\":\n",
    "        print(df[col].unique())"
   ]
  },
  {
   "cell_type": "code",
   "execution_count": 8,
   "id": "7f6d066e",
   "metadata": {},
   "outputs": [
    {
     "name": "stdout",
     "output_type": "stream",
     "text": [
      "<class 'pandas.core.frame.DataFrame'>\n",
      "RangeIndex: 50001 entries, 0 to 50000\n",
      "Data columns (total 19 columns):\n",
      " #   Column               Non-Null Count  Dtype \n",
      "---  ------               --------------  ----- \n",
      " 0   dateCrawled          50001 non-null  object\n",
      " 1   name                 50001 non-null  object\n",
      " 2   seller               50001 non-null  object\n",
      " 3   offerType            50001 non-null  object\n",
      " 4   price                50001 non-null  int64 \n",
      " 5   abtest               50001 non-null  object\n",
      " 6   vehicleType          44813 non-null  object\n",
      " 7   yearOfRegistration   50001 non-null  int64 \n",
      " 8   gearbox              47177 non-null  object\n",
      " 9   powerPS              50001 non-null  int64 \n",
      " 10  model                47243 non-null  object\n",
      " 11  kilometer            50001 non-null  int64 \n",
      " 12  monthOfRegistration  50001 non-null  int64 \n",
      " 13  fuelType             45498 non-null  object\n",
      " 14  brand                50001 non-null  object\n",
      " 15  notRepairedDamage    40285 non-null  object\n",
      " 16  dateCreated          50001 non-null  object\n",
      " 17  postalCode           50001 non-null  int64 \n",
      " 18  lastSeen             50001 non-null  object\n",
      "dtypes: int64(6), object(13)\n",
      "memory usage: 7.2+ MB\n"
     ]
    }
   ],
   "source": [
    "df.info()"
   ]
  },
  {
   "cell_type": "markdown",
   "id": "7898015c",
   "metadata": {},
   "source": [
    "### 3. Поработайте с типами переменных. Все числовые значения переведите в формат int."
   ]
  },
  {
   "cell_type": "code",
   "execution_count": 9,
   "id": "6ee81233",
   "metadata": {},
   "outputs": [],
   "source": [
    "for col in df:\n",
    "    if df[col].dtype.kind in 'iufc':\n",
    "        df[col].astype(int)"
   ]
  },
  {
   "cell_type": "code",
   "execution_count": 10,
   "id": "53a48e11",
   "metadata": {},
   "outputs": [
    {
     "data": {
      "text/plain": [
       "dateCrawled            object\n",
       "name                   object\n",
       "seller                 object\n",
       "offerType              object\n",
       "price                   int64\n",
       "abtest                 object\n",
       "vehicleType            object\n",
       "yearOfRegistration      int64\n",
       "gearbox                object\n",
       "powerPS                 int64\n",
       "model                  object\n",
       "kilometer               int64\n",
       "monthOfRegistration     int64\n",
       "fuelType               object\n",
       "brand                  object\n",
       "notRepairedDamage      object\n",
       "dateCreated            object\n",
       "postalCode              int64\n",
       "lastSeen               object\n",
       "dtype: object"
      ]
     },
     "execution_count": 10,
     "metadata": {},
     "output_type": "execute_result"
    }
   ],
   "source": [
    "df.dtypes"
   ]
  },
  {
   "cell_type": "markdown",
   "id": "22451042",
   "metadata": {},
   "source": [
    "### 4. Поработайте со столбцом price. Постройте гистограмму, найдите выбросы (ящиковая диаграмма), удалите аномальные значения, постарайтесь привести к нормальному распределению."
   ]
  },
  {
   "cell_type": "code",
   "execution_count": 11,
   "id": "024f84cf",
   "metadata": {
    "scrolled": true
   },
   "outputs": [
    {
     "data": {
      "text/plain": [
       "0         1451\n",
       "500        742\n",
       "1500       705\n",
       "1000       647\n",
       "2500       594\n",
       "          ... \n",
       "103990       1\n",
       "370000       1\n",
       "2151         1\n",
       "225000       1\n",
       "175000       1\n",
       "Name: price, Length: 2393, dtype: int64"
      ]
     },
     "execution_count": 11,
     "metadata": {},
     "output_type": "execute_result"
    }
   ],
   "source": [
    "df[\"price\"].value_counts()"
   ]
  },
  {
   "cell_type": "code",
   "execution_count": 12,
   "id": "1f0cbbdd",
   "metadata": {
    "scrolled": false
   },
   "outputs": [
    {
     "data": {
      "text/html": [
       "<div>\n",
       "<style scoped>\n",
       "    .dataframe tbody tr th:only-of-type {\n",
       "        vertical-align: middle;\n",
       "    }\n",
       "\n",
       "    .dataframe tbody tr th {\n",
       "        vertical-align: top;\n",
       "    }\n",
       "\n",
       "    .dataframe thead th {\n",
       "        text-align: right;\n",
       "    }\n",
       "</style>\n",
       "<table border=\"1\" class=\"dataframe\">\n",
       "  <thead>\n",
       "    <tr style=\"text-align: right;\">\n",
       "      <th></th>\n",
       "      <th>dateCrawled</th>\n",
       "      <th>name</th>\n",
       "      <th>seller</th>\n",
       "      <th>offerType</th>\n",
       "      <th>price</th>\n",
       "      <th>abtest</th>\n",
       "      <th>vehicleType</th>\n",
       "      <th>yearOfRegistration</th>\n",
       "      <th>gearbox</th>\n",
       "      <th>powerPS</th>\n",
       "      <th>model</th>\n",
       "      <th>kilometer</th>\n",
       "      <th>monthOfRegistration</th>\n",
       "      <th>fuelType</th>\n",
       "      <th>brand</th>\n",
       "      <th>notRepairedDamage</th>\n",
       "      <th>dateCreated</th>\n",
       "      <th>postalCode</th>\n",
       "      <th>lastSeen</th>\n",
       "    </tr>\n",
       "  </thead>\n",
       "  <tbody>\n",
       "    <tr>\n",
       "      <th>4</th>\n",
       "      <td>16/03/2016 14:51</td>\n",
       "      <td>Volvo_XC90_D5_Aut._RDesign_R_Design_AWD_GSHD_S...</td>\n",
       "      <td>private</td>\n",
       "      <td>offer</td>\n",
       "      <td>18750</td>\n",
       "      <td>test</td>\n",
       "      <td>suv</td>\n",
       "      <td>2008</td>\n",
       "      <td>automatic</td>\n",
       "      <td>185</td>\n",
       "      <td>xc_reihe</td>\n",
       "      <td>150000</td>\n",
       "      <td>11</td>\n",
       "      <td>diesel</td>\n",
       "      <td>volvo</td>\n",
       "      <td>no</td>\n",
       "      <td>16/03/2016 0:00</td>\n",
       "      <td>55270</td>\n",
       "      <td>1/4/2016 23:18</td>\n",
       "    </tr>\n",
       "    <tr>\n",
       "      <th>37</th>\n",
       "      <td>27/03/2016 10:58</td>\n",
       "      <td>Mercedes_Benz_C_180_Kompressor_Automatik_AMG_P...</td>\n",
       "      <td>private</td>\n",
       "      <td>offer</td>\n",
       "      <td>18990</td>\n",
       "      <td>control</td>\n",
       "      <td>limousine</td>\n",
       "      <td>2009</td>\n",
       "      <td>automatic</td>\n",
       "      <td>156</td>\n",
       "      <td>c_klasse</td>\n",
       "      <td>80000</td>\n",
       "      <td>9</td>\n",
       "      <td>petrol</td>\n",
       "      <td>mercedes_benz</td>\n",
       "      <td>no</td>\n",
       "      <td>27/03/2016 0:00</td>\n",
       "      <td>40723</td>\n",
       "      <td>7/4/2016 5:46</td>\n",
       "    </tr>\n",
       "    <tr>\n",
       "      <th>42</th>\n",
       "      <td>22/03/2016 12:46</td>\n",
       "      <td>Land_Rover_Freelander_TD4_Aut._HSE</td>\n",
       "      <td>private</td>\n",
       "      <td>offer</td>\n",
       "      <td>19000</td>\n",
       "      <td>control</td>\n",
       "      <td>suv</td>\n",
       "      <td>2010</td>\n",
       "      <td>automatic</td>\n",
       "      <td>152</td>\n",
       "      <td>freelander</td>\n",
       "      <td>90000</td>\n",
       "      <td>5</td>\n",
       "      <td>diesel</td>\n",
       "      <td>land_rover</td>\n",
       "      <td>no</td>\n",
       "      <td>22/03/2016 0:00</td>\n",
       "      <td>85122</td>\n",
       "      <td>6/4/2016 1:16</td>\n",
       "    </tr>\n",
       "    <tr>\n",
       "      <th>48</th>\n",
       "      <td>28/03/2016 15:46</td>\n",
       "      <td>Mercedes_Benz_CLK_Cabrio_200_Kompressor_Avantg...</td>\n",
       "      <td>private</td>\n",
       "      <td>offer</td>\n",
       "      <td>17499</td>\n",
       "      <td>control</td>\n",
       "      <td>cabrio</td>\n",
       "      <td>2007</td>\n",
       "      <td>manual</td>\n",
       "      <td>184</td>\n",
       "      <td>clk</td>\n",
       "      <td>60000</td>\n",
       "      <td>10</td>\n",
       "      <td>petrol</td>\n",
       "      <td>mercedes_benz</td>\n",
       "      <td>no</td>\n",
       "      <td>28/03/2016 0:00</td>\n",
       "      <td>72793</td>\n",
       "      <td>6/4/2016 20:19</td>\n",
       "    </tr>\n",
       "    <tr>\n",
       "      <th>52</th>\n",
       "      <td>31/03/2016 15:37</td>\n",
       "      <td>VW_Golf_Cabrio_1.4_TSI_DSG___GARANTIE__Xenon__...</td>\n",
       "      <td>private</td>\n",
       "      <td>offer</td>\n",
       "      <td>17500</td>\n",
       "      <td>control</td>\n",
       "      <td>cabrio</td>\n",
       "      <td>2011</td>\n",
       "      <td>automatic</td>\n",
       "      <td>160</td>\n",
       "      <td>golf</td>\n",
       "      <td>50000</td>\n",
       "      <td>8</td>\n",
       "      <td>petrol</td>\n",
       "      <td>volkswagen</td>\n",
       "      <td>no</td>\n",
       "      <td>31/03/2016 0:00</td>\n",
       "      <td>93170</td>\n",
       "      <td>6/4/2016 8:16</td>\n",
       "    </tr>\n",
       "  </tbody>\n",
       "</table>\n",
       "</div>"
      ],
      "text/plain": [
       "         dateCrawled                                               name  \\\n",
       "4   16/03/2016 14:51  Volvo_XC90_D5_Aut._RDesign_R_Design_AWD_GSHD_S...   \n",
       "37  27/03/2016 10:58  Mercedes_Benz_C_180_Kompressor_Automatik_AMG_P...   \n",
       "42  22/03/2016 12:46                 Land_Rover_Freelander_TD4_Aut._HSE   \n",
       "48  28/03/2016 15:46  Mercedes_Benz_CLK_Cabrio_200_Kompressor_Avantg...   \n",
       "52  31/03/2016 15:37  VW_Golf_Cabrio_1.4_TSI_DSG___GARANTIE__Xenon__...   \n",
       "\n",
       "     seller offerType  price   abtest vehicleType  yearOfRegistration  \\\n",
       "4   private     offer  18750     test         suv                2008   \n",
       "37  private     offer  18990  control   limousine                2009   \n",
       "42  private     offer  19000  control         suv                2010   \n",
       "48  private     offer  17499  control      cabrio                2007   \n",
       "52  private     offer  17500  control      cabrio                2011   \n",
       "\n",
       "      gearbox  powerPS       model  kilometer  monthOfRegistration fuelType  \\\n",
       "4   automatic      185    xc_reihe     150000                   11   diesel   \n",
       "37  automatic      156    c_klasse      80000                    9   petrol   \n",
       "42  automatic      152  freelander      90000                    5   diesel   \n",
       "48     manual      184         clk      60000                   10   petrol   \n",
       "52  automatic      160        golf      50000                    8   petrol   \n",
       "\n",
       "            brand notRepairedDamage      dateCreated  postalCode  \\\n",
       "4           volvo                no  16/03/2016 0:00       55270   \n",
       "37  mercedes_benz                no  27/03/2016 0:00       40723   \n",
       "42     land_rover                no  22/03/2016 0:00       85122   \n",
       "48  mercedes_benz                no  28/03/2016 0:00       72793   \n",
       "52     volkswagen                no  31/03/2016 0:00       93170   \n",
       "\n",
       "          lastSeen  \n",
       "4   1/4/2016 23:18  \n",
       "37   7/4/2016 5:46  \n",
       "42   6/4/2016 1:16  \n",
       "48  6/4/2016 20:19  \n",
       "52   6/4/2016 8:16  "
      ]
     },
     "execution_count": 12,
     "metadata": {},
     "output_type": "execute_result"
    }
   ],
   "source": [
    "q1 = df.price.quantile(q=0.25)\n",
    "q3 = df.price.quantile(q=0.75)\n",
    "diff_bound = (q3 - q1)\n",
    "lower_bound = q1 - 1.5*diff_bound\n",
    "upper_bound = q3 + 1.5*diff_bound\n",
    "df[(df.price < lower_bound) | (df.price > upper_bound)].head(5)"
   ]
  },
  {
   "cell_type": "code",
   "execution_count": 13,
   "id": "709c2e3b",
   "metadata": {},
   "outputs": [
    {
     "data": {
      "text/plain": [
       "0    46244\n",
       "1     3757\n",
       "Name: price_outlier, dtype: int64"
      ]
     },
     "execution_count": 13,
     "metadata": {},
     "output_type": "execute_result"
    }
   ],
   "source": [
    "df['price_outlier'] = 0\n",
    "df.loc[(df.price < lower_bound) | (df.price > upper_bound), 'price_outlier'] = 1\n",
    "df['price_outlier'].value_counts()"
   ]
  },
  {
   "cell_type": "code",
   "execution_count": 14,
   "id": "6b3aef72",
   "metadata": {},
   "outputs": [],
   "source": [
    "df_no_outliers = df[(df.price >= lower_bound) & (df.price <= upper_bound)]"
   ]
  },
  {
   "cell_type": "code",
   "execution_count": 15,
   "id": "8859a5c4",
   "metadata": {},
   "outputs": [
    {
     "data": {
      "text/plain": [
       "<AxesSubplot: ylabel='Frequency'>"
      ]
     },
     "execution_count": 15,
     "metadata": {},
     "output_type": "execute_result"
    },
    {
     "data": {
      "image/png": "[encoded data removed]",
      "text/plain": [
       "<Figure size 1000x800 with 1 Axes>"
      ]
     },
     "metadata": {},
     "output_type": "display_data"
    }
   ],
   "source": [
    "df.plot.hist(column=\"price\", bins = 50, alpha=0.5, figsize=(10, 8), range=(df_no_outliers[\"price\"].min(), df_no_outliers[\"price\"].max()))\n"
   ]
  },
  {
   "cell_type": "code",
   "execution_count": 16,
   "id": "3e5dee98",
   "metadata": {},
   "outputs": [],
   "source": [
    "df[\"price\"] = np.log1p(df[\"price\"])\n",
    "q1 = df.price.quantile(q=0.25)\n",
    "q3 = df.price.quantile(q=0.75)\n",
    "diff_bound = (q3 - q1)\n",
    "lower_bound = q1 - 1.5*diff_bound\n",
    "upper_bound = q3 + 1.5*diff_bound\n"
   ]
  },
  {
   "cell_type": "code",
   "execution_count": 17,
   "id": "96e65772",
   "metadata": {},
   "outputs": [
    {
     "data": {
      "text/plain": [
       "<AxesSubplot: ylabel='Frequency'>"
      ]
     },
     "execution_count": 17,
     "metadata": {},
     "output_type": "execute_result"
    },
    {
     "data": {
      "image/png": "[encoded data removed]",
      "text/plain": [
       "<Figure size 640x480 with 1 Axes>"
      ]
     },
     "metadata": {},
     "output_type": "display_data"
    }
   ],
   "source": [
    "df[\"price\"].plot.hist(bins=50)"
   ]
  },
  {
   "cell_type": "code",
   "execution_count": 18,
   "id": "4fe8c7b3",
   "metadata": {},
   "outputs": [
    {
     "data": {
      "text/plain": [
       "<AxesSubplot: >"
      ]
     },
     "execution_count": 18,
     "metadata": {},
     "output_type": "execute_result"
    },
    {
     "data": {
      "image/png": "[encoded data removed]",
      "text/plain": [
       "<Figure size 640x480 with 1 Axes>"
      ]
     },
     "metadata": {},
     "output_type": "display_data"
    }
   ],
   "source": [
    "df.boxplot(column=[\"price\"])"
   ]
  },
  {
   "cell_type": "code",
   "execution_count": 19,
   "id": "cf3151e5",
   "metadata": {},
   "outputs": [
    {
     "data": {
      "text/html": [
       "<div>\n",
       "<style scoped>\n",
       "    .dataframe tbody tr th:only-of-type {\n",
       "        vertical-align: middle;\n",
       "    }\n",
       "\n",
       "    .dataframe tbody tr th {\n",
       "        vertical-align: top;\n",
       "    }\n",
       "\n",
       "    .dataframe thead th {\n",
       "        text-align: right;\n",
       "    }\n",
       "</style>\n",
       "<table border=\"1\" class=\"dataframe\">\n",
       "  <thead>\n",
       "    <tr style=\"text-align: right;\">\n",
       "      <th></th>\n",
       "      <th>dateCrawled</th>\n",
       "      <th>name</th>\n",
       "      <th>seller</th>\n",
       "      <th>offerType</th>\n",
       "      <th>price</th>\n",
       "      <th>abtest</th>\n",
       "      <th>vehicleType</th>\n",
       "      <th>yearOfRegistration</th>\n",
       "      <th>gearbox</th>\n",
       "      <th>powerPS</th>\n",
       "      <th>model</th>\n",
       "      <th>kilometer</th>\n",
       "      <th>monthOfRegistration</th>\n",
       "      <th>fuelType</th>\n",
       "      <th>brand</th>\n",
       "      <th>notRepairedDamage</th>\n",
       "      <th>dateCreated</th>\n",
       "      <th>postalCode</th>\n",
       "      <th>lastSeen</th>\n",
       "      <th>price_outlier</th>\n",
       "    </tr>\n",
       "  </thead>\n",
       "  <tbody>\n",
       "    <tr>\n",
       "      <th>0</th>\n",
       "      <td>30/03/2016 13:51</td>\n",
       "      <td>Zu_verkaufen</td>\n",
       "      <td>private</td>\n",
       "      <td>offer</td>\n",
       "      <td>8.400884</td>\n",
       "      <td>test</td>\n",
       "      <td>limousine</td>\n",
       "      <td>2003</td>\n",
       "      <td>manual</td>\n",
       "      <td>150</td>\n",
       "      <td>3er</td>\n",
       "      <td>150000</td>\n",
       "      <td>3</td>\n",
       "      <td>diesel</td>\n",
       "      <td>bmw</td>\n",
       "      <td>NaN</td>\n",
       "      <td>30/03/2016 0:00</td>\n",
       "      <td>20257</td>\n",
       "      <td>7/4/2016 4:44</td>\n",
       "      <td>0</td>\n",
       "    </tr>\n",
       "    <tr>\n",
       "      <th>1</th>\n",
       "      <td>7/3/2016 9:54</td>\n",
       "      <td>Volvo_XC90_2.4D_Summum</td>\n",
       "      <td>private</td>\n",
       "      <td>offer</td>\n",
       "      <td>9.495519</td>\n",
       "      <td>control</td>\n",
       "      <td>suv</td>\n",
       "      <td>2005</td>\n",
       "      <td>manual</td>\n",
       "      <td>163</td>\n",
       "      <td>xc_reihe</td>\n",
       "      <td>150000</td>\n",
       "      <td>6</td>\n",
       "      <td>diesel</td>\n",
       "      <td>volvo</td>\n",
       "      <td>no</td>\n",
       "      <td>7/3/2016 0:00</td>\n",
       "      <td>88045</td>\n",
       "      <td>26/03/2016 13:17</td>\n",
       "      <td>0</td>\n",
       "    </tr>\n",
       "    <tr>\n",
       "      <th>2</th>\n",
       "      <td>1/4/2016 0:57</td>\n",
       "      <td>Volkswagen_Touran</td>\n",
       "      <td>private</td>\n",
       "      <td>offer</td>\n",
       "      <td>8.071219</td>\n",
       "      <td>test</td>\n",
       "      <td>bus</td>\n",
       "      <td>2003</td>\n",
       "      <td>manual</td>\n",
       "      <td>101</td>\n",
       "      <td>touran</td>\n",
       "      <td>150000</td>\n",
       "      <td>11</td>\n",
       "      <td>diesel</td>\n",
       "      <td>volkswagen</td>\n",
       "      <td>NaN</td>\n",
       "      <td>31/03/2016 0:00</td>\n",
       "      <td>27449</td>\n",
       "      <td>1/4/2016 8:40</td>\n",
       "      <td>0</td>\n",
       "    </tr>\n",
       "    <tr>\n",
       "      <th>3</th>\n",
       "      <td>19/03/2016 17:50</td>\n",
       "      <td>Seat_Ibiza_1.4_16V_Reference</td>\n",
       "      <td>private</td>\n",
       "      <td>offer</td>\n",
       "      <td>8.412055</td>\n",
       "      <td>control</td>\n",
       "      <td>small car</td>\n",
       "      <td>2006</td>\n",
       "      <td>manual</td>\n",
       "      <td>86</td>\n",
       "      <td>ibiza</td>\n",
       "      <td>60000</td>\n",
       "      <td>12</td>\n",
       "      <td>petrol</td>\n",
       "      <td>seat</td>\n",
       "      <td>no</td>\n",
       "      <td>19/03/2016 0:00</td>\n",
       "      <td>34537</td>\n",
       "      <td>7/4/2016 4:44</td>\n",
       "      <td>0</td>\n",
       "    </tr>\n",
       "    <tr>\n",
       "      <th>4</th>\n",
       "      <td>16/03/2016 14:51</td>\n",
       "      <td>Volvo_XC90_D5_Aut._RDesign_R_Design_AWD_GSHD_S...</td>\n",
       "      <td>private</td>\n",
       "      <td>offer</td>\n",
       "      <td>9.839002</td>\n",
       "      <td>test</td>\n",
       "      <td>suv</td>\n",
       "      <td>2008</td>\n",
       "      <td>automatic</td>\n",
       "      <td>185</td>\n",
       "      <td>xc_reihe</td>\n",
       "      <td>150000</td>\n",
       "      <td>11</td>\n",
       "      <td>diesel</td>\n",
       "      <td>volvo</td>\n",
       "      <td>no</td>\n",
       "      <td>16/03/2016 0:00</td>\n",
       "      <td>55270</td>\n",
       "      <td>1/4/2016 23:18</td>\n",
       "      <td>1</td>\n",
       "    </tr>\n",
       "    <tr>\n",
       "      <th>...</th>\n",
       "      <td>...</td>\n",
       "      <td>...</td>\n",
       "      <td>...</td>\n",
       "      <td>...</td>\n",
       "      <td>...</td>\n",
       "      <td>...</td>\n",
       "      <td>...</td>\n",
       "      <td>...</td>\n",
       "      <td>...</td>\n",
       "      <td>...</td>\n",
       "      <td>...</td>\n",
       "      <td>...</td>\n",
       "      <td>...</td>\n",
       "      <td>...</td>\n",
       "      <td>...</td>\n",
       "      <td>...</td>\n",
       "      <td>...</td>\n",
       "      <td>...</td>\n",
       "      <td>...</td>\n",
       "      <td>...</td>\n",
       "    </tr>\n",
       "    <tr>\n",
       "      <th>49993</th>\n",
       "      <td>14/03/2016 11:37</td>\n",
       "      <td>Renault_Clio_mit_Servolenkung_und_neuem_TÜV!</td>\n",
       "      <td>private</td>\n",
       "      <td>offer</td>\n",
       "      <td>6.722630</td>\n",
       "      <td>test</td>\n",
       "      <td>small car</td>\n",
       "      <td>1999</td>\n",
       "      <td>manual</td>\n",
       "      <td>60</td>\n",
       "      <td>clio</td>\n",
       "      <td>125000</td>\n",
       "      <td>8</td>\n",
       "      <td>petrol</td>\n",
       "      <td>renault</td>\n",
       "      <td>no</td>\n",
       "      <td>14/03/2016 0:00</td>\n",
       "      <td>33659</td>\n",
       "      <td>22/03/2016 4:47</td>\n",
       "      <td>0</td>\n",
       "    </tr>\n",
       "    <tr>\n",
       "      <th>49995</th>\n",
       "      <td>23/03/2016 21:45</td>\n",
       "      <td>Opel_Astra_G_Caravan__Tuev_2/2018__Scheckheft_...</td>\n",
       "      <td>private</td>\n",
       "      <td>offer</td>\n",
       "      <td>7.736744</td>\n",
       "      <td>test</td>\n",
       "      <td>station wagon</td>\n",
       "      <td>2001</td>\n",
       "      <td>manual</td>\n",
       "      <td>101</td>\n",
       "      <td>astra</td>\n",
       "      <td>150000</td>\n",
       "      <td>3</td>\n",
       "      <td>petrol</td>\n",
       "      <td>opel</td>\n",
       "      <td>no</td>\n",
       "      <td>23/03/2016 0:00</td>\n",
       "      <td>27305</td>\n",
       "      <td>4/4/2016 1:47</td>\n",
       "      <td>0</td>\n",
       "    </tr>\n",
       "    <tr>\n",
       "      <th>49997</th>\n",
       "      <td>27/03/2016 14:55</td>\n",
       "      <td>Suche_einen_originalen_VW_Golf_2_Fire_and_Ice_G60</td>\n",
       "      <td>private</td>\n",
       "      <td>request</td>\n",
       "      <td>9.903488</td>\n",
       "      <td>control</td>\n",
       "      <td>NaN</td>\n",
       "      <td>1990</td>\n",
       "      <td>NaN</td>\n",
       "      <td>0</td>\n",
       "      <td>golf</td>\n",
       "      <td>5000</td>\n",
       "      <td>0</td>\n",
       "      <td>NaN</td>\n",
       "      <td>volkswagen</td>\n",
       "      <td>NaN</td>\n",
       "      <td>27/03/2016 0:00</td>\n",
       "      <td>50181</td>\n",
       "      <td>7/4/2016 11:45</td>\n",
       "      <td>1</td>\n",
       "    </tr>\n",
       "    <tr>\n",
       "      <th>49999</th>\n",
       "      <td>15/03/2016 18:06</td>\n",
       "      <td>Verkaufe_mehrere_Fahrzeuge_zum_Verschrotten</td>\n",
       "      <td>commercial</td>\n",
       "      <td>offer</td>\n",
       "      <td>4.615121</td>\n",
       "      <td>control</td>\n",
       "      <td>station wagon</td>\n",
       "      <td>2000</td>\n",
       "      <td>manual</td>\n",
       "      <td>0</td>\n",
       "      <td>megane</td>\n",
       "      <td>150000</td>\n",
       "      <td>8</td>\n",
       "      <td>petrol</td>\n",
       "      <td>renault</td>\n",
       "      <td>NaN</td>\n",
       "      <td>15/03/2016 0:00</td>\n",
       "      <td>65232</td>\n",
       "      <td>6/4/2016 17:15</td>\n",
       "      <td>0</td>\n",
       "    </tr>\n",
       "    <tr>\n",
       "      <th>50000</th>\n",
       "      <td>22/03/2016 9:54</td>\n",
       "      <td>Chevrolet_Matiz_1.Hd_TÜV11/2017</td>\n",
       "      <td>commercial</td>\n",
       "      <td>offer</td>\n",
       "      <td>7.003974</td>\n",
       "      <td>test</td>\n",
       "      <td>small car</td>\n",
       "      <td>2006</td>\n",
       "      <td>manual</td>\n",
       "      <td>38</td>\n",
       "      <td>matiz</td>\n",
       "      <td>150000</td>\n",
       "      <td>10</td>\n",
       "      <td>petrol</td>\n",
       "      <td>chevrolet</td>\n",
       "      <td>no</td>\n",
       "      <td>22/03/2016 0:00</td>\n",
       "      <td>7973</td>\n",
       "      <td>5/4/2016 21:15</td>\n",
       "      <td>0</td>\n",
       "    </tr>\n",
       "  </tbody>\n",
       "</table>\n",
       "<p>48215 rows × 20 columns</p>\n",
       "</div>"
      ],
      "text/plain": [
       "            dateCrawled                                               name  \\\n",
       "0      30/03/2016 13:51                                       Zu_verkaufen   \n",
       "1         7/3/2016 9:54                             Volvo_XC90_2.4D_Summum   \n",
       "2         1/4/2016 0:57                                  Volkswagen_Touran   \n",
       "3      19/03/2016 17:50                       Seat_Ibiza_1.4_16V_Reference   \n",
       "4      16/03/2016 14:51  Volvo_XC90_D5_Aut._RDesign_R_Design_AWD_GSHD_S...   \n",
       "...                 ...                                                ...   \n",
       "49993  14/03/2016 11:37       Renault_Clio_mit_Servolenkung_und_neuem_TÜV!   \n",
       "49995  23/03/2016 21:45  Opel_Astra_G_Caravan__Tuev_2/2018__Scheckheft_...   \n",
       "49997  27/03/2016 14:55  Suche_einen_originalen_VW_Golf_2_Fire_and_Ice_G60   \n",
       "49999  15/03/2016 18:06        Verkaufe_mehrere_Fahrzeuge_zum_Verschrotten   \n",
       "50000   22/03/2016 9:54                    Chevrolet_Matiz_1.Hd_TÜV11/2017   \n",
       "\n",
       "           seller offerType     price   abtest    vehicleType  \\\n",
       "0         private     offer  8.400884     test      limousine   \n",
       "1         private     offer  9.495519  control            suv   \n",
       "2         private     offer  8.071219     test            bus   \n",
       "3         private     offer  8.412055  control      small car   \n",
       "4         private     offer  9.839002     test            suv   \n",
       "...           ...       ...       ...      ...            ...   \n",
       "49993     private     offer  6.722630     test      small car   \n",
       "49995     private     offer  7.736744     test  station wagon   \n",
       "49997     private   request  9.903488  control            NaN   \n",
       "49999  commercial     offer  4.615121  control  station wagon   \n",
       "50000  commercial     offer  7.003974     test      small car   \n",
       "\n",
       "       yearOfRegistration    gearbox  powerPS     model  kilometer  \\\n",
       "0                    2003     manual      150       3er     150000   \n",
       "1                    2005     manual      163  xc_reihe     150000   \n",
       "2                    2003     manual      101    touran     150000   \n",
       "3                    2006     manual       86     ibiza      60000   \n",
       "4                    2008  automatic      185  xc_reihe     150000   \n",
       "...                   ...        ...      ...       ...        ...   \n",
       "49993                1999     manual       60      clio     125000   \n",
       "49995                2001     manual      101     astra     150000   \n",
       "49997                1990        NaN        0      golf       5000   \n",
       "49999                2000     manual        0    megane     150000   \n",
       "50000                2006     manual       38     matiz     150000   \n",
       "\n",
       "       monthOfRegistration fuelType       brand notRepairedDamage  \\\n",
       "0                        3   diesel         bmw               NaN   \n",
       "1                        6   diesel       volvo                no   \n",
       "2                       11   diesel  volkswagen               NaN   \n",
       "3                       12   petrol        seat                no   \n",
       "4                       11   diesel       volvo                no   \n",
       "...                    ...      ...         ...               ...   \n",
       "49993                    8   petrol     renault                no   \n",
       "49995                    3   petrol        opel                no   \n",
       "49997                    0      NaN  volkswagen               NaN   \n",
       "49999                    8   petrol     renault               NaN   \n",
       "50000                   10   petrol   chevrolet                no   \n",
       "\n",
       "           dateCreated  postalCode          lastSeen  price_outlier  \n",
       "0      30/03/2016 0:00       20257     7/4/2016 4:44              0  \n",
       "1        7/3/2016 0:00       88045  26/03/2016 13:17              0  \n",
       "2      31/03/2016 0:00       27449     1/4/2016 8:40              0  \n",
       "3      19/03/2016 0:00       34537     7/4/2016 4:44              0  \n",
       "4      16/03/2016 0:00       55270    1/4/2016 23:18              1  \n",
       "...                ...         ...               ...            ...  \n",
       "49993  14/03/2016 0:00       33659   22/03/2016 4:47              0  \n",
       "49995  23/03/2016 0:00       27305     4/4/2016 1:47              0  \n",
       "49997  27/03/2016 0:00       50181    7/4/2016 11:45              1  \n",
       "49999  15/03/2016 0:00       65232    6/4/2016 17:15              0  \n",
       "50000  22/03/2016 0:00        7973    5/4/2016 21:15              0  \n",
       "\n",
       "[48215 rows x 20 columns]"
      ]
     },
     "execution_count": 19,
     "metadata": {},
     "output_type": "execute_result"
    }
   ],
   "source": [
    "df = df[(df.price >= lower_bound) & (df.price <= upper_bound)]\n",
    "df"
   ]
  },
  {
   "cell_type": "markdown",
   "id": "d7974b21",
   "metadata": {},
   "source": [
    "### 5. Аналогично поработайте и с другими «важными для целевой функции price» параметрами (powerPS, yearOfRegistration, kilometer и т.д). «Важность» докажите через коэффициент корреляции. Сделайте визуализацию."
   ]
  },
  {
   "cell_type": "code",
   "execution_count": 20,
   "id": "1aa7ab7f",
   "metadata": {},
   "outputs": [
    {
     "data": {
      "image/png": "[encoded data removed]",
      "text/plain": [
       "<Figure size 500x500 with 1 Axes>"
      ]
     },
     "metadata": {},
     "output_type": "display_data"
    }
   ],
   "source": [
    "f=plt.figure(figsize=(5,5))\n",
    "sns.heatmap(df.drop(columns=\"price_outlier\").corr(numeric_only=True).abs(), annot=True, cbar= False, cmap=sns.color_palette(\"YlOrRd\", as_cmap=True))\n",
    "plt.show()"
   ]
  },
  {
   "cell_type": "code",
   "execution_count": 21,
   "id": "4c192407",
   "metadata": {},
   "outputs": [
    {
     "data": {
      "text/plain": [
       "<AxesSubplot: ylabel='Frequency'>"
      ]
     },
     "execution_count": 21,
     "metadata": {},
     "output_type": "execute_result"
    },
    {
     "data": {
      "image/png": "[encoded data removed]",
      "text/plain": [
       "<Figure size 1000x800 with 1 Axes>"
      ]
     },
     "metadata": {},
     "output_type": "display_data"
    }
   ],
   "source": [
    "q1 = df.yearOfRegistration.quantile(q=0.25)\n",
    "q3 = df.yearOfRegistration.quantile(q=0.75)\n",
    "diff_bound = (q3 - q1)\n",
    "lower_bound = q1 - 1.5*diff_bound\n",
    "upper_bound = q3 + 1.5*diff_bound\n",
    "df_no_outliers = df[(df.yearOfRegistration >= lower_bound) & (df.yearOfRegistration <= upper_bound)]\n",
    "df.plot.hist(column=\"yearOfRegistration\", bins = 30, alpha=0.5, figsize=(10, 8), range=(df_no_outliers[\"yearOfRegistration\"].min(), df_no_outliers[\"yearOfRegistration\"].max()))\n"
   ]
  },
  {
   "cell_type": "code",
   "execution_count": 79,
   "id": "ff9114cf",
   "metadata": {},
   "outputs": [
    {
     "data": {
      "text/plain": [
       "<AxesSubplot: >"
      ]
     },
     "execution_count": 79,
     "metadata": {},
     "output_type": "execute_result"
    },
    {
     "data": {
      "image/png": "[encoded data removed]",
      "text/plain": [
       "<Figure size 640x480 with 1 Axes>"
      ]
     },
     "metadata": {},
     "output_type": "display_data"
    }
   ],
   "source": [
    "df.yearOfRegistration.hist()"
   ]
  },
  {
   "cell_type": "code",
   "execution_count": 22,
   "id": "a186549a",
   "metadata": {},
   "outputs": [
    {
     "name": "stderr",
     "output_type": "stream",
     "text": [
      "/var/folders/_2/shqql00d1bv89ty1rnzcbxg00000gn/T/ipykernel_88784/3366580664.py:1: SettingWithCopyWarning: \n",
      "A value is trying to be set on a copy of a slice from a DataFrame.\n",
      "Try using .loc[row_indexer,col_indexer] = value instead\n",
      "\n",
      "See the caveats in the documentation: https://pandas.pydata.org/pandas-docs/stable/user_guide/indexing.html#returning-a-view-versus-a-copy\n",
      "  df.yearOfRegistration = np.log1p(df.yearOfRegistration)\n"
     ]
    }
   ],
   "source": [
    "df.yearOfRegistration = np.log1p(df.yearOfRegistration)\n",
    "q1 = df.yearOfRegistration.quantile(q=0.25)\n",
    "q3 = df.yearOfRegistration.quantile(q=0.75)\n",
    "diff_bound = (q3 - q1)\n",
    "lower_bound = q1 - 1.5*diff_bound\n",
    "upper_bound = q3 + 1.5*diff_bound"
   ]
  },
  {
   "cell_type": "code",
   "execution_count": 23,
   "id": "c8e0ac09",
   "metadata": {},
   "outputs": [
    {
     "data": {
      "text/plain": [
       "<AxesSubplot: >"
      ]
     },
     "execution_count": 23,
     "metadata": {},
     "output_type": "execute_result"
    },
    {
     "data": {
      "image/png": "[encoded data removed]",
      "text/plain": [
       "<Figure size 640x480 with 1 Axes>"
      ]
     },
     "metadata": {},
     "output_type": "display_data"
    }
   ],
   "source": [
    "df.boxplot(column=[\"yearOfRegistration\"])"
   ]
  },
  {
   "cell_type": "code",
   "execution_count": 24,
   "id": "24737456",
   "metadata": {},
   "outputs": [
    {
     "name": "stderr",
     "output_type": "stream",
     "text": [
      "/var/folders/_2/shqql00d1bv89ty1rnzcbxg00000gn/T/ipykernel_88784/3454480775.py:1: SettingWithCopyWarning: \n",
      "A value is trying to be set on a copy of a slice from a DataFrame.\n",
      "Try using .loc[row_indexer,col_indexer] = value instead\n",
      "\n",
      "See the caveats in the documentation: https://pandas.pydata.org/pandas-docs/stable/user_guide/indexing.html#returning-a-view-versus-a-copy\n",
      "  df['yearOfRegistration_outlier'] = 0\n"
     ]
    },
    {
     "data": {
      "text/plain": [
       "0    47382\n",
       "1      833\n",
       "Name: yearOfRegistration_outlier, dtype: int64"
      ]
     },
     "execution_count": 24,
     "metadata": {},
     "output_type": "execute_result"
    }
   ],
   "source": [
    "df['yearOfRegistration_outlier'] = 0\n",
    "df.loc[(df.yearOfRegistration < lower_bound) | (df.yearOfRegistration > upper_bound), 'yearOfRegistration_outlier'] = 1\n",
    "df['yearOfRegistration_outlier'].value_counts()\n"
   ]
  },
  {
   "cell_type": "code",
   "execution_count": 25,
   "id": "13a2e638",
   "metadata": {},
   "outputs": [],
   "source": [
    "df = df[(df.yearOfRegistration >= lower_bound) & (df.yearOfRegistration <= upper_bound)]"
   ]
  },
  {
   "cell_type": "code",
   "execution_count": 26,
   "id": "9aff97af",
   "metadata": {},
   "outputs": [
    {
     "data": {
      "text/plain": [
       "<AxesSubplot: ylabel='Frequency'>"
      ]
     },
     "execution_count": 26,
     "metadata": {},
     "output_type": "execute_result"
    },
    {
     "data": {
      "image/png": "[encoded data removed]",
      "text/plain": [
       "<Figure size 1000x800 with 1 Axes>"
      ]
     },
     "metadata": {},
     "output_type": "display_data"
    }
   ],
   "source": [
    "q1 = df.powerPS.quantile(q=0.25)\n",
    "q3 = df.powerPS.quantile(q=0.75)\n",
    "diff_bound = (q3 - q1)\n",
    "lower_bound = q1 - 1.5*diff_bound\n",
    "upper_bound = q3 + 1.5*diff_bound\n",
    "df_no_outliers = df[(df.powerPS >= lower_bound) & (df.powerPS <= upper_bound)]\n",
    "df.plot.hist(column=\"powerPS\", bins = 30, alpha=0.5, figsize=(10, 8), range=(df_no_outliers[\"powerPS\"].min(), df_no_outliers[\"powerPS\"].max()))\n"
   ]
  },
  {
   "cell_type": "code",
   "execution_count": 27,
   "id": "1afc2344",
   "metadata": {},
   "outputs": [
    {
     "name": "stderr",
     "output_type": "stream",
     "text": [
      "/var/folders/_2/shqql00d1bv89ty1rnzcbxg00000gn/T/ipykernel_88784/1831267064.py:1: SettingWithCopyWarning: \n",
      "A value is trying to be set on a copy of a slice from a DataFrame.\n",
      "Try using .loc[row_indexer,col_indexer] = value instead\n",
      "\n",
      "See the caveats in the documentation: https://pandas.pydata.org/pandas-docs/stable/user_guide/indexing.html#returning-a-view-versus-a-copy\n",
      "  df.powerPS = np.log1p(df.powerPS)\n"
     ]
    }
   ],
   "source": [
    "df.powerPS = np.log1p(df.powerPS)\n",
    "q1 = df.powerPS.quantile(q=0.25)\n",
    "q3 = df.powerPS.quantile(q=0.75)\n",
    "diff_bound = (q3 - q1)\n",
    "lower_bound = q1 - 1.5*diff_bound\n",
    "upper_bound = q3 + 1.5*diff_bound"
   ]
  },
  {
   "cell_type": "code",
   "execution_count": 28,
   "id": "dfe8b210",
   "metadata": {},
   "outputs": [
    {
     "data": {
      "text/plain": [
       "<AxesSubplot: >"
      ]
     },
     "execution_count": 28,
     "metadata": {},
     "output_type": "execute_result"
    },
    {
     "data": {
      "image/png": "[encoded data removed]",
      "text/plain": [
       "<Figure size 640x480 with 1 Axes>"
      ]
     },
     "metadata": {},
     "output_type": "display_data"
    }
   ],
   "source": [
    "df.boxplot(column=[\"powerPS\"])"
   ]
  },
  {
   "cell_type": "code",
   "execution_count": 29,
   "id": "0131d83d",
   "metadata": {},
   "outputs": [
    {
     "name": "stderr",
     "output_type": "stream",
     "text": [
      "/var/folders/_2/shqql00d1bv89ty1rnzcbxg00000gn/T/ipykernel_88784/1314221541.py:1: SettingWithCopyWarning: \n",
      "A value is trying to be set on a copy of a slice from a DataFrame.\n",
      "Try using .loc[row_indexer,col_indexer] = value instead\n",
      "\n",
      "See the caveats in the documentation: https://pandas.pydata.org/pandas-docs/stable/user_guide/indexing.html#returning-a-view-versus-a-copy\n",
      "  df['powerPS_outlier'] = 0\n"
     ]
    },
    {
     "data": {
      "text/plain": [
       "0    42417\n",
       "1     4965\n",
       "Name: powerPS_outlier, dtype: int64"
      ]
     },
     "execution_count": 29,
     "metadata": {},
     "output_type": "execute_result"
    }
   ],
   "source": [
    "df['powerPS_outlier'] = 0\n",
    "df.loc[(df.powerPS < lower_bound) | (df.powerPS > upper_bound), 'powerPS_outlier'] = 1\n",
    "df['powerPS_outlier'].value_counts()\n"
   ]
  },
  {
   "cell_type": "code",
   "execution_count": 30,
   "id": "cf3d8e07",
   "metadata": {},
   "outputs": [],
   "source": [
    "df = df[(df.powerPS >= lower_bound) & (df.powerPS <= upper_bound)]"
   ]
  },
  {
   "cell_type": "code",
   "execution_count": 31,
   "id": "f968bf25",
   "metadata": {},
   "outputs": [
    {
     "data": {
      "text/plain": [
       "<AxesSubplot: ylabel='Frequency'>"
      ]
     },
     "execution_count": 31,
     "metadata": {},
     "output_type": "execute_result"
    },
    {
     "data": {
      "image/png": "[encoded data removed]",
      "text/plain": [
       "<Figure size 1000x800 with 1 Axes>"
      ]
     },
     "metadata": {},
     "output_type": "display_data"
    }
   ],
   "source": [
    "q1 = df.kilometer.quantile(q=0.25)\n",
    "q3 = df.kilometer.quantile(q=0.75)\n",
    "diff_bound = (q3 - q1)\n",
    "lower_bound = q1 - 1.5*diff_bound\n",
    "upper_bound = q3 + 1.5*diff_bound\n",
    "df_no_outliers = df[(df.kilometer >= lower_bound) & (df.kilometer <= upper_bound)]\n",
    "df.plot.hist(column=\"kilometer\", bins = 10, alpha=0.5, figsize=(10, 8), range=(df_no_outliers[\"kilometer\"].min(), df_no_outliers[\"kilometer\"].max()))\n"
   ]
  },
  {
   "cell_type": "code",
   "execution_count": 32,
   "id": "b165eb29",
   "metadata": {},
   "outputs": [
    {
     "name": "stderr",
     "output_type": "stream",
     "text": [
      "/var/folders/_2/shqql00d1bv89ty1rnzcbxg00000gn/T/ipykernel_88784/3113364006.py:1: SettingWithCopyWarning: \n",
      "A value is trying to be set on a copy of a slice from a DataFrame.\n",
      "Try using .loc[row_indexer,col_indexer] = value instead\n",
      "\n",
      "See the caveats in the documentation: https://pandas.pydata.org/pandas-docs/stable/user_guide/indexing.html#returning-a-view-versus-a-copy\n",
      "  df[\"kilometer\"] = np.log1p(df[\"kilometer\"])\n"
     ]
    }
   ],
   "source": [
    "df[\"kilometer\"] = np.log1p(df[\"kilometer\"])\n",
    "q1 = df.kilometer.quantile(q=0.1)\n",
    "q3 = df.kilometer.quantile(q=0.9)\n",
    "lower_bound = q1 \n",
    "upper_bound = q3 "
   ]
  },
  {
   "cell_type": "code",
   "execution_count": 33,
   "id": "3cdfeed5",
   "metadata": {},
   "outputs": [
    {
     "data": {
      "text/plain": [
       "<AxesSubplot: >"
      ]
     },
     "execution_count": 33,
     "metadata": {},
     "output_type": "execute_result"
    },
    {
     "data": {
      "image/png": "[encoded data removed]",
      "text/plain": [
       "<Figure size 640x480 with 1 Axes>"
      ]
     },
     "metadata": {},
     "output_type": "display_data"
    }
   ],
   "source": [
    "df.boxplot(column=[\"kilometer\"])"
   ]
  },
  {
   "cell_type": "code",
   "execution_count": 34,
   "id": "932c2239",
   "metadata": {},
   "outputs": [
    {
     "name": "stderr",
     "output_type": "stream",
     "text": [
      "/var/folders/_2/shqql00d1bv89ty1rnzcbxg00000gn/T/ipykernel_88784/1461101915.py:1: SettingWithCopyWarning: \n",
      "A value is trying to be set on a copy of a slice from a DataFrame.\n",
      "Try using .loc[row_indexer,col_indexer] = value instead\n",
      "\n",
      "See the caveats in the documentation: https://pandas.pydata.org/pandas-docs/stable/user_guide/indexing.html#returning-a-view-versus-a-copy\n",
      "  df['kilometer_outlier'] = 0\n"
     ]
    },
    {
     "data": {
      "text/plain": [
       "0    38791\n",
       "1     3626\n",
       "Name: kilometer_outlier, dtype: int64"
      ]
     },
     "execution_count": 34,
     "metadata": {},
     "output_type": "execute_result"
    }
   ],
   "source": [
    "df['kilometer_outlier'] = 0\n",
    "df.loc[(df.kilometer < lower_bound) | (df.kilometer > upper_bound), 'kilometer_outlier'] = 1\n",
    "df['kilometer_outlier'].value_counts()\n"
   ]
  },
  {
   "cell_type": "code",
   "execution_count": 35,
   "id": "ae89a1a9",
   "metadata": {},
   "outputs": [],
   "source": [
    "df = df[(df.kilometer >= lower_bound) & (df.kilometer <= upper_bound)]"
   ]
  },
  {
   "cell_type": "markdown",
   "id": "8ffbb1ad",
   "metadata": {},
   "source": [
    "### 6. Постройте ящиковые диаграммы зависимости gearbox, fuelType, vehicleType, notRepairedDamage от price. Сделайте выводы. Можно ли убрать значения с малой частотой? Повлияет ли это на дальнейшее исследование?"
   ]
  },
  {
   "cell_type": "code",
   "execution_count": 36,
   "id": "88d62eab",
   "metadata": {},
   "outputs": [
    {
     "data": {
      "text/plain": [
       "<AxesSubplot: xlabel='gearbox', ylabel='price'>"
      ]
     },
     "execution_count": 36,
     "metadata": {},
     "output_type": "execute_result"
    },
    {
     "data": {
      "image/png": "[encoded data removed]",
      "text/plain": [
       "<Figure size 640x480 with 1 Axes>"
      ]
     },
     "metadata": {},
     "output_type": "display_data"
    }
   ],
   "source": [
    "sns.boxplot(y=df['price'], x=df['gearbox'])"
   ]
  },
  {
   "cell_type": "code",
   "execution_count": 37,
   "id": "6d033b81",
   "metadata": {},
   "outputs": [
    {
     "data": {
      "text/plain": [
       "<AxesSubplot: xlabel='fuelType', ylabel='price'>"
      ]
     },
     "execution_count": 37,
     "metadata": {},
     "output_type": "execute_result"
    },
    {
     "data": {
      "image/png": "[encoded data removed]",
      "text/plain": [
       "<Figure size 640x480 with 1 Axes>"
      ]
     },
     "metadata": {},
     "output_type": "display_data"
    }
   ],
   "source": [
    "sns.boxplot(y=df['price'], x=df['fuelType'])"
   ]
  },
  {
   "cell_type": "code",
   "execution_count": 38,
   "id": "3d1af307",
   "metadata": {},
   "outputs": [
    {
     "data": {
      "text/plain": [
       "<AxesSubplot: xlabel='vehicleType', ylabel='price'>"
      ]
     },
     "execution_count": 38,
     "metadata": {},
     "output_type": "execute_result"
    },
    {
     "data": {
      "image/png": "[encoded data removed]",
      "text/plain": [
       "<Figure size 640x480 with 1 Axes>"
      ]
     },
     "metadata": {},
     "output_type": "display_data"
    }
   ],
   "source": [
    "sns.boxplot(y=df['price'], x=df['vehicleType'])"
   ]
  },
  {
   "cell_type": "code",
   "execution_count": 39,
   "id": "d90f4c88",
   "metadata": {},
   "outputs": [
    {
     "data": {
      "text/plain": [
       "<AxesSubplot: xlabel='notRepairedDamage', ylabel='price'>"
      ]
     },
     "execution_count": 39,
     "metadata": {},
     "output_type": "execute_result"
    },
    {
     "data": {
      "image/png": "[encoded data removed]",
      "text/plain": [
       "<Figure size 640x480 with 1 Axes>"
      ]
     },
     "metadata": {},
     "output_type": "display_data"
    }
   ],
   "source": [
    "sns.boxplot(y=df['price'], x=df['notRepairedDamage'])"
   ]
  },
  {
   "cell_type": "markdown",
   "id": "8c7ad946",
   "metadata": {},
   "source": [
    "### 7. Найдите пропуски. Удалите столбцы, которые содержат большое количество пропусков. В остальных случаях постарайтесь восстановить пропущенные значения."
   ]
  },
  {
   "cell_type": "code",
   "execution_count": 40,
   "id": "cb1483a6",
   "metadata": {},
   "outputs": [
    {
     "data": {
      "text/plain": [
       "dateCrawled                      0\n",
       "name                             0\n",
       "seller                           0\n",
       "offerType                        0\n",
       "price                            0\n",
       "abtest                           0\n",
       "vehicleType                   2676\n",
       "yearOfRegistration               0\n",
       "gearbox                        695\n",
       "powerPS                          0\n",
       "model                         1438\n",
       "kilometer                        0\n",
       "monthOfRegistration              0\n",
       "fuelType                      2391\n",
       "brand                            0\n",
       "notRepairedDamage             5833\n",
       "dateCreated                      0\n",
       "postalCode                       0\n",
       "lastSeen                         0\n",
       "price_outlier                    0\n",
       "yearOfRegistration_outlier       0\n",
       "powerPS_outlier                  0\n",
       "kilometer_outlier                0\n",
       "dtype: int64"
      ]
     },
     "execution_count": 40,
     "metadata": {},
     "output_type": "execute_result"
    }
   ],
   "source": [
    "df.isna().sum()"
   ]
  },
  {
   "cell_type": "code",
   "execution_count": 41,
   "id": "997aa3e8",
   "metadata": {
    "scrolled": true
   },
   "outputs": [
    {
     "data": {
      "text/html": [
       "<div>\n",
       "<style scoped>\n",
       "    .dataframe tbody tr th:only-of-type {\n",
       "        vertical-align: middle;\n",
       "    }\n",
       "\n",
       "    .dataframe tbody tr th {\n",
       "        vertical-align: top;\n",
       "    }\n",
       "\n",
       "    .dataframe thead th {\n",
       "        text-align: right;\n",
       "    }\n",
       "</style>\n",
       "<table border=\"1\" class=\"dataframe\">\n",
       "  <thead>\n",
       "    <tr style=\"text-align: right;\">\n",
       "      <th></th>\n",
       "      <th>dateCrawled</th>\n",
       "      <th>name</th>\n",
       "      <th>seller</th>\n",
       "      <th>offerType</th>\n",
       "      <th>price</th>\n",
       "      <th>abtest</th>\n",
       "      <th>vehicleType</th>\n",
       "      <th>yearOfRegistration</th>\n",
       "      <th>gearbox</th>\n",
       "      <th>powerPS</th>\n",
       "      <th>...</th>\n",
       "      <th>monthOfRegistration</th>\n",
       "      <th>fuelType</th>\n",
       "      <th>brand</th>\n",
       "      <th>dateCreated</th>\n",
       "      <th>postalCode</th>\n",
       "      <th>lastSeen</th>\n",
       "      <th>price_outlier</th>\n",
       "      <th>yearOfRegistration_outlier</th>\n",
       "      <th>powerPS_outlier</th>\n",
       "      <th>kilometer_outlier</th>\n",
       "    </tr>\n",
       "  </thead>\n",
       "  <tbody>\n",
       "    <tr>\n",
       "      <th>0</th>\n",
       "      <td>30/03/2016 13:51</td>\n",
       "      <td>Zu_verkaufen</td>\n",
       "      <td>private</td>\n",
       "      <td>offer</td>\n",
       "      <td>8.400884</td>\n",
       "      <td>test</td>\n",
       "      <td>limousine</td>\n",
       "      <td>7.602900</td>\n",
       "      <td>manual</td>\n",
       "      <td>5.017280</td>\n",
       "      <td>...</td>\n",
       "      <td>3</td>\n",
       "      <td>diesel</td>\n",
       "      <td>bmw</td>\n",
       "      <td>30/03/2016 0:00</td>\n",
       "      <td>20257</td>\n",
       "      <td>7/4/2016 4:44</td>\n",
       "      <td>0</td>\n",
       "      <td>0</td>\n",
       "      <td>0</td>\n",
       "      <td>0</td>\n",
       "    </tr>\n",
       "    <tr>\n",
       "      <th>1</th>\n",
       "      <td>7/3/2016 9:54</td>\n",
       "      <td>Volvo_XC90_2.4D_Summum</td>\n",
       "      <td>private</td>\n",
       "      <td>offer</td>\n",
       "      <td>9.495519</td>\n",
       "      <td>control</td>\n",
       "      <td>suv</td>\n",
       "      <td>7.603898</td>\n",
       "      <td>manual</td>\n",
       "      <td>5.099866</td>\n",
       "      <td>...</td>\n",
       "      <td>6</td>\n",
       "      <td>diesel</td>\n",
       "      <td>volvo</td>\n",
       "      <td>7/3/2016 0:00</td>\n",
       "      <td>88045</td>\n",
       "      <td>26/03/2016 13:17</td>\n",
       "      <td>0</td>\n",
       "      <td>0</td>\n",
       "      <td>0</td>\n",
       "      <td>0</td>\n",
       "    </tr>\n",
       "    <tr>\n",
       "      <th>2</th>\n",
       "      <td>1/4/2016 0:57</td>\n",
       "      <td>Volkswagen_Touran</td>\n",
       "      <td>private</td>\n",
       "      <td>offer</td>\n",
       "      <td>8.071219</td>\n",
       "      <td>test</td>\n",
       "      <td>bus</td>\n",
       "      <td>7.602900</td>\n",
       "      <td>manual</td>\n",
       "      <td>4.624973</td>\n",
       "      <td>...</td>\n",
       "      <td>11</td>\n",
       "      <td>diesel</td>\n",
       "      <td>volkswagen</td>\n",
       "      <td>31/03/2016 0:00</td>\n",
       "      <td>27449</td>\n",
       "      <td>1/4/2016 8:40</td>\n",
       "      <td>0</td>\n",
       "      <td>0</td>\n",
       "      <td>0</td>\n",
       "      <td>0</td>\n",
       "    </tr>\n",
       "    <tr>\n",
       "      <th>3</th>\n",
       "      <td>19/03/2016 17:50</td>\n",
       "      <td>Seat_Ibiza_1.4_16V_Reference</td>\n",
       "      <td>private</td>\n",
       "      <td>offer</td>\n",
       "      <td>8.412055</td>\n",
       "      <td>control</td>\n",
       "      <td>small car</td>\n",
       "      <td>7.604396</td>\n",
       "      <td>manual</td>\n",
       "      <td>4.465908</td>\n",
       "      <td>...</td>\n",
       "      <td>12</td>\n",
       "      <td>petrol</td>\n",
       "      <td>seat</td>\n",
       "      <td>19/03/2016 0:00</td>\n",
       "      <td>34537</td>\n",
       "      <td>7/4/2016 4:44</td>\n",
       "      <td>0</td>\n",
       "      <td>0</td>\n",
       "      <td>0</td>\n",
       "      <td>0</td>\n",
       "    </tr>\n",
       "    <tr>\n",
       "      <th>4</th>\n",
       "      <td>16/03/2016 14:51</td>\n",
       "      <td>Volvo_XC90_D5_Aut._RDesign_R_Design_AWD_GSHD_S...</td>\n",
       "      <td>private</td>\n",
       "      <td>offer</td>\n",
       "      <td>9.839002</td>\n",
       "      <td>test</td>\n",
       "      <td>suv</td>\n",
       "      <td>7.605392</td>\n",
       "      <td>automatic</td>\n",
       "      <td>5.225747</td>\n",
       "      <td>...</td>\n",
       "      <td>11</td>\n",
       "      <td>diesel</td>\n",
       "      <td>volvo</td>\n",
       "      <td>16/03/2016 0:00</td>\n",
       "      <td>55270</td>\n",
       "      <td>1/4/2016 23:18</td>\n",
       "      <td>1</td>\n",
       "      <td>0</td>\n",
       "      <td>0</td>\n",
       "      <td>0</td>\n",
       "    </tr>\n",
       "    <tr>\n",
       "      <th>...</th>\n",
       "      <td>...</td>\n",
       "      <td>...</td>\n",
       "      <td>...</td>\n",
       "      <td>...</td>\n",
       "      <td>...</td>\n",
       "      <td>...</td>\n",
       "      <td>...</td>\n",
       "      <td>...</td>\n",
       "      <td>...</td>\n",
       "      <td>...</td>\n",
       "      <td>...</td>\n",
       "      <td>...</td>\n",
       "      <td>...</td>\n",
       "      <td>...</td>\n",
       "      <td>...</td>\n",
       "      <td>...</td>\n",
       "      <td>...</td>\n",
       "      <td>...</td>\n",
       "      <td>...</td>\n",
       "      <td>...</td>\n",
       "      <td>...</td>\n",
       "    </tr>\n",
       "    <tr>\n",
       "      <th>49991</th>\n",
       "      <td>10/3/2016 23:36</td>\n",
       "      <td>BMW_X3_3.0i</td>\n",
       "      <td>private</td>\n",
       "      <td>offer</td>\n",
       "      <td>9.296610</td>\n",
       "      <td>test</td>\n",
       "      <td>limousine</td>\n",
       "      <td>7.603399</td>\n",
       "      <td>manual</td>\n",
       "      <td>5.446737</td>\n",
       "      <td>...</td>\n",
       "      <td>8</td>\n",
       "      <td>petrol</td>\n",
       "      <td>bmw</td>\n",
       "      <td>10/3/2016 0:00</td>\n",
       "      <td>96152</td>\n",
       "      <td>6/4/2016 2:17</td>\n",
       "      <td>0</td>\n",
       "      <td>0</td>\n",
       "      <td>0</td>\n",
       "      <td>0</td>\n",
       "    </tr>\n",
       "    <tr>\n",
       "      <th>49992</th>\n",
       "      <td>14/03/2016 13:57</td>\n",
       "      <td>Opel_Astra_2.0_DI_Elegance</td>\n",
       "      <td>private</td>\n",
       "      <td>offer</td>\n",
       "      <td>6.673298</td>\n",
       "      <td>test</td>\n",
       "      <td>limousine</td>\n",
       "      <td>7.600402</td>\n",
       "      <td>manual</td>\n",
       "      <td>4.418841</td>\n",
       "      <td>...</td>\n",
       "      <td>9</td>\n",
       "      <td>diesel</td>\n",
       "      <td>opel</td>\n",
       "      <td>14/03/2016 0:00</td>\n",
       "      <td>99310</td>\n",
       "      <td>31/03/2016 0:45</td>\n",
       "      <td>0</td>\n",
       "      <td>0</td>\n",
       "      <td>0</td>\n",
       "      <td>0</td>\n",
       "    </tr>\n",
       "    <tr>\n",
       "      <th>49993</th>\n",
       "      <td>14/03/2016 11:37</td>\n",
       "      <td>Renault_Clio_mit_Servolenkung_und_neuem_TÜV!</td>\n",
       "      <td>private</td>\n",
       "      <td>offer</td>\n",
       "      <td>6.722630</td>\n",
       "      <td>test</td>\n",
       "      <td>small car</td>\n",
       "      <td>7.600902</td>\n",
       "      <td>manual</td>\n",
       "      <td>4.110874</td>\n",
       "      <td>...</td>\n",
       "      <td>8</td>\n",
       "      <td>petrol</td>\n",
       "      <td>renault</td>\n",
       "      <td>14/03/2016 0:00</td>\n",
       "      <td>33659</td>\n",
       "      <td>22/03/2016 4:47</td>\n",
       "      <td>0</td>\n",
       "      <td>0</td>\n",
       "      <td>0</td>\n",
       "      <td>0</td>\n",
       "    </tr>\n",
       "    <tr>\n",
       "      <th>49995</th>\n",
       "      <td>23/03/2016 21:45</td>\n",
       "      <td>Opel_Astra_G_Caravan__Tuev_2/2018__Scheckheft_...</td>\n",
       "      <td>private</td>\n",
       "      <td>offer</td>\n",
       "      <td>7.736744</td>\n",
       "      <td>test</td>\n",
       "      <td>station wagon</td>\n",
       "      <td>7.601902</td>\n",
       "      <td>manual</td>\n",
       "      <td>4.624973</td>\n",
       "      <td>...</td>\n",
       "      <td>3</td>\n",
       "      <td>petrol</td>\n",
       "      <td>opel</td>\n",
       "      <td>23/03/2016 0:00</td>\n",
       "      <td>27305</td>\n",
       "      <td>4/4/2016 1:47</td>\n",
       "      <td>0</td>\n",
       "      <td>0</td>\n",
       "      <td>0</td>\n",
       "      <td>0</td>\n",
       "    </tr>\n",
       "    <tr>\n",
       "      <th>50000</th>\n",
       "      <td>22/03/2016 9:54</td>\n",
       "      <td>Chevrolet_Matiz_1.Hd_TÜV11/2017</td>\n",
       "      <td>commercial</td>\n",
       "      <td>offer</td>\n",
       "      <td>7.003974</td>\n",
       "      <td>test</td>\n",
       "      <td>small car</td>\n",
       "      <td>7.604396</td>\n",
       "      <td>manual</td>\n",
       "      <td>3.663562</td>\n",
       "      <td>...</td>\n",
       "      <td>10</td>\n",
       "      <td>petrol</td>\n",
       "      <td>chevrolet</td>\n",
       "      <td>22/03/2016 0:00</td>\n",
       "      <td>7973</td>\n",
       "      <td>5/4/2016 21:15</td>\n",
       "      <td>0</td>\n",
       "      <td>0</td>\n",
       "      <td>0</td>\n",
       "      <td>0</td>\n",
       "    </tr>\n",
       "  </tbody>\n",
       "</table>\n",
       "<p>38791 rows × 22 columns</p>\n",
       "</div>"
      ],
      "text/plain": [
       "            dateCrawled                                               name  \\\n",
       "0      30/03/2016 13:51                                       Zu_verkaufen   \n",
       "1         7/3/2016 9:54                             Volvo_XC90_2.4D_Summum   \n",
       "2         1/4/2016 0:57                                  Volkswagen_Touran   \n",
       "3      19/03/2016 17:50                       Seat_Ibiza_1.4_16V_Reference   \n",
       "4      16/03/2016 14:51  Volvo_XC90_D5_Aut._RDesign_R_Design_AWD_GSHD_S...   \n",
       "...                 ...                                                ...   \n",
       "49991   10/3/2016 23:36                                        BMW_X3_3.0i   \n",
       "49992  14/03/2016 13:57                         Opel_Astra_2.0_DI_Elegance   \n",
       "49993  14/03/2016 11:37       Renault_Clio_mit_Servolenkung_und_neuem_TÜV!   \n",
       "49995  23/03/2016 21:45  Opel_Astra_G_Caravan__Tuev_2/2018__Scheckheft_...   \n",
       "50000   22/03/2016 9:54                    Chevrolet_Matiz_1.Hd_TÜV11/2017   \n",
       "\n",
       "           seller offerType     price   abtest    vehicleType  \\\n",
       "0         private     offer  8.400884     test      limousine   \n",
       "1         private     offer  9.495519  control            suv   \n",
       "2         private     offer  8.071219     test            bus   \n",
       "3         private     offer  8.412055  control      small car   \n",
       "4         private     offer  9.839002     test            suv   \n",
       "...           ...       ...       ...      ...            ...   \n",
       "49991     private     offer  9.296610     test      limousine   \n",
       "49992     private     offer  6.673298     test      limousine   \n",
       "49993     private     offer  6.722630     test      small car   \n",
       "49995     private     offer  7.736744     test  station wagon   \n",
       "50000  commercial     offer  7.003974     test      small car   \n",
       "\n",
       "       yearOfRegistration    gearbox   powerPS  ... monthOfRegistration  \\\n",
       "0                7.602900     manual  5.017280  ...                   3   \n",
       "1                7.603898     manual  5.099866  ...                   6   \n",
       "2                7.602900     manual  4.624973  ...                  11   \n",
       "3                7.604396     manual  4.465908  ...                  12   \n",
       "4                7.605392  automatic  5.225747  ...                  11   \n",
       "...                   ...        ...       ...  ...                 ...   \n",
       "49991            7.603399     manual  5.446737  ...                   8   \n",
       "49992            7.600402     manual  4.418841  ...                   9   \n",
       "49993            7.600902     manual  4.110874  ...                   8   \n",
       "49995            7.601902     manual  4.624973  ...                   3   \n",
       "50000            7.604396     manual  3.663562  ...                  10   \n",
       "\n",
       "       fuelType       brand      dateCreated postalCode          lastSeen  \\\n",
       "0        diesel         bmw  30/03/2016 0:00      20257     7/4/2016 4:44   \n",
       "1        diesel       volvo    7/3/2016 0:00      88045  26/03/2016 13:17   \n",
       "2        diesel  volkswagen  31/03/2016 0:00      27449     1/4/2016 8:40   \n",
       "3        petrol        seat  19/03/2016 0:00      34537     7/4/2016 4:44   \n",
       "4        diesel       volvo  16/03/2016 0:00      55270    1/4/2016 23:18   \n",
       "...         ...         ...              ...        ...               ...   \n",
       "49991    petrol         bmw   10/3/2016 0:00      96152     6/4/2016 2:17   \n",
       "49992    diesel        opel  14/03/2016 0:00      99310   31/03/2016 0:45   \n",
       "49993    petrol     renault  14/03/2016 0:00      33659   22/03/2016 4:47   \n",
       "49995    petrol        opel  23/03/2016 0:00      27305     4/4/2016 1:47   \n",
       "50000    petrol   chevrolet  22/03/2016 0:00       7973    5/4/2016 21:15   \n",
       "\n",
       "       price_outlier yearOfRegistration_outlier  powerPS_outlier  \\\n",
       "0                  0                          0                0   \n",
       "1                  0                          0                0   \n",
       "2                  0                          0                0   \n",
       "3                  0                          0                0   \n",
       "4                  1                          0                0   \n",
       "...              ...                        ...              ...   \n",
       "49991              0                          0                0   \n",
       "49992              0                          0                0   \n",
       "49993              0                          0                0   \n",
       "49995              0                          0                0   \n",
       "50000              0                          0                0   \n",
       "\n",
       "       kilometer_outlier  \n",
       "0                      0  \n",
       "1                      0  \n",
       "2                      0  \n",
       "3                      0  \n",
       "4                      0  \n",
       "...                  ...  \n",
       "49991                  0  \n",
       "49992                  0  \n",
       "49993                  0  \n",
       "49995                  0  \n",
       "50000                  0  \n",
       "\n",
       "[38791 rows x 22 columns]"
      ]
     },
     "execution_count": 41,
     "metadata": {},
     "output_type": "execute_result"
    }
   ],
   "source": [
    "df = df.drop(columns=[\"notRepairedDamage\"])\n",
    "df"
   ]
  },
  {
   "cell_type": "markdown",
   "id": "98ef745c",
   "metadata": {},
   "source": [
    "#### FuelType"
   ]
  },
  {
   "cell_type": "code",
   "execution_count": 42,
   "id": "a273185d",
   "metadata": {},
   "outputs": [
    {
     "data": {
      "text/plain": [
       "petrol    23537\n",
       "diesel    12093\n",
       "lpg         677\n",
       "cng          68\n",
       "hybrid       23\n",
       "other         2\n",
       "Name: fuelType, dtype: int64"
      ]
     },
     "execution_count": 42,
     "metadata": {},
     "output_type": "execute_result"
    }
   ],
   "source": [
    "df['fuelType'].value_counts()"
   ]
  },
  {
   "cell_type": "code",
   "execution_count": 43,
   "id": "dfd3d9cf",
   "metadata": {},
   "outputs": [
    {
     "data": {
      "text/plain": [
       "2391"
      ]
     },
     "execution_count": 43,
     "metadata": {},
     "output_type": "execute_result"
    }
   ],
   "source": [
    "df['fuelType'].isna().sum()"
   ]
  },
  {
   "cell_type": "code",
   "execution_count": 44,
   "id": "268c6d3d",
   "metadata": {},
   "outputs": [],
   "source": [
    "import random"
   ]
  },
  {
   "cell_type": "code",
   "execution_count": 45,
   "id": "feb033df",
   "metadata": {},
   "outputs": [],
   "source": [
    "df.loc[df['fuelType'].isna(), \"fuelType\"] = random.choices(['petrol', 'diesel'], weights=[2, 1], k=df['fuelType'].isna().sum())\n",
    "\n"
   ]
  },
  {
   "cell_type": "code",
   "execution_count": 46,
   "id": "3a40e27f",
   "metadata": {},
   "outputs": [
    {
     "data": {
      "text/plain": [
       "petrol    25091\n",
       "diesel    12930\n",
       "lpg         677\n",
       "cng          68\n",
       "hybrid       23\n",
       "other         2\n",
       "Name: fuelType, dtype: int64"
      ]
     },
     "execution_count": 46,
     "metadata": {},
     "output_type": "execute_result"
    }
   ],
   "source": [
    "df['fuelType'].value_counts()"
   ]
  },
  {
   "cell_type": "code",
   "execution_count": 47,
   "id": "6abba3b5",
   "metadata": {},
   "outputs": [
    {
     "data": {
      "text/plain": [
       "0"
      ]
     },
     "execution_count": 47,
     "metadata": {},
     "output_type": "execute_result"
    }
   ],
   "source": [
    "df['fuelType'].isna().sum()"
   ]
  },
  {
   "cell_type": "markdown",
   "id": "0c77db38",
   "metadata": {},
   "source": [
    "#### VehicleType"
   ]
  },
  {
   "cell_type": "code",
   "execution_count": 48,
   "id": "b03b819a",
   "metadata": {},
   "outputs": [
    {
     "data": {
      "text/plain": [
       "limousine        10754\n",
       "small car         8252\n",
       "station wagon     7690\n",
       "bus               3314\n",
       "cabrio            2332\n",
       "coupe             1938\n",
       "suv               1545\n",
       "others             290\n",
       "Name: vehicleType, dtype: int64"
      ]
     },
     "execution_count": 48,
     "metadata": {},
     "output_type": "execute_result"
    }
   ],
   "source": [
    "df['vehicleType'].value_counts()"
   ]
  },
  {
   "cell_type": "code",
   "execution_count": 49,
   "id": "d9ec1b11",
   "metadata": {},
   "outputs": [
    {
     "data": {
      "text/plain": [
       "2676"
      ]
     },
     "execution_count": 49,
     "metadata": {},
     "output_type": "execute_result"
    }
   ],
   "source": [
    "df['vehicleType'].isna().sum()"
   ]
  },
  {
   "cell_type": "code",
   "execution_count": 50,
   "id": "5a17f150",
   "metadata": {},
   "outputs": [],
   "source": [
    "df.loc[df['vehicleType'].isna(), \"vehicleType\"] = random.choices(list(df['vehicleType'].value_counts().keys()), weights=list(df['vehicleType'].value_counts()), k=df['vehicleType'].isna().sum())\n"
   ]
  },
  {
   "cell_type": "code",
   "execution_count": 51,
   "id": "331c48ce",
   "metadata": {},
   "outputs": [
    {
     "data": {
      "text/plain": [
       "limousine        11587\n",
       "small car         8839\n",
       "station wagon     8270\n",
       "bus               3555\n",
       "cabrio            2485\n",
       "coupe             2094\n",
       "suv               1646\n",
       "others             315\n",
       "Name: vehicleType, dtype: int64"
      ]
     },
     "execution_count": 51,
     "metadata": {},
     "output_type": "execute_result"
    }
   ],
   "source": [
    "df['vehicleType'].value_counts()"
   ]
  },
  {
   "cell_type": "markdown",
   "id": "b79f7862",
   "metadata": {},
   "source": [
    "#### Model"
   ]
  },
  {
   "cell_type": "code",
   "execution_count": 52,
   "id": "a1561de4",
   "metadata": {
    "scrolled": true
   },
   "outputs": [
    {
     "data": {
      "text/plain": [
       "golf          3167\n",
       "3er           2419\n",
       "others        2335\n",
       "polo          1397\n",
       "corsa         1295\n",
       "              ... \n",
       "move             1\n",
       "200              1\n",
       "citigo           1\n",
       "i3               1\n",
       "rangerover       1\n",
       "Name: model, Length: 244, dtype: int64"
      ]
     },
     "execution_count": 52,
     "metadata": {},
     "output_type": "execute_result"
    }
   ],
   "source": [
    "df['model'].value_counts()"
   ]
  },
  {
   "cell_type": "code",
   "execution_count": 53,
   "id": "32515e47",
   "metadata": {},
   "outputs": [
    {
     "data": {
      "text/plain": [
       "1438"
      ]
     },
     "execution_count": 53,
     "metadata": {},
     "output_type": "execute_result"
    }
   ],
   "source": [
    "df['model'].isna().sum()"
   ]
  },
  {
   "cell_type": "code",
   "execution_count": 54,
   "id": "5d07bd2c",
   "metadata": {},
   "outputs": [],
   "source": [
    "df.loc[df['model'].isna(), \"model\"] = random.choices(list(df['model'].value_counts().keys()), weights=list(df['model'].value_counts()), k=df['model'].isna().sum())\n"
   ]
  },
  {
   "cell_type": "code",
   "execution_count": 55,
   "id": "c159101e",
   "metadata": {},
   "outputs": [
    {
     "data": {
      "text/plain": [
       "golf          3300\n",
       "3er           2508\n",
       "others        2418\n",
       "polo          1452\n",
       "corsa         1343\n",
       "              ... \n",
       "citigo           1\n",
       "elefantino       1\n",
       "move             1\n",
       "charade          1\n",
       "rangerover       1\n",
       "Name: model, Length: 244, dtype: int64"
      ]
     },
     "execution_count": 55,
     "metadata": {},
     "output_type": "execute_result"
    }
   ],
   "source": [
    "df['model'].value_counts()"
   ]
  },
  {
   "cell_type": "code",
   "execution_count": 56,
   "id": "546ec0b3",
   "metadata": {},
   "outputs": [
    {
     "data": {
      "text/plain": [
       "0"
      ]
     },
     "execution_count": 56,
     "metadata": {},
     "output_type": "execute_result"
    }
   ],
   "source": [
    "df['model'].isna().sum()"
   ]
  },
  {
   "cell_type": "markdown",
   "id": "86306cee",
   "metadata": {},
   "source": [
    "#### Gearbox"
   ]
  },
  {
   "cell_type": "code",
   "execution_count": 57,
   "id": "6d41c8f7",
   "metadata": {},
   "outputs": [
    {
     "data": {
      "text/plain": [
       "manual       29790\n",
       "automatic     8306\n",
       "Name: gearbox, dtype: int64"
      ]
     },
     "execution_count": 57,
     "metadata": {},
     "output_type": "execute_result"
    }
   ],
   "source": [
    "df['gearbox'].value_counts()"
   ]
  },
  {
   "cell_type": "code",
   "execution_count": 58,
   "id": "c478e20b",
   "metadata": {},
   "outputs": [
    {
     "data": {
      "text/plain": [
       "695"
      ]
     },
     "execution_count": 58,
     "metadata": {},
     "output_type": "execute_result"
    }
   ],
   "source": [
    "df['gearbox'].isna().sum()"
   ]
  },
  {
   "cell_type": "code",
   "execution_count": 59,
   "id": "b8ad68a2",
   "metadata": {},
   "outputs": [],
   "source": [
    "df[\"gearbox\"] = df[\"gearbox\"].fillna(df[\"gearbox\"].mode().values[0])"
   ]
  },
  {
   "cell_type": "code",
   "execution_count": 60,
   "id": "6ebae3e0",
   "metadata": {},
   "outputs": [
    {
     "data": {
      "text/plain": [
       "manual       30485\n",
       "automatic     8306\n",
       "Name: gearbox, dtype: int64"
      ]
     },
     "execution_count": 60,
     "metadata": {},
     "output_type": "execute_result"
    }
   ],
   "source": [
    "df['gearbox'].value_counts()"
   ]
  },
  {
   "cell_type": "code",
   "execution_count": 61,
   "id": "fb832307",
   "metadata": {},
   "outputs": [
    {
     "data": {
      "text/plain": [
       "0"
      ]
     },
     "execution_count": 61,
     "metadata": {},
     "output_type": "execute_result"
    }
   ],
   "source": [
    "df['gearbox'].isna().sum()"
   ]
  },
  {
   "cell_type": "markdown",
   "id": "64ee64a8",
   "metadata": {},
   "source": [
    "### 8. Сохраните полученный датасет и выведите его."
   ]
  },
  {
   "cell_type": "code",
   "execution_count": 62,
   "id": "dc3ec9c5",
   "metadata": {
    "scrolled": true
   },
   "outputs": [
    {
     "data": {
      "text/html": [
       "<div>\n",
       "<style scoped>\n",
       "    .dataframe tbody tr th:only-of-type {\n",
       "        vertical-align: middle;\n",
       "    }\n",
       "\n",
       "    .dataframe tbody tr th {\n",
       "        vertical-align: top;\n",
       "    }\n",
       "\n",
       "    .dataframe thead th {\n",
       "        text-align: right;\n",
       "    }\n",
       "</style>\n",
       "<table border=\"1\" class=\"dataframe\">\n",
       "  <thead>\n",
       "    <tr style=\"text-align: right;\">\n",
       "      <th></th>\n",
       "      <th>dateCrawled</th>\n",
       "      <th>name</th>\n",
       "      <th>seller</th>\n",
       "      <th>offerType</th>\n",
       "      <th>price</th>\n",
       "      <th>abtest</th>\n",
       "      <th>vehicleType</th>\n",
       "      <th>yearOfRegistration</th>\n",
       "      <th>gearbox</th>\n",
       "      <th>powerPS</th>\n",
       "      <th>...</th>\n",
       "      <th>monthOfRegistration</th>\n",
       "      <th>fuelType</th>\n",
       "      <th>brand</th>\n",
       "      <th>dateCreated</th>\n",
       "      <th>postalCode</th>\n",
       "      <th>lastSeen</th>\n",
       "      <th>price_outlier</th>\n",
       "      <th>yearOfRegistration_outlier</th>\n",
       "      <th>powerPS_outlier</th>\n",
       "      <th>kilometer_outlier</th>\n",
       "    </tr>\n",
       "  </thead>\n",
       "  <tbody>\n",
       "    <tr>\n",
       "      <th>0</th>\n",
       "      <td>30/03/2016 13:51</td>\n",
       "      <td>Zu_verkaufen</td>\n",
       "      <td>private</td>\n",
       "      <td>offer</td>\n",
       "      <td>8.400884</td>\n",
       "      <td>test</td>\n",
       "      <td>limousine</td>\n",
       "      <td>7.602900</td>\n",
       "      <td>manual</td>\n",
       "      <td>5.017280</td>\n",
       "      <td>...</td>\n",
       "      <td>3</td>\n",
       "      <td>diesel</td>\n",
       "      <td>bmw</td>\n",
       "      <td>30/03/2016 0:00</td>\n",
       "      <td>20257</td>\n",
       "      <td>7/4/2016 4:44</td>\n",
       "      <td>0</td>\n",
       "      <td>0</td>\n",
       "      <td>0</td>\n",
       "      <td>0</td>\n",
       "    </tr>\n",
       "    <tr>\n",
       "      <th>1</th>\n",
       "      <td>7/3/2016 9:54</td>\n",
       "      <td>Volvo_XC90_2.4D_Summum</td>\n",
       "      <td>private</td>\n",
       "      <td>offer</td>\n",
       "      <td>9.495519</td>\n",
       "      <td>control</td>\n",
       "      <td>suv</td>\n",
       "      <td>7.603898</td>\n",
       "      <td>manual</td>\n",
       "      <td>5.099866</td>\n",
       "      <td>...</td>\n",
       "      <td>6</td>\n",
       "      <td>diesel</td>\n",
       "      <td>volvo</td>\n",
       "      <td>7/3/2016 0:00</td>\n",
       "      <td>88045</td>\n",
       "      <td>26/03/2016 13:17</td>\n",
       "      <td>0</td>\n",
       "      <td>0</td>\n",
       "      <td>0</td>\n",
       "      <td>0</td>\n",
       "    </tr>\n",
       "    <tr>\n",
       "      <th>2</th>\n",
       "      <td>1/4/2016 0:57</td>\n",
       "      <td>Volkswagen_Touran</td>\n",
       "      <td>private</td>\n",
       "      <td>offer</td>\n",
       "      <td>8.071219</td>\n",
       "      <td>test</td>\n",
       "      <td>bus</td>\n",
       "      <td>7.602900</td>\n",
       "      <td>manual</td>\n",
       "      <td>4.624973</td>\n",
       "      <td>...</td>\n",
       "      <td>11</td>\n",
       "      <td>diesel</td>\n",
       "      <td>volkswagen</td>\n",
       "      <td>31/03/2016 0:00</td>\n",
       "      <td>27449</td>\n",
       "      <td>1/4/2016 8:40</td>\n",
       "      <td>0</td>\n",
       "      <td>0</td>\n",
       "      <td>0</td>\n",
       "      <td>0</td>\n",
       "    </tr>\n",
       "    <tr>\n",
       "      <th>3</th>\n",
       "      <td>19/03/2016 17:50</td>\n",
       "      <td>Seat_Ibiza_1.4_16V_Reference</td>\n",
       "      <td>private</td>\n",
       "      <td>offer</td>\n",
       "      <td>8.412055</td>\n",
       "      <td>control</td>\n",
       "      <td>small car</td>\n",
       "      <td>7.604396</td>\n",
       "      <td>manual</td>\n",
       "      <td>4.465908</td>\n",
       "      <td>...</td>\n",
       "      <td>12</td>\n",
       "      <td>petrol</td>\n",
       "      <td>seat</td>\n",
       "      <td>19/03/2016 0:00</td>\n",
       "      <td>34537</td>\n",
       "      <td>7/4/2016 4:44</td>\n",
       "      <td>0</td>\n",
       "      <td>0</td>\n",
       "      <td>0</td>\n",
       "      <td>0</td>\n",
       "    </tr>\n",
       "    <tr>\n",
       "      <th>4</th>\n",
       "      <td>16/03/2016 14:51</td>\n",
       "      <td>Volvo_XC90_D5_Aut._RDesign_R_Design_AWD_GSHD_S...</td>\n",
       "      <td>private</td>\n",
       "      <td>offer</td>\n",
       "      <td>9.839002</td>\n",
       "      <td>test</td>\n",
       "      <td>suv</td>\n",
       "      <td>7.605392</td>\n",
       "      <td>automatic</td>\n",
       "      <td>5.225747</td>\n",
       "      <td>...</td>\n",
       "      <td>11</td>\n",
       "      <td>diesel</td>\n",
       "      <td>volvo</td>\n",
       "      <td>16/03/2016 0:00</td>\n",
       "      <td>55270</td>\n",
       "      <td>1/4/2016 23:18</td>\n",
       "      <td>1</td>\n",
       "      <td>0</td>\n",
       "      <td>0</td>\n",
       "      <td>0</td>\n",
       "    </tr>\n",
       "    <tr>\n",
       "      <th>...</th>\n",
       "      <td>...</td>\n",
       "      <td>...</td>\n",
       "      <td>...</td>\n",
       "      <td>...</td>\n",
       "      <td>...</td>\n",
       "      <td>...</td>\n",
       "      <td>...</td>\n",
       "      <td>...</td>\n",
       "      <td>...</td>\n",
       "      <td>...</td>\n",
       "      <td>...</td>\n",
       "      <td>...</td>\n",
       "      <td>...</td>\n",
       "      <td>...</td>\n",
       "      <td>...</td>\n",
       "      <td>...</td>\n",
       "      <td>...</td>\n",
       "      <td>...</td>\n",
       "      <td>...</td>\n",
       "      <td>...</td>\n",
       "      <td>...</td>\n",
       "    </tr>\n",
       "    <tr>\n",
       "      <th>49991</th>\n",
       "      <td>10/3/2016 23:36</td>\n",
       "      <td>BMW_X3_3.0i</td>\n",
       "      <td>private</td>\n",
       "      <td>offer</td>\n",
       "      <td>9.296610</td>\n",
       "      <td>test</td>\n",
       "      <td>limousine</td>\n",
       "      <td>7.603399</td>\n",
       "      <td>manual</td>\n",
       "      <td>5.446737</td>\n",
       "      <td>...</td>\n",
       "      <td>8</td>\n",
       "      <td>petrol</td>\n",
       "      <td>bmw</td>\n",
       "      <td>10/3/2016 0:00</td>\n",
       "      <td>96152</td>\n",
       "      <td>6/4/2016 2:17</td>\n",
       "      <td>0</td>\n",
       "      <td>0</td>\n",
       "      <td>0</td>\n",
       "      <td>0</td>\n",
       "    </tr>\n",
       "    <tr>\n",
       "      <th>49992</th>\n",
       "      <td>14/03/2016 13:57</td>\n",
       "      <td>Opel_Astra_2.0_DI_Elegance</td>\n",
       "      <td>private</td>\n",
       "      <td>offer</td>\n",
       "      <td>6.673298</td>\n",
       "      <td>test</td>\n",
       "      <td>limousine</td>\n",
       "      <td>7.600402</td>\n",
       "      <td>manual</td>\n",
       "      <td>4.418841</td>\n",
       "      <td>...</td>\n",
       "      <td>9</td>\n",
       "      <td>diesel</td>\n",
       "      <td>opel</td>\n",
       "      <td>14/03/2016 0:00</td>\n",
       "      <td>99310</td>\n",
       "      <td>31/03/2016 0:45</td>\n",
       "      <td>0</td>\n",
       "      <td>0</td>\n",
       "      <td>0</td>\n",
       "      <td>0</td>\n",
       "    </tr>\n",
       "    <tr>\n",
       "      <th>49993</th>\n",
       "      <td>14/03/2016 11:37</td>\n",
       "      <td>Renault_Clio_mit_Servolenkung_und_neuem_TÜV!</td>\n",
       "      <td>private</td>\n",
       "      <td>offer</td>\n",
       "      <td>6.722630</td>\n",
       "      <td>test</td>\n",
       "      <td>small car</td>\n",
       "      <td>7.600902</td>\n",
       "      <td>manual</td>\n",
       "      <td>4.110874</td>\n",
       "      <td>...</td>\n",
       "      <td>8</td>\n",
       "      <td>petrol</td>\n",
       "      <td>renault</td>\n",
       "      <td>14/03/2016 0:00</td>\n",
       "      <td>33659</td>\n",
       "      <td>22/03/2016 4:47</td>\n",
       "      <td>0</td>\n",
       "      <td>0</td>\n",
       "      <td>0</td>\n",
       "      <td>0</td>\n",
       "    </tr>\n",
       "    <tr>\n",
       "      <th>49995</th>\n",
       "      <td>23/03/2016 21:45</td>\n",
       "      <td>Opel_Astra_G_Caravan__Tuev_2/2018__Scheckheft_...</td>\n",
       "      <td>private</td>\n",
       "      <td>offer</td>\n",
       "      <td>7.736744</td>\n",
       "      <td>test</td>\n",
       "      <td>station wagon</td>\n",
       "      <td>7.601902</td>\n",
       "      <td>manual</td>\n",
       "      <td>4.624973</td>\n",
       "      <td>...</td>\n",
       "      <td>3</td>\n",
       "      <td>petrol</td>\n",
       "      <td>opel</td>\n",
       "      <td>23/03/2016 0:00</td>\n",
       "      <td>27305</td>\n",
       "      <td>4/4/2016 1:47</td>\n",
       "      <td>0</td>\n",
       "      <td>0</td>\n",
       "      <td>0</td>\n",
       "      <td>0</td>\n",
       "    </tr>\n",
       "    <tr>\n",
       "      <th>50000</th>\n",
       "      <td>22/03/2016 9:54</td>\n",
       "      <td>Chevrolet_Matiz_1.Hd_TÜV11/2017</td>\n",
       "      <td>commercial</td>\n",
       "      <td>offer</td>\n",
       "      <td>7.003974</td>\n",
       "      <td>test</td>\n",
       "      <td>small car</td>\n",
       "      <td>7.604396</td>\n",
       "      <td>manual</td>\n",
       "      <td>3.663562</td>\n",
       "      <td>...</td>\n",
       "      <td>10</td>\n",
       "      <td>petrol</td>\n",
       "      <td>chevrolet</td>\n",
       "      <td>22/03/2016 0:00</td>\n",
       "      <td>7973</td>\n",
       "      <td>5/4/2016 21:15</td>\n",
       "      <td>0</td>\n",
       "      <td>0</td>\n",
       "      <td>0</td>\n",
       "      <td>0</td>\n",
       "    </tr>\n",
       "  </tbody>\n",
       "</table>\n",
       "<p>38791 rows × 22 columns</p>\n",
       "</div>"
      ],
      "text/plain": [
       "            dateCrawled                                               name  \\\n",
       "0      30/03/2016 13:51                                       Zu_verkaufen   \n",
       "1         7/3/2016 9:54                             Volvo_XC90_2.4D_Summum   \n",
       "2         1/4/2016 0:57                                  Volkswagen_Touran   \n",
       "3      19/03/2016 17:50                       Seat_Ibiza_1.4_16V_Reference   \n",
       "4      16/03/2016 14:51  Volvo_XC90_D5_Aut._RDesign_R_Design_AWD_GSHD_S...   \n",
       "...                 ...                                                ...   \n",
       "49991   10/3/2016 23:36                                        BMW_X3_3.0i   \n",
       "49992  14/03/2016 13:57                         Opel_Astra_2.0_DI_Elegance   \n",
       "49993  14/03/2016 11:37       Renault_Clio_mit_Servolenkung_und_neuem_TÜV!   \n",
       "49995  23/03/2016 21:45  Opel_Astra_G_Caravan__Tuev_2/2018__Scheckheft_...   \n",
       "50000   22/03/2016 9:54                    Chevrolet_Matiz_1.Hd_TÜV11/2017   \n",
       "\n",
       "           seller offerType     price   abtest    vehicleType  \\\n",
       "0         private     offer  8.400884     test      limousine   \n",
       "1         private     offer  9.495519  control            suv   \n",
       "2         private     offer  8.071219     test            bus   \n",
       "3         private     offer  8.412055  control      small car   \n",
       "4         private     offer  9.839002     test            suv   \n",
       "...           ...       ...       ...      ...            ...   \n",
       "49991     private     offer  9.296610     test      limousine   \n",
       "49992     private     offer  6.673298     test      limousine   \n",
       "49993     private     offer  6.722630     test      small car   \n",
       "49995     private     offer  7.736744     test  station wagon   \n",
       "50000  commercial     offer  7.003974     test      small car   \n",
       "\n",
       "       yearOfRegistration    gearbox   powerPS  ... monthOfRegistration  \\\n",
       "0                7.602900     manual  5.017280  ...                   3   \n",
       "1                7.603898     manual  5.099866  ...                   6   \n",
       "2                7.602900     manual  4.624973  ...                  11   \n",
       "3                7.604396     manual  4.465908  ...                  12   \n",
       "4                7.605392  automatic  5.225747  ...                  11   \n",
       "...                   ...        ...       ...  ...                 ...   \n",
       "49991            7.603399     manual  5.446737  ...                   8   \n",
       "49992            7.600402     manual  4.418841  ...                   9   \n",
       "49993            7.600902     manual  4.110874  ...                   8   \n",
       "49995            7.601902     manual  4.624973  ...                   3   \n",
       "50000            7.604396     manual  3.663562  ...                  10   \n",
       "\n",
       "       fuelType       brand      dateCreated postalCode          lastSeen  \\\n",
       "0        diesel         bmw  30/03/2016 0:00      20257     7/4/2016 4:44   \n",
       "1        diesel       volvo    7/3/2016 0:00      88045  26/03/2016 13:17   \n",
       "2        diesel  volkswagen  31/03/2016 0:00      27449     1/4/2016 8:40   \n",
       "3        petrol        seat  19/03/2016 0:00      34537     7/4/2016 4:44   \n",
       "4        diesel       volvo  16/03/2016 0:00      55270    1/4/2016 23:18   \n",
       "...         ...         ...              ...        ...               ...   \n",
       "49991    petrol         bmw   10/3/2016 0:00      96152     6/4/2016 2:17   \n",
       "49992    diesel        opel  14/03/2016 0:00      99310   31/03/2016 0:45   \n",
       "49993    petrol     renault  14/03/2016 0:00      33659   22/03/2016 4:47   \n",
       "49995    petrol        opel  23/03/2016 0:00      27305     4/4/2016 1:47   \n",
       "50000    petrol   chevrolet  22/03/2016 0:00       7973    5/4/2016 21:15   \n",
       "\n",
       "       price_outlier yearOfRegistration_outlier  powerPS_outlier  \\\n",
       "0                  0                          0                0   \n",
       "1                  0                          0                0   \n",
       "2                  0                          0                0   \n",
       "3                  0                          0                0   \n",
       "4                  1                          0                0   \n",
       "...              ...                        ...              ...   \n",
       "49991              0                          0                0   \n",
       "49992              0                          0                0   \n",
       "49993              0                          0                0   \n",
       "49995              0                          0                0   \n",
       "50000              0                          0                0   \n",
       "\n",
       "       kilometer_outlier  \n",
       "0                      0  \n",
       "1                      0  \n",
       "2                      0  \n",
       "3                      0  \n",
       "4                      0  \n",
       "...                  ...  \n",
       "49991                  0  \n",
       "49992                  0  \n",
       "49993                  0  \n",
       "49995                  0  \n",
       "50000                  0  \n",
       "\n",
       "[38791 rows x 22 columns]"
      ]
     },
     "execution_count": 62,
     "metadata": {},
     "output_type": "execute_result"
    }
   ],
   "source": [
    "df"
   ]
  },
  {
   "cell_type": "markdown",
   "id": "fcdaba6d",
   "metadata": {},
   "source": [
    "### Доп: Постройте модель регрессии для цены автомобиля. Обучите ее на данных, полученных из исходного датасета с применением разных методов заполнения пропущенных значений. Сделайте вывод об эффективности разных методов."
   ]
  },
  {
   "cell_type": "code",
   "execution_count": 63,
   "id": "1b8066e9",
   "metadata": {},
   "outputs": [],
   "source": [
    "df_cpy = df"
   ]
  },
  {
   "cell_type": "code",
   "execution_count": 64,
   "id": "9b87eb19",
   "metadata": {},
   "outputs": [
    {
     "data": {
      "text/html": [
       "<div>\n",
       "<style scoped>\n",
       "    .dataframe tbody tr th:only-of-type {\n",
       "        vertical-align: middle;\n",
       "    }\n",
       "\n",
       "    .dataframe tbody tr th {\n",
       "        vertical-align: top;\n",
       "    }\n",
       "\n",
       "    .dataframe thead th {\n",
       "        text-align: right;\n",
       "    }\n",
       "</style>\n",
       "<table border=\"1\" class=\"dataframe\">\n",
       "  <thead>\n",
       "    <tr style=\"text-align: right;\">\n",
       "      <th></th>\n",
       "      <th>dateCrawled</th>\n",
       "      <th>name</th>\n",
       "      <th>price</th>\n",
       "      <th>abtest</th>\n",
       "      <th>yearOfRegistration</th>\n",
       "      <th>powerPS</th>\n",
       "      <th>model</th>\n",
       "      <th>kilometer</th>\n",
       "      <th>monthOfRegistration</th>\n",
       "      <th>dateCreated</th>\n",
       "      <th>...</th>\n",
       "      <th>vehicleType_station wagon</th>\n",
       "      <th>vehicleType_suv</th>\n",
       "      <th>fuelType_cng</th>\n",
       "      <th>fuelType_diesel</th>\n",
       "      <th>fuelType_hybrid</th>\n",
       "      <th>fuelType_lpg</th>\n",
       "      <th>fuelType_other</th>\n",
       "      <th>fuelType_petrol</th>\n",
       "      <th>gearbox_automatic</th>\n",
       "      <th>gearbox_manual</th>\n",
       "    </tr>\n",
       "  </thead>\n",
       "  <tbody>\n",
       "    <tr>\n",
       "      <th>0</th>\n",
       "      <td>30/03/2016 13:51</td>\n",
       "      <td>Zu_verkaufen</td>\n",
       "      <td>8.400884</td>\n",
       "      <td>test</td>\n",
       "      <td>7.602900</td>\n",
       "      <td>5.017280</td>\n",
       "      <td>3er</td>\n",
       "      <td>11.918397</td>\n",
       "      <td>3</td>\n",
       "      <td>30/03/2016 0:00</td>\n",
       "      <td>...</td>\n",
       "      <td>0</td>\n",
       "      <td>0</td>\n",
       "      <td>0</td>\n",
       "      <td>1</td>\n",
       "      <td>0</td>\n",
       "      <td>0</td>\n",
       "      <td>0</td>\n",
       "      <td>0</td>\n",
       "      <td>0</td>\n",
       "      <td>1</td>\n",
       "    </tr>\n",
       "    <tr>\n",
       "      <th>1</th>\n",
       "      <td>7/3/2016 9:54</td>\n",
       "      <td>Volvo_XC90_2.4D_Summum</td>\n",
       "      <td>9.495519</td>\n",
       "      <td>control</td>\n",
       "      <td>7.603898</td>\n",
       "      <td>5.099866</td>\n",
       "      <td>xc_reihe</td>\n",
       "      <td>11.918397</td>\n",
       "      <td>6</td>\n",
       "      <td>7/3/2016 0:00</td>\n",
       "      <td>...</td>\n",
       "      <td>0</td>\n",
       "      <td>1</td>\n",
       "      <td>0</td>\n",
       "      <td>1</td>\n",
       "      <td>0</td>\n",
       "      <td>0</td>\n",
       "      <td>0</td>\n",
       "      <td>0</td>\n",
       "      <td>0</td>\n",
       "      <td>1</td>\n",
       "    </tr>\n",
       "    <tr>\n",
       "      <th>2</th>\n",
       "      <td>1/4/2016 0:57</td>\n",
       "      <td>Volkswagen_Touran</td>\n",
       "      <td>8.071219</td>\n",
       "      <td>test</td>\n",
       "      <td>7.602900</td>\n",
       "      <td>4.624973</td>\n",
       "      <td>touran</td>\n",
       "      <td>11.918397</td>\n",
       "      <td>11</td>\n",
       "      <td>31/03/2016 0:00</td>\n",
       "      <td>...</td>\n",
       "      <td>0</td>\n",
       "      <td>0</td>\n",
       "      <td>0</td>\n",
       "      <td>1</td>\n",
       "      <td>0</td>\n",
       "      <td>0</td>\n",
       "      <td>0</td>\n",
       "      <td>0</td>\n",
       "      <td>0</td>\n",
       "      <td>1</td>\n",
       "    </tr>\n",
       "    <tr>\n",
       "      <th>3</th>\n",
       "      <td>19/03/2016 17:50</td>\n",
       "      <td>Seat_Ibiza_1.4_16V_Reference</td>\n",
       "      <td>8.412055</td>\n",
       "      <td>control</td>\n",
       "      <td>7.604396</td>\n",
       "      <td>4.465908</td>\n",
       "      <td>ibiza</td>\n",
       "      <td>11.002117</td>\n",
       "      <td>12</td>\n",
       "      <td>19/03/2016 0:00</td>\n",
       "      <td>...</td>\n",
       "      <td>0</td>\n",
       "      <td>0</td>\n",
       "      <td>0</td>\n",
       "      <td>0</td>\n",
       "      <td>0</td>\n",
       "      <td>0</td>\n",
       "      <td>0</td>\n",
       "      <td>1</td>\n",
       "      <td>0</td>\n",
       "      <td>1</td>\n",
       "    </tr>\n",
       "    <tr>\n",
       "      <th>4</th>\n",
       "      <td>16/03/2016 14:51</td>\n",
       "      <td>Volvo_XC90_D5_Aut._RDesign_R_Design_AWD_GSHD_S...</td>\n",
       "      <td>9.839002</td>\n",
       "      <td>test</td>\n",
       "      <td>7.605392</td>\n",
       "      <td>5.225747</td>\n",
       "      <td>xc_reihe</td>\n",
       "      <td>11.918397</td>\n",
       "      <td>11</td>\n",
       "      <td>16/03/2016 0:00</td>\n",
       "      <td>...</td>\n",
       "      <td>0</td>\n",
       "      <td>1</td>\n",
       "      <td>0</td>\n",
       "      <td>1</td>\n",
       "      <td>0</td>\n",
       "      <td>0</td>\n",
       "      <td>0</td>\n",
       "      <td>0</td>\n",
       "      <td>1</td>\n",
       "      <td>0</td>\n",
       "    </tr>\n",
       "    <tr>\n",
       "      <th>...</th>\n",
       "      <td>...</td>\n",
       "      <td>...</td>\n",
       "      <td>...</td>\n",
       "      <td>...</td>\n",
       "      <td>...</td>\n",
       "      <td>...</td>\n",
       "      <td>...</td>\n",
       "      <td>...</td>\n",
       "      <td>...</td>\n",
       "      <td>...</td>\n",
       "      <td>...</td>\n",
       "      <td>...</td>\n",
       "      <td>...</td>\n",
       "      <td>...</td>\n",
       "      <td>...</td>\n",
       "      <td>...</td>\n",
       "      <td>...</td>\n",
       "      <td>...</td>\n",
       "      <td>...</td>\n",
       "      <td>...</td>\n",
       "      <td>...</td>\n",
       "    </tr>\n",
       "    <tr>\n",
       "      <th>49991</th>\n",
       "      <td>10/3/2016 23:36</td>\n",
       "      <td>BMW_X3_3.0i</td>\n",
       "      <td>9.296610</td>\n",
       "      <td>test</td>\n",
       "      <td>7.603399</td>\n",
       "      <td>5.446737</td>\n",
       "      <td>x_reihe</td>\n",
       "      <td>11.918397</td>\n",
       "      <td>8</td>\n",
       "      <td>10/3/2016 0:00</td>\n",
       "      <td>...</td>\n",
       "      <td>0</td>\n",
       "      <td>0</td>\n",
       "      <td>0</td>\n",
       "      <td>0</td>\n",
       "      <td>0</td>\n",
       "      <td>0</td>\n",
       "      <td>0</td>\n",
       "      <td>1</td>\n",
       "      <td>0</td>\n",
       "      <td>1</td>\n",
       "    </tr>\n",
       "    <tr>\n",
       "      <th>49992</th>\n",
       "      <td>14/03/2016 13:57</td>\n",
       "      <td>Opel_Astra_2.0_DI_Elegance</td>\n",
       "      <td>6.673298</td>\n",
       "      <td>test</td>\n",
       "      <td>7.600402</td>\n",
       "      <td>4.418841</td>\n",
       "      <td>astra</td>\n",
       "      <td>11.918397</td>\n",
       "      <td>9</td>\n",
       "      <td>14/03/2016 0:00</td>\n",
       "      <td>...</td>\n",
       "      <td>0</td>\n",
       "      <td>0</td>\n",
       "      <td>0</td>\n",
       "      <td>1</td>\n",
       "      <td>0</td>\n",
       "      <td>0</td>\n",
       "      <td>0</td>\n",
       "      <td>0</td>\n",
       "      <td>0</td>\n",
       "      <td>1</td>\n",
       "    </tr>\n",
       "    <tr>\n",
       "      <th>49993</th>\n",
       "      <td>14/03/2016 11:37</td>\n",
       "      <td>Renault_Clio_mit_Servolenkung_und_neuem_TÜV!</td>\n",
       "      <td>6.722630</td>\n",
       "      <td>test</td>\n",
       "      <td>7.600902</td>\n",
       "      <td>4.110874</td>\n",
       "      <td>clio</td>\n",
       "      <td>11.736077</td>\n",
       "      <td>8</td>\n",
       "      <td>14/03/2016 0:00</td>\n",
       "      <td>...</td>\n",
       "      <td>0</td>\n",
       "      <td>0</td>\n",
       "      <td>0</td>\n",
       "      <td>0</td>\n",
       "      <td>0</td>\n",
       "      <td>0</td>\n",
       "      <td>0</td>\n",
       "      <td>1</td>\n",
       "      <td>0</td>\n",
       "      <td>1</td>\n",
       "    </tr>\n",
       "    <tr>\n",
       "      <th>49995</th>\n",
       "      <td>23/03/2016 21:45</td>\n",
       "      <td>Opel_Astra_G_Caravan__Tuev_2/2018__Scheckheft_...</td>\n",
       "      <td>7.736744</td>\n",
       "      <td>test</td>\n",
       "      <td>7.601902</td>\n",
       "      <td>4.624973</td>\n",
       "      <td>astra</td>\n",
       "      <td>11.918397</td>\n",
       "      <td>3</td>\n",
       "      <td>23/03/2016 0:00</td>\n",
       "      <td>...</td>\n",
       "      <td>1</td>\n",
       "      <td>0</td>\n",
       "      <td>0</td>\n",
       "      <td>0</td>\n",
       "      <td>0</td>\n",
       "      <td>0</td>\n",
       "      <td>0</td>\n",
       "      <td>1</td>\n",
       "      <td>0</td>\n",
       "      <td>1</td>\n",
       "    </tr>\n",
       "    <tr>\n",
       "      <th>50000</th>\n",
       "      <td>22/03/2016 9:54</td>\n",
       "      <td>Chevrolet_Matiz_1.Hd_TÜV11/2017</td>\n",
       "      <td>7.003974</td>\n",
       "      <td>test</td>\n",
       "      <td>7.604396</td>\n",
       "      <td>3.663562</td>\n",
       "      <td>matiz</td>\n",
       "      <td>11.918397</td>\n",
       "      <td>10</td>\n",
       "      <td>22/03/2016 0:00</td>\n",
       "      <td>...</td>\n",
       "      <td>0</td>\n",
       "      <td>0</td>\n",
       "      <td>0</td>\n",
       "      <td>0</td>\n",
       "      <td>0</td>\n",
       "      <td>0</td>\n",
       "      <td>0</td>\n",
       "      <td>1</td>\n",
       "      <td>0</td>\n",
       "      <td>1</td>\n",
       "    </tr>\n",
       "  </tbody>\n",
       "</table>\n",
       "<p>38791 rows × 75 columns</p>\n",
       "</div>"
      ],
      "text/plain": [
       "            dateCrawled                                               name  \\\n",
       "0      30/03/2016 13:51                                       Zu_verkaufen   \n",
       "1         7/3/2016 9:54                             Volvo_XC90_2.4D_Summum   \n",
       "2         1/4/2016 0:57                                  Volkswagen_Touran   \n",
       "3      19/03/2016 17:50                       Seat_Ibiza_1.4_16V_Reference   \n",
       "4      16/03/2016 14:51  Volvo_XC90_D5_Aut._RDesign_R_Design_AWD_GSHD_S...   \n",
       "...                 ...                                                ...   \n",
       "49991   10/3/2016 23:36                                        BMW_X3_3.0i   \n",
       "49992  14/03/2016 13:57                         Opel_Astra_2.0_DI_Elegance   \n",
       "49993  14/03/2016 11:37       Renault_Clio_mit_Servolenkung_und_neuem_TÜV!   \n",
       "49995  23/03/2016 21:45  Opel_Astra_G_Caravan__Tuev_2/2018__Scheckheft_...   \n",
       "50000   22/03/2016 9:54                    Chevrolet_Matiz_1.Hd_TÜV11/2017   \n",
       "\n",
       "          price   abtest  yearOfRegistration   powerPS     model  kilometer  \\\n",
       "0      8.400884     test            7.602900  5.017280       3er  11.918397   \n",
       "1      9.495519  control            7.603898  5.099866  xc_reihe  11.918397   \n",
       "2      8.071219     test            7.602900  4.624973    touran  11.918397   \n",
       "3      8.412055  control            7.604396  4.465908     ibiza  11.002117   \n",
       "4      9.839002     test            7.605392  5.225747  xc_reihe  11.918397   \n",
       "...         ...      ...                 ...       ...       ...        ...   \n",
       "49991  9.296610     test            7.603399  5.446737   x_reihe  11.918397   \n",
       "49992  6.673298     test            7.600402  4.418841     astra  11.918397   \n",
       "49993  6.722630     test            7.600902  4.110874      clio  11.736077   \n",
       "49995  7.736744     test            7.601902  4.624973     astra  11.918397   \n",
       "50000  7.003974     test            7.604396  3.663562     matiz  11.918397   \n",
       "\n",
       "       monthOfRegistration      dateCreated  ...  vehicleType_station wagon  \\\n",
       "0                        3  30/03/2016 0:00  ...                          0   \n",
       "1                        6    7/3/2016 0:00  ...                          0   \n",
       "2                       11  31/03/2016 0:00  ...                          0   \n",
       "3                       12  19/03/2016 0:00  ...                          0   \n",
       "4                       11  16/03/2016 0:00  ...                          0   \n",
       "...                    ...              ...  ...                        ...   \n",
       "49991                    8   10/3/2016 0:00  ...                          0   \n",
       "49992                    9  14/03/2016 0:00  ...                          0   \n",
       "49993                    8  14/03/2016 0:00  ...                          0   \n",
       "49995                    3  23/03/2016 0:00  ...                          1   \n",
       "50000                   10  22/03/2016 0:00  ...                          0   \n",
       "\n",
       "      vehicleType_suv  fuelType_cng  fuelType_diesel  fuelType_hybrid  \\\n",
       "0                   0             0                1                0   \n",
       "1                   1             0                1                0   \n",
       "2                   0             0                1                0   \n",
       "3                   0             0                0                0   \n",
       "4                   1             0                1                0   \n",
       "...               ...           ...              ...              ...   \n",
       "49991               0             0                0                0   \n",
       "49992               0             0                1                0   \n",
       "49993               0             0                0                0   \n",
       "49995               0             0                0                0   \n",
       "50000               0             0                0                0   \n",
       "\n",
       "       fuelType_lpg  fuelType_other  fuelType_petrol  gearbox_automatic  \\\n",
       "0                 0               0                0                  0   \n",
       "1                 0               0                0                  0   \n",
       "2                 0               0                0                  0   \n",
       "3                 0               0                1                  0   \n",
       "4                 0               0                0                  1   \n",
       "...             ...             ...              ...                ...   \n",
       "49991             0               0                1                  0   \n",
       "49992             0               0                0                  0   \n",
       "49993             0               0                1                  0   \n",
       "49995             0               0                1                  0   \n",
       "50000             0               0                1                  0   \n",
       "\n",
       "       gearbox_manual  \n",
       "0                   1  \n",
       "1                   1  \n",
       "2                   1  \n",
       "3                   1  \n",
       "4                   0  \n",
       "...               ...  \n",
       "49991               1  \n",
       "49992               1  \n",
       "49993               1  \n",
       "49995               1  \n",
       "50000               1  \n",
       "\n",
       "[38791 rows x 75 columns]"
      ]
     },
     "execution_count": 64,
     "metadata": {},
     "output_type": "execute_result"
    }
   ],
   "source": [
    "df_cpy = pd.get_dummies(data = df_cpy, columns=['seller', 'brand', \"offerType\", \"vehicleType\", \"fuelType\", \"gearbox\"])\n",
    "df_cpy"
   ]
  },
  {
   "cell_type": "code",
   "execution_count": 65,
   "id": "b3bfe829",
   "metadata": {},
   "outputs": [],
   "source": [
    "from sklearn.model_selection import train_test_split\n",
    "from sklearn.metrics import accuracy_score\n",
    "from sklearn.metrics import precision_score\n",
    "from sklearn.metrics import recall_score\n",
    "from sklearn.metrics import confusion_matrix\n",
    "from sklearn.metrics import classification_report\n",
    "from sklearn.linear_model import LinearRegression"
   ]
  },
  {
   "cell_type": "code",
   "execution_count": 66,
   "id": "ecada073",
   "metadata": {},
   "outputs": [
    {
     "data": {
      "text/plain": [
       "Index(['dateCrawled', 'name', 'price', 'abtest', 'yearOfRegistration',\n",
       "       'powerPS', 'model', 'kilometer', 'monthOfRegistration', 'dateCreated',\n",
       "       'postalCode', 'lastSeen', 'price_outlier', 'yearOfRegistration_outlier',\n",
       "       'powerPS_outlier', 'kilometer_outlier', 'seller_commercial',\n",
       "       'seller_private', 'brand_alfa_romeo', 'brand_audi', 'brand_bmw',\n",
       "       'brand_chevrolet', 'brand_chrysler', 'brand_citroen', 'brand_dacia',\n",
       "       'brand_daewoo', 'brand_daihatsu', 'brand_fiat', 'brand_ford',\n",
       "       'brand_honda', 'brand_hyundai', 'brand_jaguar', 'brand_jeep',\n",
       "       'brand_kia', 'brand_lada', 'brand_lancia', 'brand_land_rover',\n",
       "       'brand_mazda', 'brand_mercedes_benz', 'brand_mini', 'brand_mitsubishi',\n",
       "       'brand_nissan', 'brand_opel', 'brand_peugeot', 'brand_porsche',\n",
       "       'brand_renault', 'brand_rover', 'brand_saab', 'brand_seat',\n",
       "       'brand_skoda', 'brand_smart', 'brand_sonstige_autos', 'brand_subaru',\n",
       "       'brand_suzuki', 'brand_toyota', 'brand_trabant', 'brand_volkswagen',\n",
       "       'brand_volvo', 'offerType_offer', 'vehicleType_bus',\n",
       "       'vehicleType_cabrio', 'vehicleType_coupe', 'vehicleType_limousine',\n",
       "       'vehicleType_others', 'vehicleType_small car',\n",
       "       'vehicleType_station wagon', 'vehicleType_suv', 'fuelType_cng',\n",
       "       'fuelType_diesel', 'fuelType_hybrid', 'fuelType_lpg', 'fuelType_other',\n",
       "       'fuelType_petrol', 'gearbox_automatic', 'gearbox_manual'],\n",
       "      dtype='object')"
      ]
     },
     "execution_count": 66,
     "metadata": {},
     "output_type": "execute_result"
    }
   ],
   "source": [
    "df_cpy.columns"
   ]
  },
  {
   "cell_type": "code",
   "execution_count": 67,
   "id": "77821e5c",
   "metadata": {},
   "outputs": [],
   "source": [
    "output = \"price\"\n",
    "y = df_cpy[output]\n",
    "X = df_cpy.drop(columns=\n",
    "                [output, \"dateCrawled\", \"name\", \"abtest\", \"dateCreated\",\n",
    "                 \"lastSeen\", \"monthOfRegistration\", \"model\",\n",
    "                \"price_outlier\", \"yearOfRegistration_outlier\", \"powerPS_outlier\", 'kilometer_outlier'])\n"
   ]
  },
  {
   "cell_type": "code",
   "execution_count": 68,
   "id": "3fe7d088",
   "metadata": {},
   "outputs": [],
   "source": [
    "X_train, X_test, y_train, y_test = train_test_split(X, y, test_size=0.2, random_state=False)"
   ]
  },
  {
   "cell_type": "code",
   "execution_count": 69,
   "id": "7941a736",
   "metadata": {},
   "outputs": [
    {
     "data": {
      "text/html": [
       "<style>#sk-container-id-1 {color: black;background-color: white;}#sk-container-id-1 pre{padding: 0;}#sk-container-id-1 div.sk-toggleable {background-color: white;}#sk-container-id-1 label.sk-toggleable__label {cursor: pointer;display: block;width: 100%;margin-bottom: 0;padding: 0.3em;box-sizing: border-box;text-align: center;}#sk-container-id-1 label.sk-toggleable__label-arrow:before {content: \"▸\";float: left;margin-right: 0.25em;color: #696969;}#sk-container-id-1 label.sk-toggleable__label-arrow:hover:before {color: black;}#sk-container-id-1 div.sk-estimator:hover label.sk-toggleable__label-arrow:before {color: black;}#sk-container-id-1 div.sk-toggleable__content {max-height: 0;max-width: 0;overflow: hidden;text-align: left;background-color: #f0f8ff;}#sk-container-id-1 div.sk-toggleable__content pre {margin: 0.2em;color: black;border-radius: 0.25em;background-color: #f0f8ff;}#sk-container-id-1 input.sk-toggleable__control:checked~div.sk-toggleable__content {max-height: 200px;max-width: 100%;overflow: auto;}#sk-container-id-1 input.sk-toggleable__control:checked~label.sk-toggleable__label-arrow:before {content: \"▾\";}#sk-container-id-1 div.sk-estimator input.sk-toggleable__control:checked~label.sk-toggleable__label {background-color: #d4ebff;}#sk-container-id-1 div.sk-label input.sk-toggleable__control:checked~label.sk-toggleable__label {background-color: #d4ebff;}#sk-container-id-1 input.sk-hidden--visually {border: 0;clip: rect(1px 1px 1px 1px);clip: rect(1px, 1px, 1px, 1px);height: 1px;margin: -1px;overflow: hidden;padding: 0;position: absolute;width: 1px;}#sk-container-id-1 div.sk-estimator {font-family: monospace;background-color: #f0f8ff;border: 1px dotted black;border-radius: 0.25em;box-sizing: border-box;margin-bottom: 0.5em;}#sk-container-id-1 div.sk-estimator:hover {background-color: #d4ebff;}#sk-container-id-1 div.sk-parallel-item::after {content: \"\";width: 100%;border-bottom: 1px solid gray;flex-grow: 1;}#sk-container-id-1 div.sk-label:hover label.sk-toggleable__label {background-color: #d4ebff;}#sk-container-id-1 div.sk-serial::before {content: \"\";position: absolute;border-left: 1px solid gray;box-sizing: border-box;top: 0;bottom: 0;left: 50%;z-index: 0;}#sk-container-id-1 div.sk-serial {display: flex;flex-direction: column;align-items: center;background-color: white;padding-right: 0.2em;padding-left: 0.2em;position: relative;}#sk-container-id-1 div.sk-item {position: relative;z-index: 1;}#sk-container-id-1 div.sk-parallel {display: flex;align-items: stretch;justify-content: center;background-color: white;position: relative;}#sk-container-id-1 div.sk-item::before, #sk-container-id-1 div.sk-parallel-item::before {content: \"\";position: absolute;border-left: 1px solid gray;box-sizing: border-box;top: 0;bottom: 0;left: 50%;z-index: -1;}#sk-container-id-1 div.sk-parallel-item {display: flex;flex-direction: column;z-index: 1;position: relative;background-color: white;}#sk-container-id-1 div.sk-parallel-item:first-child::after {align-self: flex-end;width: 50%;}#sk-container-id-1 div.sk-parallel-item:last-child::after {align-self: flex-start;width: 50%;}#sk-container-id-1 div.sk-parallel-item:only-child::after {width: 0;}#sk-container-id-1 div.sk-dashed-wrapped {border: 1px dashed gray;margin: 0 0.4em 0.5em 0.4em;box-sizing: border-box;padding-bottom: 0.4em;background-color: white;}#sk-container-id-1 div.sk-label label {font-family: monospace;font-weight: bold;display: inline-block;line-height: 1.2em;}#sk-container-id-1 div.sk-label-container {text-align: center;}#sk-container-id-1 div.sk-container {/* jupyter's `normalize.less` sets `[hidden] { display: none; }` but bootstrap.min.css set `[hidden] { display: none !important; }` so we also need the `!important` here to be able to override the default hidden behavior on the sphinx rendered scikit-learn.org. See: https://github.com/scikit-learn/scikit-learn/issues/21755 */display: inline-block !important;position: relative;}#sk-container-id-1 div.sk-text-repr-fallback {display: none;}</style><div id=\"sk-container-id-1\" class=\"sk-top-container\"><div class=\"sk-text-repr-fallback\"><pre>LinearRegression()</pre><b>In a Jupyter environment, please rerun this cell to show the HTML representation or trust the notebook. <br />On GitHub, the HTML representation is unable to render, please try loading this page with nbviewer.org.</b></div><div class=\"sk-container\" hidden><div class=\"sk-item\"><div class=\"sk-estimator sk-toggleable\"><input class=\"sk-toggleable__control sk-hidden--visually\" id=\"sk-estimator-id-1\" type=\"checkbox\" checked><label for=\"sk-estimator-id-1\" class=\"sk-toggleable__label sk-toggleable__label-arrow\">LinearRegression</label><div class=\"sk-toggleable__content\"><pre>LinearRegression()</pre></div></div></div></div></div>"
      ],
      "text/plain": [
       "LinearRegression()"
      ]
     },
     "execution_count": 69,
     "metadata": {},
     "output_type": "execute_result"
    }
   ],
   "source": [
    "lr = LinearRegression() \n",
    "lr.fit(X_train, y_train)"
   ]
  },
  {
   "cell_type": "code",
   "execution_count": 70,
   "id": "df344c58",
   "metadata": {},
   "outputs": [],
   "source": [
    "y_predict = lr.predict(X_test)"
   ]
  },
  {
   "cell_type": "code",
   "execution_count": 71,
   "id": "775a3c38",
   "metadata": {},
   "outputs": [],
   "source": [
    "from sklearn.metrics import mean_absolute_error"
   ]
  },
  {
   "cell_type": "code",
   "execution_count": 72,
   "id": "4847b9b5",
   "metadata": {},
   "outputs": [
    {
     "data": {
      "text/plain": [
       "0.48797604417676"
      ]
     },
     "execution_count": 72,
     "metadata": {},
     "output_type": "execute_result"
    }
   ],
   "source": [
    "mean_absolute_error(y_test, y_predict)"
   ]
  },
  {
   "cell_type": "code",
   "execution_count": 73,
   "id": "629db244",
   "metadata": {
    "scrolled": true
   },
   "outputs": [
    {
     "data": {
      "text/plain": [
       "0.4785228070787877"
      ]
     },
     "execution_count": 73,
     "metadata": {},
     "output_type": "execute_result"
    }
   ],
   "source": [
    "mean_absolute_error(y_train, lr.predict(X_train))"
   ]
  },
  {
   "cell_type": "code",
   "execution_count": 74,
   "id": "67cdb85a",
   "metadata": {},
   "outputs": [],
   "source": [
    "from sklearn.metrics import r2_score"
   ]
  },
  {
   "cell_type": "code",
   "execution_count": 75,
   "id": "8cd4dd88",
   "metadata": {},
   "outputs": [
    {
     "data": {
      "text/plain": [
       "0.6785550849948985"
      ]
     },
     "execution_count": 75,
     "metadata": {},
     "output_type": "execute_result"
    }
   ],
   "source": [
    "lr.score(X_test, y_test)"
   ]
  },
  {
   "cell_type": "code",
   "execution_count": 76,
   "id": "068951a8",
   "metadata": {},
   "outputs": [
    {
     "data": {
      "text/plain": [
       "0.6767102340340526"
      ]
     },
     "execution_count": 76,
     "metadata": {},
     "output_type": "execute_result"
    }
   ],
   "source": [
    "lr.score(X_train, y_train)"
   ]
  },
  {
   "cell_type": "code",
   "execution_count": 77,
   "id": "ad6d69a4",
   "metadata": {},
   "outputs": [
    {
     "data": {
      "text/html": [
       "<div>\n",
       "<style scoped>\n",
       "    .dataframe tbody tr th:only-of-type {\n",
       "        vertical-align: middle;\n",
       "    }\n",
       "\n",
       "    .dataframe tbody tr th {\n",
       "        vertical-align: top;\n",
       "    }\n",
       "\n",
       "    .dataframe thead th {\n",
       "        text-align: right;\n",
       "    }\n",
       "</style>\n",
       "<table border=\"1\" class=\"dataframe\">\n",
       "  <thead>\n",
       "    <tr style=\"text-align: right;\">\n",
       "      <th></th>\n",
       "      <th>dateCrawled</th>\n",
       "      <th>name</th>\n",
       "      <th>price</th>\n",
       "      <th>abtest</th>\n",
       "      <th>yearOfRegistration</th>\n",
       "      <th>powerPS</th>\n",
       "      <th>model</th>\n",
       "      <th>kilometer</th>\n",
       "      <th>monthOfRegistration</th>\n",
       "      <th>dateCreated</th>\n",
       "      <th>...</th>\n",
       "      <th>vehicleType_station wagon</th>\n",
       "      <th>vehicleType_suv</th>\n",
       "      <th>fuelType_cng</th>\n",
       "      <th>fuelType_diesel</th>\n",
       "      <th>fuelType_hybrid</th>\n",
       "      <th>fuelType_lpg</th>\n",
       "      <th>fuelType_other</th>\n",
       "      <th>fuelType_petrol</th>\n",
       "      <th>gearbox_automatic</th>\n",
       "      <th>gearbox_manual</th>\n",
       "    </tr>\n",
       "  </thead>\n",
       "  <tbody>\n",
       "    <tr>\n",
       "      <th>0</th>\n",
       "      <td>30/03/2016 13:51</td>\n",
       "      <td>Zu_verkaufen</td>\n",
       "      <td>4450.0</td>\n",
       "      <td>test</td>\n",
       "      <td>7.602900</td>\n",
       "      <td>5.017280</td>\n",
       "      <td>3er</td>\n",
       "      <td>11.918397</td>\n",
       "      <td>3</td>\n",
       "      <td>30/03/2016 0:00</td>\n",
       "      <td>...</td>\n",
       "      <td>0</td>\n",
       "      <td>0</td>\n",
       "      <td>0</td>\n",
       "      <td>1</td>\n",
       "      <td>0</td>\n",
       "      <td>0</td>\n",
       "      <td>0</td>\n",
       "      <td>0</td>\n",
       "      <td>0</td>\n",
       "      <td>1</td>\n",
       "    </tr>\n",
       "    <tr>\n",
       "      <th>1</th>\n",
       "      <td>7/3/2016 9:54</td>\n",
       "      <td>Volvo_XC90_2.4D_Summum</td>\n",
       "      <td>13299.0</td>\n",
       "      <td>control</td>\n",
       "      <td>7.603898</td>\n",
       "      <td>5.099866</td>\n",
       "      <td>xc_reihe</td>\n",
       "      <td>11.918397</td>\n",
       "      <td>6</td>\n",
       "      <td>7/3/2016 0:00</td>\n",
       "      <td>...</td>\n",
       "      <td>0</td>\n",
       "      <td>1</td>\n",
       "      <td>0</td>\n",
       "      <td>1</td>\n",
       "      <td>0</td>\n",
       "      <td>0</td>\n",
       "      <td>0</td>\n",
       "      <td>0</td>\n",
       "      <td>0</td>\n",
       "      <td>1</td>\n",
       "    </tr>\n",
       "    <tr>\n",
       "      <th>2</th>\n",
       "      <td>1/4/2016 0:57</td>\n",
       "      <td>Volkswagen_Touran</td>\n",
       "      <td>3200.0</td>\n",
       "      <td>test</td>\n",
       "      <td>7.602900</td>\n",
       "      <td>4.624973</td>\n",
       "      <td>touran</td>\n",
       "      <td>11.918397</td>\n",
       "      <td>11</td>\n",
       "      <td>31/03/2016 0:00</td>\n",
       "      <td>...</td>\n",
       "      <td>0</td>\n",
       "      <td>0</td>\n",
       "      <td>0</td>\n",
       "      <td>1</td>\n",
       "      <td>0</td>\n",
       "      <td>0</td>\n",
       "      <td>0</td>\n",
       "      <td>0</td>\n",
       "      <td>0</td>\n",
       "      <td>1</td>\n",
       "    </tr>\n",
       "    <tr>\n",
       "      <th>3</th>\n",
       "      <td>19/03/2016 17:50</td>\n",
       "      <td>Seat_Ibiza_1.4_16V_Reference</td>\n",
       "      <td>4500.0</td>\n",
       "      <td>control</td>\n",
       "      <td>7.604396</td>\n",
       "      <td>4.465908</td>\n",
       "      <td>ibiza</td>\n",
       "      <td>11.002117</td>\n",
       "      <td>12</td>\n",
       "      <td>19/03/2016 0:00</td>\n",
       "      <td>...</td>\n",
       "      <td>0</td>\n",
       "      <td>0</td>\n",
       "      <td>0</td>\n",
       "      <td>0</td>\n",
       "      <td>0</td>\n",
       "      <td>0</td>\n",
       "      <td>0</td>\n",
       "      <td>1</td>\n",
       "      <td>0</td>\n",
       "      <td>1</td>\n",
       "    </tr>\n",
       "    <tr>\n",
       "      <th>4</th>\n",
       "      <td>16/03/2016 14:51</td>\n",
       "      <td>Volvo_XC90_D5_Aut._RDesign_R_Design_AWD_GSHD_S...</td>\n",
       "      <td>18750.0</td>\n",
       "      <td>test</td>\n",
       "      <td>7.605392</td>\n",
       "      <td>5.225747</td>\n",
       "      <td>xc_reihe</td>\n",
       "      <td>11.918397</td>\n",
       "      <td>11</td>\n",
       "      <td>16/03/2016 0:00</td>\n",
       "      <td>...</td>\n",
       "      <td>0</td>\n",
       "      <td>1</td>\n",
       "      <td>0</td>\n",
       "      <td>1</td>\n",
       "      <td>0</td>\n",
       "      <td>0</td>\n",
       "      <td>0</td>\n",
       "      <td>0</td>\n",
       "      <td>1</td>\n",
       "      <td>0</td>\n",
       "    </tr>\n",
       "    <tr>\n",
       "      <th>...</th>\n",
       "      <td>...</td>\n",
       "      <td>...</td>\n",
       "      <td>...</td>\n",
       "      <td>...</td>\n",
       "      <td>...</td>\n",
       "      <td>...</td>\n",
       "      <td>...</td>\n",
       "      <td>...</td>\n",
       "      <td>...</td>\n",
       "      <td>...</td>\n",
       "      <td>...</td>\n",
       "      <td>...</td>\n",
       "      <td>...</td>\n",
       "      <td>...</td>\n",
       "      <td>...</td>\n",
       "      <td>...</td>\n",
       "      <td>...</td>\n",
       "      <td>...</td>\n",
       "      <td>...</td>\n",
       "      <td>...</td>\n",
       "      <td>...</td>\n",
       "    </tr>\n",
       "    <tr>\n",
       "      <th>49991</th>\n",
       "      <td>10/3/2016 23:36</td>\n",
       "      <td>BMW_X3_3.0i</td>\n",
       "      <td>10900.0</td>\n",
       "      <td>test</td>\n",
       "      <td>7.603399</td>\n",
       "      <td>5.446737</td>\n",
       "      <td>x_reihe</td>\n",
       "      <td>11.918397</td>\n",
       "      <td>8</td>\n",
       "      <td>10/3/2016 0:00</td>\n",
       "      <td>...</td>\n",
       "      <td>0</td>\n",
       "      <td>0</td>\n",
       "      <td>0</td>\n",
       "      <td>0</td>\n",
       "      <td>0</td>\n",
       "      <td>0</td>\n",
       "      <td>0</td>\n",
       "      <td>1</td>\n",
       "      <td>0</td>\n",
       "      <td>1</td>\n",
       "    </tr>\n",
       "    <tr>\n",
       "      <th>49992</th>\n",
       "      <td>14/03/2016 13:57</td>\n",
       "      <td>Opel_Astra_2.0_DI_Elegance</td>\n",
       "      <td>790.0</td>\n",
       "      <td>test</td>\n",
       "      <td>7.600402</td>\n",
       "      <td>4.418841</td>\n",
       "      <td>astra</td>\n",
       "      <td>11.918397</td>\n",
       "      <td>9</td>\n",
       "      <td>14/03/2016 0:00</td>\n",
       "      <td>...</td>\n",
       "      <td>0</td>\n",
       "      <td>0</td>\n",
       "      <td>0</td>\n",
       "      <td>1</td>\n",
       "      <td>0</td>\n",
       "      <td>0</td>\n",
       "      <td>0</td>\n",
       "      <td>0</td>\n",
       "      <td>0</td>\n",
       "      <td>1</td>\n",
       "    </tr>\n",
       "    <tr>\n",
       "      <th>49993</th>\n",
       "      <td>14/03/2016 11:37</td>\n",
       "      <td>Renault_Clio_mit_Servolenkung_und_neuem_TÜV!</td>\n",
       "      <td>830.0</td>\n",
       "      <td>test</td>\n",
       "      <td>7.600902</td>\n",
       "      <td>4.110874</td>\n",
       "      <td>clio</td>\n",
       "      <td>11.736077</td>\n",
       "      <td>8</td>\n",
       "      <td>14/03/2016 0:00</td>\n",
       "      <td>...</td>\n",
       "      <td>0</td>\n",
       "      <td>0</td>\n",
       "      <td>0</td>\n",
       "      <td>0</td>\n",
       "      <td>0</td>\n",
       "      <td>0</td>\n",
       "      <td>0</td>\n",
       "      <td>1</td>\n",
       "      <td>0</td>\n",
       "      <td>1</td>\n",
       "    </tr>\n",
       "    <tr>\n",
       "      <th>49995</th>\n",
       "      <td>23/03/2016 21:45</td>\n",
       "      <td>Opel_Astra_G_Caravan__Tuev_2/2018__Scheckheft_...</td>\n",
       "      <td>2290.0</td>\n",
       "      <td>test</td>\n",
       "      <td>7.601902</td>\n",
       "      <td>4.624973</td>\n",
       "      <td>astra</td>\n",
       "      <td>11.918397</td>\n",
       "      <td>3</td>\n",
       "      <td>23/03/2016 0:00</td>\n",
       "      <td>...</td>\n",
       "      <td>1</td>\n",
       "      <td>0</td>\n",
       "      <td>0</td>\n",
       "      <td>0</td>\n",
       "      <td>0</td>\n",
       "      <td>0</td>\n",
       "      <td>0</td>\n",
       "      <td>1</td>\n",
       "      <td>0</td>\n",
       "      <td>1</td>\n",
       "    </tr>\n",
       "    <tr>\n",
       "      <th>50000</th>\n",
       "      <td>22/03/2016 9:54</td>\n",
       "      <td>Chevrolet_Matiz_1.Hd_TÜV11/2017</td>\n",
       "      <td>1100.0</td>\n",
       "      <td>test</td>\n",
       "      <td>7.604396</td>\n",
       "      <td>3.663562</td>\n",
       "      <td>matiz</td>\n",
       "      <td>11.918397</td>\n",
       "      <td>10</td>\n",
       "      <td>22/03/2016 0:00</td>\n",
       "      <td>...</td>\n",
       "      <td>0</td>\n",
       "      <td>0</td>\n",
       "      <td>0</td>\n",
       "      <td>0</td>\n",
       "      <td>0</td>\n",
       "      <td>0</td>\n",
       "      <td>0</td>\n",
       "      <td>1</td>\n",
       "      <td>0</td>\n",
       "      <td>1</td>\n",
       "    </tr>\n",
       "  </tbody>\n",
       "</table>\n",
       "<p>38791 rows × 75 columns</p>\n",
       "</div>"
      ],
      "text/plain": [
       "            dateCrawled                                               name  \\\n",
       "0      30/03/2016 13:51                                       Zu_verkaufen   \n",
       "1         7/3/2016 9:54                             Volvo_XC90_2.4D_Summum   \n",
       "2         1/4/2016 0:57                                  Volkswagen_Touran   \n",
       "3      19/03/2016 17:50                       Seat_Ibiza_1.4_16V_Reference   \n",
       "4      16/03/2016 14:51  Volvo_XC90_D5_Aut._RDesign_R_Design_AWD_GSHD_S...   \n",
       "...                 ...                                                ...   \n",
       "49991   10/3/2016 23:36                                        BMW_X3_3.0i   \n",
       "49992  14/03/2016 13:57                         Opel_Astra_2.0_DI_Elegance   \n",
       "49993  14/03/2016 11:37       Renault_Clio_mit_Servolenkung_und_neuem_TÜV!   \n",
       "49995  23/03/2016 21:45  Opel_Astra_G_Caravan__Tuev_2/2018__Scheckheft_...   \n",
       "50000   22/03/2016 9:54                    Chevrolet_Matiz_1.Hd_TÜV11/2017   \n",
       "\n",
       "         price   abtest  yearOfRegistration   powerPS     model  kilometer  \\\n",
       "0       4450.0     test            7.602900  5.017280       3er  11.918397   \n",
       "1      13299.0  control            7.603898  5.099866  xc_reihe  11.918397   \n",
       "2       3200.0     test            7.602900  4.624973    touran  11.918397   \n",
       "3       4500.0  control            7.604396  4.465908     ibiza  11.002117   \n",
       "4      18750.0     test            7.605392  5.225747  xc_reihe  11.918397   \n",
       "...        ...      ...                 ...       ...       ...        ...   \n",
       "49991  10900.0     test            7.603399  5.446737   x_reihe  11.918397   \n",
       "49992    790.0     test            7.600402  4.418841     astra  11.918397   \n",
       "49993    830.0     test            7.600902  4.110874      clio  11.736077   \n",
       "49995   2290.0     test            7.601902  4.624973     astra  11.918397   \n",
       "50000   1100.0     test            7.604396  3.663562     matiz  11.918397   \n",
       "\n",
       "       monthOfRegistration      dateCreated  ...  vehicleType_station wagon  \\\n",
       "0                        3  30/03/2016 0:00  ...                          0   \n",
       "1                        6    7/3/2016 0:00  ...                          0   \n",
       "2                       11  31/03/2016 0:00  ...                          0   \n",
       "3                       12  19/03/2016 0:00  ...                          0   \n",
       "4                       11  16/03/2016 0:00  ...                          0   \n",
       "...                    ...              ...  ...                        ...   \n",
       "49991                    8   10/3/2016 0:00  ...                          0   \n",
       "49992                    9  14/03/2016 0:00  ...                          0   \n",
       "49993                    8  14/03/2016 0:00  ...                          0   \n",
       "49995                    3  23/03/2016 0:00  ...                          1   \n",
       "50000                   10  22/03/2016 0:00  ...                          0   \n",
       "\n",
       "      vehicleType_suv  fuelType_cng  fuelType_diesel  fuelType_hybrid  \\\n",
       "0                   0             0                1                0   \n",
       "1                   1             0                1                0   \n",
       "2                   0             0                1                0   \n",
       "3                   0             0                0                0   \n",
       "4                   1             0                1                0   \n",
       "...               ...           ...              ...              ...   \n",
       "49991               0             0                0                0   \n",
       "49992               0             0                1                0   \n",
       "49993               0             0                0                0   \n",
       "49995               0             0                0                0   \n",
       "50000               0             0                0                0   \n",
       "\n",
       "       fuelType_lpg  fuelType_other  fuelType_petrol  gearbox_automatic  \\\n",
       "0                 0               0                0                  0   \n",
       "1                 0               0                0                  0   \n",
       "2                 0               0                0                  0   \n",
       "3                 0               0                1                  0   \n",
       "4                 0               0                0                  1   \n",
       "...             ...             ...              ...                ...   \n",
       "49991             0               0                1                  0   \n",
       "49992             0               0                0                  0   \n",
       "49993             0               0                1                  0   \n",
       "49995             0               0                1                  0   \n",
       "50000             0               0                1                  0   \n",
       "\n",
       "       gearbox_manual  \n",
       "0                   1  \n",
       "1                   1  \n",
       "2                   1  \n",
       "3                   1  \n",
       "4                   0  \n",
       "...               ...  \n",
       "49991               1  \n",
       "49992               1  \n",
       "49993               1  \n",
       "49995               1  \n",
       "50000               1  \n",
       "\n",
       "[38791 rows x 75 columns]"
      ]
     },
     "execution_count": 77,
     "metadata": {},
     "output_type": "execute_result"
    }
   ],
   "source": [
    "df_cpy.price = np.expm1(df_cpy.price)\n",
    "df_cpy"
   ]
  },
  {
   "cell_type": "code",
   "execution_count": 78,
   "id": "1fca21c8",
   "metadata": {},
   "outputs": [
    {
     "data": {
      "text/plain": [
       "0.6173519259962497"
      ]
     },
     "execution_count": 78,
     "metadata": {},
     "output_type": "execute_result"
    }
   ],
   "source": [
    "r2_score(np.expm1(y_test), np.expm1(y_predict))"
   ]
  }
 ],
 "metadata": {
  "kernelspec": {
   "display_name": "Python 3 (ipykernel)",
   "language": "python",
   "name": "python3"
  },
  "language_info": {
   "codemirror_mode": {
    "name": "ipython",
    "version": 3
   },
   "file_extension": ".py",
   "mimetype": "text/x-python",
   "name": "python",
   "nbconvert_exporter": "python",
   "pygments_lexer": "ipython3",
   "version": "3.10.0"
  }
 },
 "nbformat": 4,
 "nbformat_minor": 5
}
