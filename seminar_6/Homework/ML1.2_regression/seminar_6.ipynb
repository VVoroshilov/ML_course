{
 "cells": [
  {
   "cell_type": "markdown",
   "id": "88b240c6",
   "metadata": {},
   "source": [
    "# Ворошилов Владислав\n",
    "## Группа: ПИ20-3"
   ]
  },
  {
   "cell_type": "code",
   "execution_count": 29,
   "id": "a670bc95",
   "metadata": {},
   "outputs": [],
   "source": [
    "import numpy as np\n",
    "import pandas as pd\n",
    "from sklearn import linear_model\n",
    "from sklearn import model_selection\n",
    "from sklearn.model_selection import train_test_split\n",
    "import matplotlib.pyplot as plt\n",
    "from sklearn import metrics\n",
    "import pandas as pd\n",
    "import numpy as np\n",
    "import matplotlib.pyplot as plt\n",
    "from sklearn.linear_model import LinearRegression\n",
    "from sklearn.model_selection import train_test_split\n",
    "\n",
    "# from sklearn.datasets import load_boston"
   ]
  },
  {
   "cell_type": "markdown",
   "id": "139d2735",
   "metadata": {},
   "source": [
    "## 2. Загрузите датасет из приложения. Вам понадобится два файла - отдельно с признаками (помечен x) и значениями целевой переменной (помечен y). Файлы не содержат заголовков столбцов и строк."
   ]
  },
  {
   "cell_type": "code",
   "execution_count": 11,
   "id": "9c897077",
   "metadata": {},
   "outputs": [],
   "source": [
    "x_csv = 'data/10_x.csv'\n",
    "y_csv = 'data/10_y.csv'\n",
    "\n",
    "df_x = pd.read_csv(x_csv, names=[f\"x{i+1}\" for i in range(5)])\n",
    "df_y = pd.read_csv(y_csv, names=[\"y\"])"
   ]
  },
  {
   "cell_type": "code",
   "execution_count": 12,
   "id": "a2b327f4",
   "metadata": {},
   "outputs": [
    {
     "data": {
      "text/html": [
       "<div>\n",
       "<style scoped>\n",
       "    .dataframe tbody tr th:only-of-type {\n",
       "        vertical-align: middle;\n",
       "    }\n",
       "\n",
       "    .dataframe tbody tr th {\n",
       "        vertical-align: top;\n",
       "    }\n",
       "\n",
       "    .dataframe thead th {\n",
       "        text-align: right;\n",
       "    }\n",
       "</style>\n",
       "<table border=\"1\" class=\"dataframe\">\n",
       "  <thead>\n",
       "    <tr style=\"text-align: right;\">\n",
       "      <th></th>\n",
       "      <th>x1</th>\n",
       "      <th>x2</th>\n",
       "      <th>x3</th>\n",
       "      <th>x4</th>\n",
       "      <th>x5</th>\n",
       "    </tr>\n",
       "  </thead>\n",
       "  <tbody>\n",
       "    <tr>\n",
       "      <th>0</th>\n",
       "      <td>-1.590103</td>\n",
       "      <td>-1.023308</td>\n",
       "      <td>0.139891</td>\n",
       "      <td>1.351945</td>\n",
       "      <td>0.998685</td>\n",
       "    </tr>\n",
       "    <tr>\n",
       "      <th>1</th>\n",
       "      <td>-0.235861</td>\n",
       "      <td>-1.108386</td>\n",
       "      <td>2.553156</td>\n",
       "      <td>-1.911015</td>\n",
       "      <td>0.859437</td>\n",
       "    </tr>\n",
       "    <tr>\n",
       "      <th>2</th>\n",
       "      <td>0.037993</td>\n",
       "      <td>-2.136154</td>\n",
       "      <td>0.903113</td>\n",
       "      <td>1.095856</td>\n",
       "      <td>1.024503</td>\n",
       "    </tr>\n",
       "    <tr>\n",
       "      <th>3</th>\n",
       "      <td>-1.170747</td>\n",
       "      <td>-1.549586</td>\n",
       "      <td>1.827438</td>\n",
       "      <td>-0.519883</td>\n",
       "      <td>1.216156</td>\n",
       "    </tr>\n",
       "    <tr>\n",
       "      <th>4</th>\n",
       "      <td>1.060144</td>\n",
       "      <td>-1.086193</td>\n",
       "      <td>-1.251762</td>\n",
       "      <td>-0.571059</td>\n",
       "      <td>-0.107315</td>\n",
       "    </tr>\n",
       "    <tr>\n",
       "      <th>...</th>\n",
       "      <td>...</td>\n",
       "      <td>...</td>\n",
       "      <td>...</td>\n",
       "      <td>...</td>\n",
       "      <td>...</td>\n",
       "    </tr>\n",
       "    <tr>\n",
       "      <th>432</th>\n",
       "      <td>1.118841</td>\n",
       "      <td>0.345085</td>\n",
       "      <td>1.847087</td>\n",
       "      <td>1.138165</td>\n",
       "      <td>-1.680933</td>\n",
       "    </tr>\n",
       "    <tr>\n",
       "      <th>433</th>\n",
       "      <td>-0.749348</td>\n",
       "      <td>1.154446</td>\n",
       "      <td>-0.006490</td>\n",
       "      <td>-0.515298</td>\n",
       "      <td>0.514873</td>\n",
       "    </tr>\n",
       "    <tr>\n",
       "      <th>434</th>\n",
       "      <td>-0.064161</td>\n",
       "      <td>-0.576409</td>\n",
       "      <td>-0.831027</td>\n",
       "      <td>0.690439</td>\n",
       "      <td>-1.472990</td>\n",
       "    </tr>\n",
       "    <tr>\n",
       "      <th>435</th>\n",
       "      <td>-0.016386</td>\n",
       "      <td>0.189571</td>\n",
       "      <td>-0.952488</td>\n",
       "      <td>-0.283293</td>\n",
       "      <td>1.204598</td>\n",
       "    </tr>\n",
       "    <tr>\n",
       "      <th>436</th>\n",
       "      <td>-0.360963</td>\n",
       "      <td>-1.719303</td>\n",
       "      <td>0.088247</td>\n",
       "      <td>1.262523</td>\n",
       "      <td>0.161783</td>\n",
       "    </tr>\n",
       "  </tbody>\n",
       "</table>\n",
       "<p>437 rows × 5 columns</p>\n",
       "</div>"
      ],
      "text/plain": [
       "           x1        x2        x3        x4        x5\n",
       "0   -1.590103 -1.023308  0.139891  1.351945  0.998685\n",
       "1   -0.235861 -1.108386  2.553156 -1.911015  0.859437\n",
       "2    0.037993 -2.136154  0.903113  1.095856  1.024503\n",
       "3   -1.170747 -1.549586  1.827438 -0.519883  1.216156\n",
       "4    1.060144 -1.086193 -1.251762 -0.571059 -0.107315\n",
       "..        ...       ...       ...       ...       ...\n",
       "432  1.118841  0.345085  1.847087  1.138165 -1.680933\n",
       "433 -0.749348  1.154446 -0.006490 -0.515298  0.514873\n",
       "434 -0.064161 -0.576409 -0.831027  0.690439 -1.472990\n",
       "435 -0.016386  0.189571 -0.952488 -0.283293  1.204598\n",
       "436 -0.360963 -1.719303  0.088247  1.262523  0.161783\n",
       "\n",
       "[437 rows x 5 columns]"
      ]
     },
     "execution_count": 12,
     "metadata": {},
     "output_type": "execute_result"
    }
   ],
   "source": [
    "df_x"
   ]
  },
  {
   "cell_type": "code",
   "execution_count": 13,
   "id": "7412f771",
   "metadata": {},
   "outputs": [
    {
     "data": {
      "text/html": [
       "<div>\n",
       "<style scoped>\n",
       "    .dataframe tbody tr th:only-of-type {\n",
       "        vertical-align: middle;\n",
       "    }\n",
       "\n",
       "    .dataframe tbody tr th {\n",
       "        vertical-align: top;\n",
       "    }\n",
       "\n",
       "    .dataframe thead th {\n",
       "        text-align: right;\n",
       "    }\n",
       "</style>\n",
       "<table border=\"1\" class=\"dataframe\">\n",
       "  <thead>\n",
       "    <tr style=\"text-align: right;\">\n",
       "      <th></th>\n",
       "      <th>y</th>\n",
       "    </tr>\n",
       "  </thead>\n",
       "  <tbody>\n",
       "    <tr>\n",
       "      <th>0</th>\n",
       "      <td>-20.511355</td>\n",
       "    </tr>\n",
       "    <tr>\n",
       "      <th>1</th>\n",
       "      <td>-137.884100</td>\n",
       "    </tr>\n",
       "    <tr>\n",
       "      <th>2</th>\n",
       "      <td>77.084302</td>\n",
       "    </tr>\n",
       "    <tr>\n",
       "      <th>3</th>\n",
       "      <td>-137.669480</td>\n",
       "    </tr>\n",
       "    <tr>\n",
       "      <th>4</th>\n",
       "      <td>-44.044335</td>\n",
       "    </tr>\n",
       "    <tr>\n",
       "      <th>...</th>\n",
       "      <td>...</td>\n",
       "    </tr>\n",
       "    <tr>\n",
       "      <th>432</th>\n",
       "      <td>212.106146</td>\n",
       "    </tr>\n",
       "    <tr>\n",
       "      <th>433</th>\n",
       "      <td>-32.541704</td>\n",
       "    </tr>\n",
       "    <tr>\n",
       "      <th>434</th>\n",
       "      <td>-51.624014</td>\n",
       "    </tr>\n",
       "    <tr>\n",
       "      <th>435</th>\n",
       "      <td>-12.461232</td>\n",
       "    </tr>\n",
       "    <tr>\n",
       "      <th>436</th>\n",
       "      <td>17.243884</td>\n",
       "    </tr>\n",
       "  </tbody>\n",
       "</table>\n",
       "<p>437 rows × 1 columns</p>\n",
       "</div>"
      ],
      "text/plain": [
       "              y\n",
       "0    -20.511355\n",
       "1   -137.884100\n",
       "2     77.084302\n",
       "3   -137.669480\n",
       "4    -44.044335\n",
       "..          ...\n",
       "432  212.106146\n",
       "433  -32.541704\n",
       "434  -51.624014\n",
       "435  -12.461232\n",
       "436   17.243884\n",
       "\n",
       "[437 rows x 1 columns]"
      ]
     },
     "execution_count": 13,
     "metadata": {},
     "output_type": "execute_result"
    }
   ],
   "source": [
    "df_y"
   ]
  },
  {
   "cell_type": "markdown",
   "id": "7aea0e60",
   "metadata": {},
   "source": [
    "## 3. Сделайте количественное описание датасета: количество точек данных, признаков, статистику по каждому признаку."
   ]
  },
  {
   "cell_type": "code",
   "execution_count": 16,
   "id": "96ccbea4",
   "metadata": {},
   "outputs": [
    {
     "data": {
      "text/html": [
       "<div>\n",
       "<style scoped>\n",
       "    .dataframe tbody tr th:only-of-type {\n",
       "        vertical-align: middle;\n",
       "    }\n",
       "\n",
       "    .dataframe tbody tr th {\n",
       "        vertical-align: top;\n",
       "    }\n",
       "\n",
       "    .dataframe thead th {\n",
       "        text-align: right;\n",
       "    }\n",
       "</style>\n",
       "<table border=\"1\" class=\"dataframe\">\n",
       "  <thead>\n",
       "    <tr style=\"text-align: right;\">\n",
       "      <th></th>\n",
       "      <th>x1</th>\n",
       "      <th>x2</th>\n",
       "      <th>x3</th>\n",
       "      <th>x4</th>\n",
       "      <th>x5</th>\n",
       "    </tr>\n",
       "  </thead>\n",
       "  <tbody>\n",
       "    <tr>\n",
       "      <th>count</th>\n",
       "      <td>437.000000</td>\n",
       "      <td>437.000000</td>\n",
       "      <td>437.000000</td>\n",
       "      <td>437.000000</td>\n",
       "      <td>437.000000</td>\n",
       "    </tr>\n",
       "    <tr>\n",
       "      <th>mean</th>\n",
       "      <td>0.047260</td>\n",
       "      <td>0.028446</td>\n",
       "      <td>0.044112</td>\n",
       "      <td>0.059077</td>\n",
       "      <td>0.029750</td>\n",
       "    </tr>\n",
       "    <tr>\n",
       "      <th>std</th>\n",
       "      <td>0.985409</td>\n",
       "      <td>0.978584</td>\n",
       "      <td>1.004005</td>\n",
       "      <td>0.993160</td>\n",
       "      <td>0.964815</td>\n",
       "    </tr>\n",
       "    <tr>\n",
       "      <th>min</th>\n",
       "      <td>-2.639479</td>\n",
       "      <td>-2.833294</td>\n",
       "      <td>-2.791713</td>\n",
       "      <td>-2.824406</td>\n",
       "      <td>-2.860318</td>\n",
       "    </tr>\n",
       "    <tr>\n",
       "      <th>25%</th>\n",
       "      <td>-0.613157</td>\n",
       "      <td>-0.606161</td>\n",
       "      <td>-0.652866</td>\n",
       "      <td>-0.607444</td>\n",
       "      <td>-0.601669</td>\n",
       "    </tr>\n",
       "    <tr>\n",
       "      <th>50%</th>\n",
       "      <td>-0.011851</td>\n",
       "      <td>0.029189</td>\n",
       "      <td>0.069595</td>\n",
       "      <td>0.014312</td>\n",
       "      <td>0.075974</td>\n",
       "    </tr>\n",
       "    <tr>\n",
       "      <th>75%</th>\n",
       "      <td>0.686657</td>\n",
       "      <td>0.669847</td>\n",
       "      <td>0.734619</td>\n",
       "      <td>0.686793</td>\n",
       "      <td>0.719638</td>\n",
       "    </tr>\n",
       "    <tr>\n",
       "      <th>max</th>\n",
       "      <td>2.877366</td>\n",
       "      <td>2.646400</td>\n",
       "      <td>3.443708</td>\n",
       "      <td>3.094108</td>\n",
       "      <td>2.512716</td>\n",
       "    </tr>\n",
       "  </tbody>\n",
       "</table>\n",
       "</div>"
      ],
      "text/plain": [
       "               x1          x2          x3          x4          x5\n",
       "count  437.000000  437.000000  437.000000  437.000000  437.000000\n",
       "mean     0.047260    0.028446    0.044112    0.059077    0.029750\n",
       "std      0.985409    0.978584    1.004005    0.993160    0.964815\n",
       "min     -2.639479   -2.833294   -2.791713   -2.824406   -2.860318\n",
       "25%     -0.613157   -0.606161   -0.652866   -0.607444   -0.601669\n",
       "50%     -0.011851    0.029189    0.069595    0.014312    0.075974\n",
       "75%      0.686657    0.669847    0.734619    0.686793    0.719638\n",
       "max      2.877366    2.646400    3.443708    3.094108    2.512716"
      ]
     },
     "execution_count": 16,
     "metadata": {},
     "output_type": "execute_result"
    }
   ],
   "source": [
    "df_x.describe()"
   ]
  },
  {
   "cell_type": "code",
   "execution_count": 18,
   "id": "b83e3639",
   "metadata": {},
   "outputs": [
    {
     "data": {
      "text/plain": [
       "(437, 5)"
      ]
     },
     "execution_count": 18,
     "metadata": {},
     "output_type": "execute_result"
    }
   ],
   "source": [
    "df_x.shape"
   ]
  },
  {
   "cell_type": "code",
   "execution_count": 17,
   "id": "19b406c1",
   "metadata": {},
   "outputs": [
    {
     "data": {
      "text/html": [
       "<div>\n",
       "<style scoped>\n",
       "    .dataframe tbody tr th:only-of-type {\n",
       "        vertical-align: middle;\n",
       "    }\n",
       "\n",
       "    .dataframe tbody tr th {\n",
       "        vertical-align: top;\n",
       "    }\n",
       "\n",
       "    .dataframe thead th {\n",
       "        text-align: right;\n",
       "    }\n",
       "</style>\n",
       "<table border=\"1\" class=\"dataframe\">\n",
       "  <thead>\n",
       "    <tr style=\"text-align: right;\">\n",
       "      <th></th>\n",
       "      <th>y</th>\n",
       "    </tr>\n",
       "  </thead>\n",
       "  <tbody>\n",
       "    <tr>\n",
       "      <th>count</th>\n",
       "      <td>437.000000</td>\n",
       "    </tr>\n",
       "    <tr>\n",
       "      <th>mean</th>\n",
       "      <td>13.576449</td>\n",
       "    </tr>\n",
       "    <tr>\n",
       "      <th>std</th>\n",
       "      <td>134.579270</td>\n",
       "    </tr>\n",
       "    <tr>\n",
       "      <th>min</th>\n",
       "      <td>-360.440671</td>\n",
       "    </tr>\n",
       "    <tr>\n",
       "      <th>25%</th>\n",
       "      <td>-72.961234</td>\n",
       "    </tr>\n",
       "    <tr>\n",
       "      <th>50%</th>\n",
       "      <td>13.121595</td>\n",
       "    </tr>\n",
       "    <tr>\n",
       "      <th>75%</th>\n",
       "      <td>92.082633</td>\n",
       "    </tr>\n",
       "    <tr>\n",
       "      <th>max</th>\n",
       "      <td>475.993698</td>\n",
       "    </tr>\n",
       "  </tbody>\n",
       "</table>\n",
       "</div>"
      ],
      "text/plain": [
       "                y\n",
       "count  437.000000\n",
       "mean    13.576449\n",
       "std    134.579270\n",
       "min   -360.440671\n",
       "25%    -72.961234\n",
       "50%     13.121595\n",
       "75%     92.082633\n",
       "max    475.993698"
      ]
     },
     "execution_count": 17,
     "metadata": {},
     "output_type": "execute_result"
    }
   ],
   "source": [
    "df_y.describe()"
   ]
  },
  {
   "cell_type": "code",
   "execution_count": 19,
   "id": "afd77afa",
   "metadata": {},
   "outputs": [
    {
     "data": {
      "text/plain": [
       "(437, 1)"
      ]
     },
     "execution_count": 19,
     "metadata": {},
     "output_type": "execute_result"
    }
   ],
   "source": [
    "df_y.shape"
   ]
  },
  {
   "cell_type": "markdown",
   "id": "04033e7b",
   "metadata": {},
   "source": [
    "## 4. Разделите все наблюдения на обучающую и тестовую выборки в соотношении 80-20.\n"
   ]
  },
  {
   "cell_type": "code",
   "execution_count": 79,
   "id": "385aa4eb",
   "metadata": {},
   "outputs": [],
   "source": [
    "x_train, x_test, y_train, y_test = train_test_split(df_x, df_y, test_size=0.2, random_state=0)"
   ]
  },
  {
   "cell_type": "code",
   "execution_count": 80,
   "id": "c635ee6c",
   "metadata": {},
   "outputs": [
    {
     "data": {
      "text/html": [
       "<div>\n",
       "<style scoped>\n",
       "    .dataframe tbody tr th:only-of-type {\n",
       "        vertical-align: middle;\n",
       "    }\n",
       "\n",
       "    .dataframe tbody tr th {\n",
       "        vertical-align: top;\n",
       "    }\n",
       "\n",
       "    .dataframe thead th {\n",
       "        text-align: right;\n",
       "    }\n",
       "</style>\n",
       "<table border=\"1\" class=\"dataframe\">\n",
       "  <thead>\n",
       "    <tr style=\"text-align: right;\">\n",
       "      <th></th>\n",
       "      <th>x1</th>\n",
       "      <th>x2</th>\n",
       "      <th>x3</th>\n",
       "      <th>x4</th>\n",
       "      <th>x5</th>\n",
       "    </tr>\n",
       "  </thead>\n",
       "  <tbody>\n",
       "    <tr>\n",
       "      <th>259</th>\n",
       "      <td>0.912717</td>\n",
       "      <td>0.069663</td>\n",
       "      <td>0.220258</td>\n",
       "      <td>-1.328556</td>\n",
       "      <td>-1.208823</td>\n",
       "    </tr>\n",
       "    <tr>\n",
       "      <th>278</th>\n",
       "      <td>-0.413300</td>\n",
       "      <td>-0.650682</td>\n",
       "      <td>1.870193</td>\n",
       "      <td>-0.890002</td>\n",
       "      <td>0.931926</td>\n",
       "    </tr>\n",
       "    <tr>\n",
       "      <th>317</th>\n",
       "      <td>-0.427001</td>\n",
       "      <td>-0.036580</td>\n",
       "      <td>-0.069012</td>\n",
       "      <td>-1.376936</td>\n",
       "      <td>-1.299904</td>\n",
       "    </tr>\n",
       "    <tr>\n",
       "      <th>208</th>\n",
       "      <td>1.328682</td>\n",
       "      <td>1.035354</td>\n",
       "      <td>0.265787</td>\n",
       "      <td>0.882302</td>\n",
       "      <td>-0.537333</td>\n",
       "    </tr>\n",
       "    <tr>\n",
       "      <th>54</th>\n",
       "      <td>-0.832856</td>\n",
       "      <td>0.295472</td>\n",
       "      <td>-1.205917</td>\n",
       "      <td>0.083458</td>\n",
       "      <td>1.093886</td>\n",
       "    </tr>\n",
       "    <tr>\n",
       "      <th>...</th>\n",
       "      <td>...</td>\n",
       "      <td>...</td>\n",
       "      <td>...</td>\n",
       "      <td>...</td>\n",
       "      <td>...</td>\n",
       "    </tr>\n",
       "    <tr>\n",
       "      <th>132</th>\n",
       "      <td>-0.498183</td>\n",
       "      <td>0.325407</td>\n",
       "      <td>1.095575</td>\n",
       "      <td>0.756125</td>\n",
       "      <td>0.120969</td>\n",
       "    </tr>\n",
       "    <tr>\n",
       "      <th>49</th>\n",
       "      <td>-0.545419</td>\n",
       "      <td>-0.685773</td>\n",
       "      <td>0.997481</td>\n",
       "      <td>-1.284796</td>\n",
       "      <td>-1.032659</td>\n",
       "    </tr>\n",
       "    <tr>\n",
       "      <th>52</th>\n",
       "      <td>0.178796</td>\n",
       "      <td>0.234982</td>\n",
       "      <td>2.695245</td>\n",
       "      <td>0.116946</td>\n",
       "      <td>-0.894148</td>\n",
       "    </tr>\n",
       "    <tr>\n",
       "      <th>74</th>\n",
       "      <td>-0.069259</td>\n",
       "      <td>0.597770</td>\n",
       "      <td>-0.428445</td>\n",
       "      <td>-1.033485</td>\n",
       "      <td>0.619749</td>\n",
       "    </tr>\n",
       "    <tr>\n",
       "      <th>26</th>\n",
       "      <td>-0.137103</td>\n",
       "      <td>-2.598230</td>\n",
       "      <td>0.001560</td>\n",
       "      <td>1.718841</td>\n",
       "      <td>-0.591201</td>\n",
       "    </tr>\n",
       "  </tbody>\n",
       "</table>\n",
       "<p>88 rows × 5 columns</p>\n",
       "</div>"
      ],
      "text/plain": [
       "           x1        x2        x3        x4        x5\n",
       "259  0.912717  0.069663  0.220258 -1.328556 -1.208823\n",
       "278 -0.413300 -0.650682  1.870193 -0.890002  0.931926\n",
       "317 -0.427001 -0.036580 -0.069012 -1.376936 -1.299904\n",
       "208  1.328682  1.035354  0.265787  0.882302 -0.537333\n",
       "54  -0.832856  0.295472 -1.205917  0.083458  1.093886\n",
       "..        ...       ...       ...       ...       ...\n",
       "132 -0.498183  0.325407  1.095575  0.756125  0.120969\n",
       "49  -0.545419 -0.685773  0.997481 -1.284796 -1.032659\n",
       "52   0.178796  0.234982  2.695245  0.116946 -0.894148\n",
       "74  -0.069259  0.597770 -0.428445 -1.033485  0.619749\n",
       "26  -0.137103 -2.598230  0.001560  1.718841 -0.591201\n",
       "\n",
       "[88 rows x 5 columns]"
      ]
     },
     "execution_count": 80,
     "metadata": {},
     "output_type": "execute_result"
    }
   ],
   "source": [
    "x_test"
   ]
  },
  {
   "cell_type": "code",
   "execution_count": 81,
   "id": "41c45e89",
   "metadata": {},
   "outputs": [
    {
     "data": {
      "text/html": [
       "<div>\n",
       "<style scoped>\n",
       "    .dataframe tbody tr th:only-of-type {\n",
       "        vertical-align: middle;\n",
       "    }\n",
       "\n",
       "    .dataframe tbody tr th {\n",
       "        vertical-align: top;\n",
       "    }\n",
       "\n",
       "    .dataframe thead th {\n",
       "        text-align: right;\n",
       "    }\n",
       "</style>\n",
       "<table border=\"1\" class=\"dataframe\">\n",
       "  <thead>\n",
       "    <tr style=\"text-align: right;\">\n",
       "      <th></th>\n",
       "      <th>x1</th>\n",
       "      <th>x2</th>\n",
       "      <th>x3</th>\n",
       "      <th>x4</th>\n",
       "      <th>x5</th>\n",
       "    </tr>\n",
       "  </thead>\n",
       "  <tbody>\n",
       "    <tr>\n",
       "      <th>45</th>\n",
       "      <td>0.629444</td>\n",
       "      <td>0.608499</td>\n",
       "      <td>1.084646</td>\n",
       "      <td>0.596746</td>\n",
       "      <td>0.842438</td>\n",
       "    </tr>\n",
       "    <tr>\n",
       "      <th>263</th>\n",
       "      <td>-2.047409</td>\n",
       "      <td>-0.711140</td>\n",
       "      <td>0.891841</td>\n",
       "      <td>-0.364689</td>\n",
       "      <td>1.357433</td>\n",
       "    </tr>\n",
       "    <tr>\n",
       "      <th>4</th>\n",
       "      <td>1.060144</td>\n",
       "      <td>-1.086193</td>\n",
       "      <td>-1.251762</td>\n",
       "      <td>-0.571059</td>\n",
       "      <td>-0.107315</td>\n",
       "    </tr>\n",
       "    <tr>\n",
       "      <th>235</th>\n",
       "      <td>0.102227</td>\n",
       "      <td>0.065656</td>\n",
       "      <td>-2.791713</td>\n",
       "      <td>-1.244295</td>\n",
       "      <td>-0.378302</td>\n",
       "    </tr>\n",
       "    <tr>\n",
       "      <th>221</th>\n",
       "      <td>-0.399637</td>\n",
       "      <td>0.601875</td>\n",
       "      <td>0.166467</td>\n",
       "      <td>-0.002985</td>\n",
       "      <td>0.628878</td>\n",
       "    </tr>\n",
       "    <tr>\n",
       "      <th>...</th>\n",
       "      <td>...</td>\n",
       "      <td>...</td>\n",
       "      <td>...</td>\n",
       "      <td>...</td>\n",
       "      <td>...</td>\n",
       "    </tr>\n",
       "    <tr>\n",
       "      <th>323</th>\n",
       "      <td>-0.115541</td>\n",
       "      <td>-0.891207</td>\n",
       "      <td>0.041696</td>\n",
       "      <td>0.657676</td>\n",
       "      <td>0.526878</td>\n",
       "    </tr>\n",
       "    <tr>\n",
       "      <th>192</th>\n",
       "      <td>1.068260</td>\n",
       "      <td>0.532711</td>\n",
       "      <td>0.184528</td>\n",
       "      <td>-0.174067</td>\n",
       "      <td>0.115630</td>\n",
       "    </tr>\n",
       "    <tr>\n",
       "      <th>117</th>\n",
       "      <td>-0.346477</td>\n",
       "      <td>1.520950</td>\n",
       "      <td>1.042326</td>\n",
       "      <td>0.641008</td>\n",
       "      <td>1.528409</td>\n",
       "    </tr>\n",
       "    <tr>\n",
       "      <th>47</th>\n",
       "      <td>-0.468302</td>\n",
       "      <td>0.261999</td>\n",
       "      <td>-1.636097</td>\n",
       "      <td>-0.486011</td>\n",
       "      <td>-2.106312</td>\n",
       "    </tr>\n",
       "    <tr>\n",
       "      <th>172</th>\n",
       "      <td>-1.395561</td>\n",
       "      <td>0.731481</td>\n",
       "      <td>0.272857</td>\n",
       "      <td>0.650596</td>\n",
       "      <td>0.437233</td>\n",
       "    </tr>\n",
       "  </tbody>\n",
       "</table>\n",
       "<p>349 rows × 5 columns</p>\n",
       "</div>"
      ],
      "text/plain": [
       "           x1        x2        x3        x4        x5\n",
       "45   0.629444  0.608499  1.084646  0.596746  0.842438\n",
       "263 -2.047409 -0.711140  0.891841 -0.364689  1.357433\n",
       "4    1.060144 -1.086193 -1.251762 -0.571059 -0.107315\n",
       "235  0.102227  0.065656 -2.791713 -1.244295 -0.378302\n",
       "221 -0.399637  0.601875  0.166467 -0.002985  0.628878\n",
       "..        ...       ...       ...       ...       ...\n",
       "323 -0.115541 -0.891207  0.041696  0.657676  0.526878\n",
       "192  1.068260  0.532711  0.184528 -0.174067  0.115630\n",
       "117 -0.346477  1.520950  1.042326  0.641008  1.528409\n",
       "47  -0.468302  0.261999 -1.636097 -0.486011 -2.106312\n",
       "172 -1.395561  0.731481  0.272857  0.650596  0.437233\n",
       "\n",
       "[349 rows x 5 columns]"
      ]
     },
     "execution_count": 81,
     "metadata": {},
     "output_type": "execute_result"
    }
   ],
   "source": [
    "x_train"
   ]
  },
  {
   "cell_type": "code",
   "execution_count": 82,
   "id": "de5e3e14",
   "metadata": {},
   "outputs": [
    {
     "data": {
      "text/html": [
       "<div>\n",
       "<style scoped>\n",
       "    .dataframe tbody tr th:only-of-type {\n",
       "        vertical-align: middle;\n",
       "    }\n",
       "\n",
       "    .dataframe tbody tr th {\n",
       "        vertical-align: top;\n",
       "    }\n",
       "\n",
       "    .dataframe thead th {\n",
       "        text-align: right;\n",
       "    }\n",
       "</style>\n",
       "<table border=\"1\" class=\"dataframe\">\n",
       "  <thead>\n",
       "    <tr style=\"text-align: right;\">\n",
       "      <th></th>\n",
       "      <th>y</th>\n",
       "    </tr>\n",
       "  </thead>\n",
       "  <tbody>\n",
       "    <tr>\n",
       "      <th>259</th>\n",
       "      <td>-73.536590</td>\n",
       "    </tr>\n",
       "    <tr>\n",
       "      <th>278</th>\n",
       "      <td>-39.112744</td>\n",
       "    </tr>\n",
       "    <tr>\n",
       "      <th>317</th>\n",
       "      <td>-196.387389</td>\n",
       "    </tr>\n",
       "    <tr>\n",
       "      <th>208</th>\n",
       "      <td>232.787211</td>\n",
       "    </tr>\n",
       "    <tr>\n",
       "      <th>54</th>\n",
       "      <td>-55.314879</td>\n",
       "    </tr>\n",
       "    <tr>\n",
       "      <th>...</th>\n",
       "      <td>...</td>\n",
       "    </tr>\n",
       "    <tr>\n",
       "      <th>132</th>\n",
       "      <td>82.731321</td>\n",
       "    </tr>\n",
       "    <tr>\n",
       "      <th>49</th>\n",
       "      <td>-217.207459</td>\n",
       "    </tr>\n",
       "    <tr>\n",
       "      <th>52</th>\n",
       "      <td>92.839634</td>\n",
       "    </tr>\n",
       "    <tr>\n",
       "      <th>74</th>\n",
       "      <td>-67.910420</td>\n",
       "    </tr>\n",
       "    <tr>\n",
       "      <th>26</th>\n",
       "      <td>-20.899819</td>\n",
       "    </tr>\n",
       "  </tbody>\n",
       "</table>\n",
       "<p>88 rows × 1 columns</p>\n",
       "</div>"
      ],
      "text/plain": [
       "              y\n",
       "259  -73.536590\n",
       "278  -39.112744\n",
       "317 -196.387389\n",
       "208  232.787211\n",
       "54   -55.314879\n",
       "..          ...\n",
       "132   82.731321\n",
       "49  -217.207459\n",
       "52    92.839634\n",
       "74   -67.910420\n",
       "26   -20.899819\n",
       "\n",
       "[88 rows x 1 columns]"
      ]
     },
     "execution_count": 82,
     "metadata": {},
     "output_type": "execute_result"
    }
   ],
   "source": [
    "y_test"
   ]
  },
  {
   "cell_type": "code",
   "execution_count": 83,
   "id": "f93c1ef9",
   "metadata": {},
   "outputs": [
    {
     "data": {
      "text/html": [
       "<div>\n",
       "<style scoped>\n",
       "    .dataframe tbody tr th:only-of-type {\n",
       "        vertical-align: middle;\n",
       "    }\n",
       "\n",
       "    .dataframe tbody tr th {\n",
       "        vertical-align: top;\n",
       "    }\n",
       "\n",
       "    .dataframe thead th {\n",
       "        text-align: right;\n",
       "    }\n",
       "</style>\n",
       "<table border=\"1\" class=\"dataframe\">\n",
       "  <thead>\n",
       "    <tr style=\"text-align: right;\">\n",
       "      <th></th>\n",
       "      <th>y</th>\n",
       "    </tr>\n",
       "  </thead>\n",
       "  <tbody>\n",
       "    <tr>\n",
       "      <th>45</th>\n",
       "      <td>208.808271</td>\n",
       "    </tr>\n",
       "    <tr>\n",
       "      <th>263</th>\n",
       "      <td>-169.839823</td>\n",
       "    </tr>\n",
       "    <tr>\n",
       "      <th>4</th>\n",
       "      <td>-44.044335</td>\n",
       "    </tr>\n",
       "    <tr>\n",
       "      <th>235</th>\n",
       "      <td>-206.233361</td>\n",
       "    </tr>\n",
       "    <tr>\n",
       "      <th>221</th>\n",
       "      <td>20.495820</td>\n",
       "    </tr>\n",
       "    <tr>\n",
       "      <th>...</th>\n",
       "      <td>...</td>\n",
       "    </tr>\n",
       "    <tr>\n",
       "      <th>323</th>\n",
       "      <td>33.566776</td>\n",
       "    </tr>\n",
       "    <tr>\n",
       "      <th>192</th>\n",
       "      <td>127.816326</td>\n",
       "    </tr>\n",
       "    <tr>\n",
       "      <th>117</th>\n",
       "      <td>205.241433</td>\n",
       "    </tr>\n",
       "    <tr>\n",
       "      <th>47</th>\n",
       "      <td>-203.594376</td>\n",
       "    </tr>\n",
       "    <tr>\n",
       "      <th>172</th>\n",
       "      <td>1.424775</td>\n",
       "    </tr>\n",
       "  </tbody>\n",
       "</table>\n",
       "<p>349 rows × 1 columns</p>\n",
       "</div>"
      ],
      "text/plain": [
       "              y\n",
       "45   208.808271\n",
       "263 -169.839823\n",
       "4    -44.044335\n",
       "235 -206.233361\n",
       "221   20.495820\n",
       "..          ...\n",
       "323   33.566776\n",
       "192  127.816326\n",
       "117  205.241433\n",
       "47  -203.594376\n",
       "172    1.424775\n",
       "\n",
       "[349 rows x 1 columns]"
      ]
     },
     "execution_count": 83,
     "metadata": {},
     "output_type": "execute_result"
    }
   ],
   "source": [
    "y_train"
   ]
  },
  {
   "cell_type": "markdown",
   "id": "9c163d62",
   "metadata": {},
   "source": [
    "## 5. Для целевой и каждого из признаков постройте парную регрессионную модель. Визуализируйте линию регрессии и исходные данные на графике. При помощи коэффициентов оцените силу связи."
   ]
  },
  {
   "cell_type": "code",
   "execution_count": 87,
   "id": "f40ae9de",
   "metadata": {},
   "outputs": [],
   "source": [
    "def regression(arg_train, arg_test, goal_train, goal_test):\n",
    "    # Создание модели\n",
    "    trained_model = LinearRegression() \n",
    "    # Обучение на тренировочном наборе\n",
    "    trained_model.fit(arg_train.values.reshape(-1,1), goal_train.values)\n",
    "    # Расчёт значений для тестовом наборе\n",
    "    y_predict = trained_model.predict(arg_test.values.reshape((-1,1)))\n",
    "    \n",
    "    # График\n",
    "    plt.title(f'Регрессия для признака {arg_train.name}')\n",
    "    plt.xlabel(f'{arg_train.name}')\n",
    "    plt.ylabel('y')\n",
    "    plt.plot(arg_test, y_predict, color='red')\n",
    "    plt.scatter(arg_test, goal_test, color='black')\n",
    "    plt.grid()\n",
    "    # Score\n",
    "    print(f\"Score: {trained_model.score(arg_train.values.reshape(-1, 1), goal_train.values)}\")\n",
    "    \n",
    "    #MSE\n",
    "    print(f\"MSE: {metrics.mean_squared_error(goal_test, y_predict)}\")\n",
    "    "
   ]
  },
  {
   "cell_type": "code",
   "execution_count": 88,
   "id": "97c54f17",
   "metadata": {},
   "outputs": [
    {
     "name": "stdout",
     "output_type": "stream",
     "text": [
      "Score: 0.35287598787374386\n",
      "MSE: 12879.760247537326\n"
     ]
    },
    {
     "data": {
      "image/png": "[encoded data removed]",
      "text/plain": [
       "<Figure size 640x480 with 1 Axes>"
      ]
     },
     "metadata": {},
     "output_type": "display_data"
    }
   ],
   "source": [
    "regression(x_train[\"x1\"], x_test[\"x1\"], y_train, y_test)"
   ]
  },
  {
   "cell_type": "code",
   "execution_count": 89,
   "id": "d161e76d",
   "metadata": {},
   "outputs": [
    {
     "name": "stdout",
     "output_type": "stream",
     "text": [
      "Score: 0.10808022124991934\n",
      "MSE: 15074.281099750597\n"
     ]
    },
    {
     "data": {
      "image/png": "[encoded data removed]",
      "text/plain": [
       "<Figure size 640x480 with 1 Axes>"
      ]
     },
     "metadata": {},
     "output_type": "display_data"
    }
   ],
   "source": [
    "regression(x_train[\"x2\"], x_test[\"x2\"], y_train, y_test)"
   ]
  },
  {
   "cell_type": "code",
   "execution_count": 90,
   "id": "b8d33c79",
   "metadata": {},
   "outputs": [
    {
     "name": "stdout",
     "output_type": "stream",
     "text": [
      "Score: 0.026399290980424928\n",
      "MSE: 16791.8457069244\n"
     ]
    },
    {
     "data": {
      "image/png": "[encoded data removed]",
      "text/plain": [
       "<Figure size 640x480 with 1 Axes>"
      ]
     },
     "metadata": {},
     "output_type": "display_data"
    }
   ],
   "source": [
    "regression(x_train[\"x3\"], x_test[\"x3\"], y_train, y_test)"
   ]
  },
  {
   "cell_type": "code",
   "execution_count": 91,
   "id": "a5872487",
   "metadata": {},
   "outputs": [
    {
     "name": "stdout",
     "output_type": "stream",
     "text": [
      "Score: 0.43670467696630333\n",
      "MSE: 8785.262749356481\n"
     ]
    },
    {
     "data": {
      "image/png": "[encoded data removed]",
      "text/plain": [
       "<Figure size 640x480 with 1 Axes>"
      ]
     },
     "metadata": {},
     "output_type": "display_data"
    }
   ],
   "source": [
    "regression(x_train[\"x4\"], x_test[\"x4\"], y_train, y_test)"
   ]
  },
  {
   "cell_type": "code",
   "execution_count": 92,
   "id": "88a311ba",
   "metadata": {},
   "outputs": [
    {
     "name": "stdout",
     "output_type": "stream",
     "text": [
      "Score: 0.02798381876694156\n",
      "MSE: 16604.62925024427\n"
     ]
    },
    {
     "data": {
      "image/png": "[encoded data removed]",
      "text/plain": [
       "<Figure size 640x480 with 1 Axes>"
      ]
     },
     "metadata": {},
     "output_type": "display_data"
    }
   ],
   "source": [
    "regression(x_train[\"x5\"], x_test[\"x5\"], y_train, y_test)"
   ]
  },
  {
   "cell_type": "markdown",
   "id": "da5200ac",
   "metadata": {},
   "source": [
    "## 6. Постройте модель множественной линейной регрессии целевой переменной от всех показателей. Оцените качество регрессии, сделайте вывод."
   ]
  },
  {
   "cell_type": "code",
   "execution_count": 53,
   "id": "b5e431c8",
   "metadata": {},
   "outputs": [
    {
     "name": "stdout",
     "output_type": "stream",
     "text": [
      "Score for the whole model: 0.9959297210197747\n"
     ]
    }
   ],
   "source": [
    "# Создание модели линейной регрессии\n",
    "whole_model = LinearRegression() \n",
    "# Обучение на тренировочном наборе\n",
    "whole_model.fit(x_train, y_train)\n",
    "# Расчёт значений для тестового набора\n",
    "y_predict = whole_model.predict(x_test)\n",
    "\n",
    "print(f\"Score for the whole model: {whole_model.score(x_train, y_train)}\")"
   ]
  },
  {
   "cell_type": "code",
   "execution_count": 76,
   "id": "2699437b",
   "metadata": {},
   "outputs": [
    {
     "name": "stdout",
     "output_type": "stream",
     "text": [
      "Model: y = 0.81 + 85.96*x1 + 48.06*x2 + 31.94*x3 + 89.15*x4 + 33.47*x5\n"
     ]
    }
   ],
   "source": [
    "coef_list = whole_model.intercept_.tolist() + whole_model.coef_.tolist()[0][:]\n",
    "print(\"Model: y = {:.2f} + {:.2f}*x1 + {:.2f}*x2 + {:.2f}*x3 + {:.2f}*x4 + {:.2f}*x5\".format(*coef_list))\n"
   ]
  },
  {
   "cell_type": "code",
   "execution_count": 78,
   "id": "625dbcbc",
   "metadata": {},
   "outputs": [
    {
     "name": "stdout",
     "output_type": "stream",
     "text": [
      "MSE: 105.8078758293534\n"
     ]
    }
   ],
   "source": [
    "mse = metrics.mean_squared_error(y_test, y_predict)\n",
    "print(\"MSE: {}\".format(mse))"
   ]
  },
  {
   "cell_type": "markdown",
   "id": "1e3e33ba",
   "metadata": {},
   "source": [
    "## Дополнительные задания"
   ]
  },
  {
   "cell_type": "markdown",
   "id": "72e9e833",
   "metadata": {},
   "source": [
    "### 1. Для целевой переменной и каждого из признаков постройте полиномиальную регрессию второго, третьего и десятого порядков. Сделайте вывод о значимости регрессии."
   ]
  },
  {
   "cell_type": "code",
   "execution_count": null,
   "id": "16682d69",
   "metadata": {},
   "outputs": [],
   "source": []
  },
  {
   "cell_type": "markdown",
   "id": "a7287f1b",
   "metadata": {},
   "source": [
    "### 2. Постройте сводную таблицу показателей точности всех построенных моделей по тестовой и обучающей выборке. Сделайте вывод, какие модели переобученнные, какие - недообученные."
   ]
  },
  {
   "cell_type": "code",
   "execution_count": null,
   "id": "59f4bbe4",
   "metadata": {},
   "outputs": [],
   "source": []
  },
  {
   "cell_type": "markdown",
   "id": "04ed9598",
   "metadata": {},
   "source": [
    "### 3. Используйте другие метрики качества регрессионной модели в дополнение к коэффициенту детерминации."
   ]
  },
  {
   "cell_type": "code",
   "execution_count": null,
   "id": "ac35e7f8",
   "metadata": {},
   "outputs": [],
   "source": []
  },
  {
   "cell_type": "markdown",
   "id": "ff24a61a",
   "metadata": {},
   "source": [
    "### 4. (*) Замерьте время обучения на разных объемах данных и количестве признаков. Сделайте вывод о зависимости скорости обучения от объема обучающей выборки."
   ]
  },
  {
   "cell_type": "code",
   "execution_count": null,
   "id": "c76b5357",
   "metadata": {},
   "outputs": [],
   "source": []
  }
 ],
 "metadata": {
  "kernelspec": {
   "display_name": "Python 3 (ipykernel)",
   "language": "python",
   "name": "python3"
  },
  "language_info": {
   "codemirror_mode": {
    "name": "ipython",
    "version": 3
   },
   "file_extension": ".py",
   "mimetype": "text/x-python",
   "name": "python",
   "nbconvert_exporter": "python",
   "pygments_lexer": "ipython3",
   "version": "3.10.0"
  }
 },
 "nbformat": 4,
 "nbformat_minor": 5
}
