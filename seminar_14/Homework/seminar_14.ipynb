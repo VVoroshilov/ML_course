{
 "cells": [
  {
   "cell_type": "markdown",
   "id": "45d9f8bf",
   "metadata": {},
   "source": [
    "# Ворошилов Владислав\n",
    "# ПИ20-3\n"
   ]
  },
  {
   "cell_type": "markdown",
   "id": "eabdaa56",
   "metadata": {},
   "source": [
    "## Семинар 14\n",
    "## Понижение размерности"
   ]
  },
  {
   "cell_type": "code",
   "execution_count": 1,
   "id": "73287521",
   "metadata": {},
   "outputs": [],
   "source": [
    "import matplotlib.pyplot as plt\n",
    "import seaborn as sns; sns.set()\n",
    "import numpy as np\n",
    "import pandas as pd\n",
    "from sklearn.ensemble import RandomForestClassifier\n",
    "from sklearn import metrics"
   ]
  },
  {
   "cell_type": "markdown",
   "id": "0b03d4df",
   "metadata": {},
   "source": [
    "## 1.Загрузите прилагающийся датасет credit_data."
   ]
  },
  {
   "cell_type": "code",
   "execution_count": 2,
   "id": "a87381c1",
   "metadata": {
    "scrolled": true
   },
   "outputs": [
    {
     "data": {
      "text/html": [
       "<div>\n",
       "<style scoped>\n",
       "    .dataframe tbody tr th:only-of-type {\n",
       "        vertical-align: middle;\n",
       "    }\n",
       "\n",
       "    .dataframe tbody tr th {\n",
       "        vertical-align: top;\n",
       "    }\n",
       "\n",
       "    .dataframe thead th {\n",
       "        text-align: right;\n",
       "    }\n",
       "</style>\n",
       "<table border=\"1\" class=\"dataframe\">\n",
       "  <thead>\n",
       "    <tr style=\"text-align: right;\">\n",
       "      <th></th>\n",
       "      <th>Age</th>\n",
       "      <th>Sex</th>\n",
       "      <th>Job</th>\n",
       "      <th>Housing</th>\n",
       "      <th>Saving accounts</th>\n",
       "      <th>Checking account</th>\n",
       "      <th>Credit amount</th>\n",
       "      <th>Duration</th>\n",
       "      <th>Purpose</th>\n",
       "      <th>Risk</th>\n",
       "    </tr>\n",
       "  </thead>\n",
       "  <tbody>\n",
       "    <tr>\n",
       "      <th>0</th>\n",
       "      <td>67</td>\n",
       "      <td>male</td>\n",
       "      <td>2</td>\n",
       "      <td>own</td>\n",
       "      <td>NaN</td>\n",
       "      <td>little</td>\n",
       "      <td>1169</td>\n",
       "      <td>6</td>\n",
       "      <td>radio/TV</td>\n",
       "      <td>good</td>\n",
       "    </tr>\n",
       "    <tr>\n",
       "      <th>1</th>\n",
       "      <td>22</td>\n",
       "      <td>female</td>\n",
       "      <td>2</td>\n",
       "      <td>own</td>\n",
       "      <td>little</td>\n",
       "      <td>moderate</td>\n",
       "      <td>5951</td>\n",
       "      <td>48</td>\n",
       "      <td>radio/TV</td>\n",
       "      <td>bad</td>\n",
       "    </tr>\n",
       "    <tr>\n",
       "      <th>2</th>\n",
       "      <td>49</td>\n",
       "      <td>male</td>\n",
       "      <td>1</td>\n",
       "      <td>own</td>\n",
       "      <td>little</td>\n",
       "      <td>NaN</td>\n",
       "      <td>2096</td>\n",
       "      <td>12</td>\n",
       "      <td>education</td>\n",
       "      <td>good</td>\n",
       "    </tr>\n",
       "    <tr>\n",
       "      <th>3</th>\n",
       "      <td>45</td>\n",
       "      <td>male</td>\n",
       "      <td>2</td>\n",
       "      <td>free</td>\n",
       "      <td>little</td>\n",
       "      <td>little</td>\n",
       "      <td>7882</td>\n",
       "      <td>42</td>\n",
       "      <td>furniture/equipment</td>\n",
       "      <td>good</td>\n",
       "    </tr>\n",
       "    <tr>\n",
       "      <th>4</th>\n",
       "      <td>53</td>\n",
       "      <td>male</td>\n",
       "      <td>2</td>\n",
       "      <td>free</td>\n",
       "      <td>little</td>\n",
       "      <td>little</td>\n",
       "      <td>4870</td>\n",
       "      <td>24</td>\n",
       "      <td>car</td>\n",
       "      <td>bad</td>\n",
       "    </tr>\n",
       "  </tbody>\n",
       "</table>\n",
       "</div>"
      ],
      "text/plain": [
       "   Age     Sex  Job Housing Saving accounts Checking account  Credit amount  \\\n",
       "0   67    male    2     own             NaN           little           1169   \n",
       "1   22  female    2     own          little         moderate           5951   \n",
       "2   49    male    1     own          little              NaN           2096   \n",
       "3   45    male    2    free          little           little           7882   \n",
       "4   53    male    2    free          little           little           4870   \n",
       "\n",
       "   Duration              Purpose  Risk  \n",
       "0         6             radio/TV  good  \n",
       "1        48             radio/TV   bad  \n",
       "2        12            education  good  \n",
       "3        42  furniture/equipment  good  \n",
       "4        24                  car   bad  "
      ]
     },
     "execution_count": 2,
     "metadata": {},
     "output_type": "execute_result"
    }
   ],
   "source": [
    "df = pd.read_csv(\"./credit_data.csv\", index_col = 0)\n",
    "df.head(5)"
   ]
  },
  {
   "cell_type": "code",
   "execution_count": 3,
   "id": "a542bc46",
   "metadata": {},
   "outputs": [
    {
     "data": {
      "text/html": [
       "<div>\n",
       "<style scoped>\n",
       "    .dataframe tbody tr th:only-of-type {\n",
       "        vertical-align: middle;\n",
       "    }\n",
       "\n",
       "    .dataframe tbody tr th {\n",
       "        vertical-align: top;\n",
       "    }\n",
       "\n",
       "    .dataframe thead th {\n",
       "        text-align: right;\n",
       "    }\n",
       "</style>\n",
       "<table border=\"1\" class=\"dataframe\">\n",
       "  <thead>\n",
       "    <tr style=\"text-align: right;\">\n",
       "      <th></th>\n",
       "      <th>Age</th>\n",
       "      <th>Sex</th>\n",
       "      <th>Job</th>\n",
       "      <th>Housing</th>\n",
       "      <th>Saving accounts</th>\n",
       "      <th>Checking account</th>\n",
       "      <th>Credit amount</th>\n",
       "      <th>Duration</th>\n",
       "    </tr>\n",
       "  </thead>\n",
       "  <tbody>\n",
       "    <tr>\n",
       "      <th>0</th>\n",
       "      <td>67</td>\n",
       "      <td>male</td>\n",
       "      <td>2</td>\n",
       "      <td>own</td>\n",
       "      <td>NaN</td>\n",
       "      <td>little</td>\n",
       "      <td>1169</td>\n",
       "      <td>6</td>\n",
       "    </tr>\n",
       "    <tr>\n",
       "      <th>1</th>\n",
       "      <td>22</td>\n",
       "      <td>female</td>\n",
       "      <td>2</td>\n",
       "      <td>own</td>\n",
       "      <td>little</td>\n",
       "      <td>moderate</td>\n",
       "      <td>5951</td>\n",
       "      <td>48</td>\n",
       "    </tr>\n",
       "    <tr>\n",
       "      <th>2</th>\n",
       "      <td>49</td>\n",
       "      <td>male</td>\n",
       "      <td>1</td>\n",
       "      <td>own</td>\n",
       "      <td>little</td>\n",
       "      <td>NaN</td>\n",
       "      <td>2096</td>\n",
       "      <td>12</td>\n",
       "    </tr>\n",
       "    <tr>\n",
       "      <th>3</th>\n",
       "      <td>45</td>\n",
       "      <td>male</td>\n",
       "      <td>2</td>\n",
       "      <td>free</td>\n",
       "      <td>little</td>\n",
       "      <td>little</td>\n",
       "      <td>7882</td>\n",
       "      <td>42</td>\n",
       "    </tr>\n",
       "    <tr>\n",
       "      <th>4</th>\n",
       "      <td>53</td>\n",
       "      <td>male</td>\n",
       "      <td>2</td>\n",
       "      <td>free</td>\n",
       "      <td>little</td>\n",
       "      <td>little</td>\n",
       "      <td>4870</td>\n",
       "      <td>24</td>\n",
       "    </tr>\n",
       "  </tbody>\n",
       "</table>\n",
       "</div>"
      ],
      "text/plain": [
       "   Age     Sex  Job Housing Saving accounts Checking account  Credit amount  \\\n",
       "0   67    male    2     own             NaN           little           1169   \n",
       "1   22  female    2     own          little         moderate           5951   \n",
       "2   49    male    1     own          little              NaN           2096   \n",
       "3   45    male    2    free          little           little           7882   \n",
       "4   53    male    2    free          little           little           4870   \n",
       "\n",
       "   Duration  \n",
       "0         6  \n",
       "1        48  \n",
       "2        12  \n",
       "3        42  \n",
       "4        24  "
      ]
     },
     "execution_count": 3,
     "metadata": {},
     "output_type": "execute_result"
    }
   ],
   "source": [
    "target = df['Risk']\n",
    "df = df.drop(['Risk', 'Purpose'], axis=1)\n",
    "df.head(5)"
   ]
  },
  {
   "cell_type": "markdown",
   "id": "03b8afb2",
   "metadata": {},
   "source": [
    "## 2. Проверьте датасет на наличие текстовых атрибутов. Замените текстовые атрибуты на числовые без потери качества данных."
   ]
  },
  {
   "cell_type": "code",
   "execution_count": 4,
   "id": "070f400c",
   "metadata": {},
   "outputs": [
    {
     "data": {
      "text/plain": [
       "Sex                 object\n",
       "Housing             object\n",
       "Saving accounts     object\n",
       "Checking account    object\n",
       "dtype: object"
      ]
     },
     "execution_count": 4,
     "metadata": {},
     "output_type": "execute_result"
    }
   ],
   "source": [
    "df.dtypes[df.dtypes == \"object\"]"
   ]
  },
  {
   "cell_type": "code",
   "execution_count": 5,
   "id": "26a1d434",
   "metadata": {},
   "outputs": [
    {
     "name": "stdout",
     "output_type": "stream",
     "text": [
      "Column: Sex\n",
      "male      690\n",
      "female    310\n",
      "Name: Sex, dtype: int64\n",
      "----------\n",
      "Column: Housing\n",
      "own     713\n",
      "rent    179\n",
      "free    108\n",
      "Name: Housing, dtype: int64\n",
      "----------\n",
      "Column: Saving accounts\n",
      "little        603\n",
      "moderate      103\n",
      "quite rich     63\n",
      "rich           48\n",
      "Name: Saving accounts, dtype: int64\n",
      "----------\n",
      "Column: Checking account\n",
      "little      274\n",
      "moderate    269\n",
      "rich         63\n",
      "Name: Checking account, dtype: int64\n",
      "----------\n"
     ]
    }
   ],
   "source": [
    "for col in df.dtypes[df.dtypes == \"object\"].keys():\n",
    "    print(f\"Column: {col}\")\n",
    "    print(df[col].value_counts())\n",
    "    print(\"-\"*10)"
   ]
  },
  {
   "cell_type": "code",
   "execution_count": 6,
   "id": "ce7deba1",
   "metadata": {},
   "outputs": [],
   "source": [
    "# # Способ, предложенный автором\n",
    "# df['Saving accounts'] = df['Saving accounts'].map({\"little\":1,\"moderate\":2,\"quite rich\":3 ,\"rich\":4 });\n",
    "# df['Checking account'] = df['Checking account'].map({\"little\":1,\"moderate\":2,\"rich\":3 });\n",
    "# target = target.map({\"good\":1,\"bad\":0});\n",
    "# df['Saving accounts'] = df['Saving accounts'].fillna(0)\n",
    "# df['Checking account'] = df['Checking account'].fillna(0)\n",
    "# df = pd.get_dummies(df)\n",
    "# df.head()"
   ]
  },
  {
   "cell_type": "markdown",
   "id": "91996de0",
   "metadata": {},
   "source": [
    "### Шкалы столбцов Saving accounts и Checking account являются ординарными, поэтому для их перевода в число будем использовать LabelEncoder\n",
    "### Шкалы остальных столбцов являются номинальными, поэтому будем использовать OneHotEncoder"
   ]
  },
  {
   "cell_type": "markdown",
   "id": "0e9a92ad",
   "metadata": {},
   "source": [
    "#### Saving accounts"
   ]
  },
  {
   "cell_type": "code",
   "execution_count": 7,
   "id": "0ac97dd8",
   "metadata": {},
   "outputs": [
    {
     "data": {
      "text/plain": [
       "little        603\n",
       "moderate      103\n",
       "quite rich     63\n",
       "rich           48\n",
       "Name: Saving accounts, dtype: int64"
      ]
     },
     "execution_count": 7,
     "metadata": {},
     "output_type": "execute_result"
    }
   ],
   "source": [
    "df[\"Saving accounts\"].value_counts()"
   ]
  },
  {
   "cell_type": "code",
   "execution_count": 8,
   "id": "0d9535db",
   "metadata": {
    "scrolled": true
   },
   "outputs": [],
   "source": [
    "df[\"Saving accounts\"] = df[\"Saving accounts\"].fillna(\"Nan\")"
   ]
  },
  {
   "cell_type": "code",
   "execution_count": 9,
   "id": "7306e708",
   "metadata": {},
   "outputs": [],
   "source": [
    "from sklearn.preprocessing import LabelEncoder\n",
    "le = LabelEncoder()\n",
    "df[\"Saving accounts\"] = le.fit_transform(df[\"Saving accounts\"].values)"
   ]
  },
  {
   "cell_type": "code",
   "execution_count": 10,
   "id": "c179eb24",
   "metadata": {},
   "outputs": [
    {
     "data": {
      "text/html": [
       "<div>\n",
       "<style scoped>\n",
       "    .dataframe tbody tr th:only-of-type {\n",
       "        vertical-align: middle;\n",
       "    }\n",
       "\n",
       "    .dataframe tbody tr th {\n",
       "        vertical-align: top;\n",
       "    }\n",
       "\n",
       "    .dataframe thead th {\n",
       "        text-align: right;\n",
       "    }\n",
       "</style>\n",
       "<table border=\"1\" class=\"dataframe\">\n",
       "  <thead>\n",
       "    <tr style=\"text-align: right;\">\n",
       "      <th></th>\n",
       "      <th>Text value</th>\n",
       "      <th>Numeric value</th>\n",
       "    </tr>\n",
       "  </thead>\n",
       "  <tbody>\n",
       "    <tr>\n",
       "      <th>0</th>\n",
       "      <td>Nan</td>\n",
       "      <td>0</td>\n",
       "    </tr>\n",
       "    <tr>\n",
       "      <th>1</th>\n",
       "      <td>little</td>\n",
       "      <td>1</td>\n",
       "    </tr>\n",
       "    <tr>\n",
       "      <th>2</th>\n",
       "      <td>moderate</td>\n",
       "      <td>2</td>\n",
       "    </tr>\n",
       "    <tr>\n",
       "      <th>3</th>\n",
       "      <td>quite rich</td>\n",
       "      <td>3</td>\n",
       "    </tr>\n",
       "    <tr>\n",
       "      <th>4</th>\n",
       "      <td>rich</td>\n",
       "      <td>4</td>\n",
       "    </tr>\n",
       "  </tbody>\n",
       "</table>\n",
       "</div>"
      ],
      "text/plain": [
       "   Text value  Numeric value\n",
       "0         Nan              0\n",
       "1      little              1\n",
       "2    moderate              2\n",
       "3  quite rich              3\n",
       "4        rich              4"
      ]
     },
     "execution_count": 10,
     "metadata": {},
     "output_type": "execute_result"
    }
   ],
   "source": [
    "pd.DataFrame({\"Text value\": le.classes_, \"Numeric value\": le.transform(le.classes_)})"
   ]
  },
  {
   "cell_type": "markdown",
   "id": "9b5e837d",
   "metadata": {},
   "source": [
    "#### Checking account"
   ]
  },
  {
   "cell_type": "code",
   "execution_count": 11,
   "id": "f45a0ace",
   "metadata": {},
   "outputs": [
    {
     "data": {
      "text/plain": [
       "little      274\n",
       "moderate    269\n",
       "rich         63\n",
       "Name: Checking account, dtype: int64"
      ]
     },
     "execution_count": 11,
     "metadata": {},
     "output_type": "execute_result"
    }
   ],
   "source": [
    "df[\"Checking account\"].value_counts()"
   ]
  },
  {
   "cell_type": "code",
   "execution_count": 12,
   "id": "7610d7c4",
   "metadata": {},
   "outputs": [],
   "source": [
    "df[\"Checking account\"] = df[\"Checking account\"].fillna(\"NaN\")"
   ]
  },
  {
   "cell_type": "code",
   "execution_count": 13,
   "id": "32718fc8",
   "metadata": {},
   "outputs": [
    {
     "data": {
      "text/html": [
       "<div>\n",
       "<style scoped>\n",
       "    .dataframe tbody tr th:only-of-type {\n",
       "        vertical-align: middle;\n",
       "    }\n",
       "\n",
       "    .dataframe tbody tr th {\n",
       "        vertical-align: top;\n",
       "    }\n",
       "\n",
       "    .dataframe thead th {\n",
       "        text-align: right;\n",
       "    }\n",
       "</style>\n",
       "<table border=\"1\" class=\"dataframe\">\n",
       "  <thead>\n",
       "    <tr style=\"text-align: right;\">\n",
       "      <th></th>\n",
       "      <th>Text value</th>\n",
       "      <th>Numeric value</th>\n",
       "    </tr>\n",
       "  </thead>\n",
       "  <tbody>\n",
       "    <tr>\n",
       "      <th>0</th>\n",
       "      <td>NaN</td>\n",
       "      <td>0</td>\n",
       "    </tr>\n",
       "    <tr>\n",
       "      <th>1</th>\n",
       "      <td>little</td>\n",
       "      <td>1</td>\n",
       "    </tr>\n",
       "    <tr>\n",
       "      <th>2</th>\n",
       "      <td>moderate</td>\n",
       "      <td>2</td>\n",
       "    </tr>\n",
       "    <tr>\n",
       "      <th>3</th>\n",
       "      <td>rich</td>\n",
       "      <td>3</td>\n",
       "    </tr>\n",
       "  </tbody>\n",
       "</table>\n",
       "</div>"
      ],
      "text/plain": [
       "  Text value  Numeric value\n",
       "0        NaN              0\n",
       "1     little              1\n",
       "2   moderate              2\n",
       "3       rich              3"
      ]
     },
     "execution_count": 13,
     "metadata": {},
     "output_type": "execute_result"
    }
   ],
   "source": [
    "le = LabelEncoder()\n",
    "df[\"Checking account\"] = le.fit_transform(df[\"Checking account\"].values)\n",
    "pd.DataFrame({\"Text value\": le.classes_, \"Numeric value\": le.transform(le.classes_)})"
   ]
  },
  {
   "cell_type": "markdown",
   "id": "6f842d90",
   "metadata": {},
   "source": [
    "#### Остальные столбцы"
   ]
  },
  {
   "cell_type": "code",
   "execution_count": 14,
   "id": "5153c824",
   "metadata": {},
   "outputs": [
    {
     "data": {
      "text/plain": [
       "Age                 int64\n",
       "Job                 int64\n",
       "Saving accounts     int64\n",
       "Checking account    int64\n",
       "Credit amount       int64\n",
       "Duration            int64\n",
       "Sex_female          uint8\n",
       "Sex_male            uint8\n",
       "Housing_free        uint8\n",
       "Housing_own         uint8\n",
       "Housing_rent        uint8\n",
       "dtype: object"
      ]
     },
     "execution_count": 14,
     "metadata": {},
     "output_type": "execute_result"
    }
   ],
   "source": [
    "df = pd.get_dummies(data=df, columns=df.dtypes[df.dtypes == \"object\"].keys())\n",
    "df.dtypes"
   ]
  },
  {
   "cell_type": "markdown",
   "id": "f8e0efe0",
   "metadata": {},
   "source": [
    "#### Целевой столбец"
   ]
  },
  {
   "cell_type": "code",
   "execution_count": 15,
   "id": "107ea529",
   "metadata": {},
   "outputs": [],
   "source": [
    "target = target = target.map({\"good\":1,\"bad\":0})"
   ]
  },
  {
   "cell_type": "markdown",
   "id": "560abdb1",
   "metadata": {},
   "source": [
    "## 3. Выведите информацию о количественных параметрах датасета."
   ]
  },
  {
   "cell_type": "code",
   "execution_count": 16,
   "id": "2ce1e8b4",
   "metadata": {},
   "outputs": [
    {
     "name": "stdout",
     "output_type": "stream",
     "text": [
      "Датасет имеет\n",
      "Строк: 1000\n",
      "Столбцов: 11\n"
     ]
    }
   ],
   "source": [
    "print(f\"Датасет имеет\\nСтрок: {df.shape[0]}\\nСтолбцов: {df.shape[1]}\")"
   ]
  },
  {
   "cell_type": "markdown",
   "id": "b3048100",
   "metadata": {},
   "source": [
    "## 4. Разделите эти данные на тестовую и обучающую выборки"
   ]
  },
  {
   "cell_type": "code",
   "execution_count": 17,
   "id": "eddb2906",
   "metadata": {},
   "outputs": [],
   "source": [
    "from sklearn.model_selection import train_test_split\n",
    "X_train, X_test, y_train, y_test = train_test_split(df, target, test_size=0.2, random_state=0)"
   ]
  },
  {
   "cell_type": "code",
   "execution_count": 18,
   "id": "51d9a831",
   "metadata": {},
   "outputs": [],
   "source": [
    "from sklearn.preprocessing import StandardScaler\n",
    "\n",
    "sc = StandardScaler()\n",
    "X_train = sc.fit_transform(X_train)\n",
    "X_test = sc.transform(X_test)"
   ]
  },
  {
   "cell_type": "markdown",
   "id": "47545b4f",
   "metadata": {},
   "source": [
    "## 5. Обучите модель случайных лесов на обучающей выборке. Проверьте точность предсказаний."
   ]
  },
  {
   "cell_type": "code",
   "execution_count": 19,
   "id": "8e67dd7d",
   "metadata": {},
   "outputs": [],
   "source": [
    "rf = RandomForestClassifier(max_depth=2, random_state=0)\n",
    "rf.fit(X_train, y_train)\n",
    "\n",
    "y_pred = rf.predict(X_test)"
   ]
  },
  {
   "cell_type": "markdown",
   "id": "91341db5",
   "metadata": {},
   "source": [
    "## 6. Оцените полученную модель с помощью метрик."
   ]
  },
  {
   "cell_type": "code",
   "execution_count": 20,
   "id": "5855e5b7",
   "metadata": {},
   "outputs": [
    {
     "name": "stdout",
     "output_type": "stream",
     "text": [
      "              precision    recall  f1-score   support\n",
      "\n",
      "           0       0.75      0.05      0.10        58\n",
      "           1       0.72      0.99      0.83       142\n",
      "\n",
      "    accuracy                           0.72       200\n",
      "   macro avg       0.73      0.52      0.47       200\n",
      "weighted avg       0.73      0.72      0.62       200\n",
      "\n"
     ]
    }
   ],
   "source": [
    "from sklearn.metrics import confusion_matrix\n",
    "from sklearn.metrics import classification_report\n",
    "\n",
    "print(classification_report(y_test, y_pred))"
   ]
  },
  {
   "cell_type": "code",
   "execution_count": 21,
   "id": "bf815b1d",
   "metadata": {},
   "outputs": [
    {
     "data": {
      "text/plain": [
       "Text(0.5, 22.249999999999993, 'Предсказанные значения')"
      ]
     },
     "execution_count": 21,
     "metadata": {},
     "output_type": "execute_result"
    },
    {
     "data": {
      "image/png": "[encoded data removed]",
      "text/plain": [
       "<Figure size 500x500 with 2 Axes>"
      ]
     },
     "metadata": {},
     "output_type": "display_data"
    }
   ],
   "source": [
    "fig, ax = plt.subplots(figsize=(5, 5))\n",
    "sns.heatmap(pd.DataFrame(\n",
    "    confusion_matrix(y_test, y_pred)),\n",
    "    annot=True,\n",
    "    cmap=sns.color_palette(\"YlOrRd\", as_cmap=True)\n",
    ")\n",
    "plt.ylabel('Действительные значения')\n",
    "plt.xlabel('Предсказанные значения')"
   ]
  },
  {
   "cell_type": "markdown",
   "id": "065c9616",
   "metadata": {},
   "source": [
    "## 7. Понизьте размерность данных с помощью метода главных компонент."
   ]
  },
  {
   "cell_type": "code",
   "execution_count": 22,
   "id": "6ed4a5d7",
   "metadata": {},
   "outputs": [],
   "source": [
    "from sklearn.decomposition import PCA\n",
    "\n",
    "pca_1 = PCA(n_components=1)\n",
    "X_train_c1 = pca_1.fit_transform(X_train)\n",
    "X_test_c1 = pca_1.transform(X_test)"
   ]
  },
  {
   "cell_type": "markdown",
   "id": "ddf957b8",
   "metadata": {},
   "source": [
    "## 8. Обучите заново модель случайных лесов и оцените ее эффективность с помощью метрик."
   ]
  },
  {
   "cell_type": "code",
   "execution_count": 23,
   "id": "628fe327",
   "metadata": {},
   "outputs": [],
   "source": [
    "rf = RandomForestClassifier(max_depth=2, random_state=0)\n",
    "rf.fit(X_train_c1, y_train)\n",
    "\n",
    "y_pred = rf.predict(X_test_c1)"
   ]
  },
  {
   "cell_type": "code",
   "execution_count": 24,
   "id": "b250d97e",
   "metadata": {},
   "outputs": [
    {
     "name": "stdout",
     "output_type": "stream",
     "text": [
      "              precision    recall  f1-score   support\n",
      "\n",
      "           0       1.00      0.02      0.03        58\n",
      "           1       0.71      1.00      0.83       142\n",
      "\n",
      "    accuracy                           0.71       200\n",
      "   macro avg       0.86      0.51      0.43       200\n",
      "weighted avg       0.80      0.71      0.60       200\n",
      "\n"
     ]
    }
   ],
   "source": [
    "print(classification_report(y_test, y_pred))"
   ]
  },
  {
   "cell_type": "code",
   "execution_count": 25,
   "id": "1da70b2f",
   "metadata": {},
   "outputs": [
    {
     "data": {
      "text/plain": [
       "Text(0.5, 22.249999999999993, 'Предсказанные значения')"
      ]
     },
     "execution_count": 25,
     "metadata": {},
     "output_type": "execute_result"
    },
    {
     "data": {
      "image/png": "[encoded data removed]",
      "text/plain": [
       "<Figure size 500x500 with 2 Axes>"
      ]
     },
     "metadata": {},
     "output_type": "display_data"
    }
   ],
   "source": [
    "fig, ax = plt.subplots(figsize=(5, 5))\n",
    "sns.heatmap(pd.DataFrame(\n",
    "    confusion_matrix(y_test, y_pred)),\n",
    "    annot=True,\n",
    "    cmap=sns.color_palette(\"YlOrRd\", as_cmap=True)\n",
    ")\n",
    "plt.ylabel('Действительные значения')\n",
    "plt.xlabel('Предсказанные значения')"
   ]
  },
  {
   "cell_type": "markdown",
   "id": "f483e01e",
   "metadata": {},
   "source": [
    "## 9. Постройте график зависимости точности модели от размерности данных."
   ]
  },
  {
   "cell_type": "code",
   "execution_count": 37,
   "id": "c18368a8",
   "metadata": {},
   "outputs": [
    {
     "data": {
      "image/png": "[encoded data removed]",
      "text/plain": [
       "<Figure size 640x480 with 1 Axes>"
      ]
     },
     "metadata": {},
     "output_type": "display_data"
    }
   ],
   "source": [
    "from sklearn.metrics import accuracy_score, recall_score, precision_score\n",
    "accuracies = []\n",
    "recalls = []\n",
    "precisions = []\n",
    "for i in range(1, X_train.shape[1]):\n",
    "    pca_temp = PCA(n_components=i)\n",
    "    X_train_ = pca_temp.fit_transform(X_train)\n",
    "    X_test_ = pca_temp.transform(X_test)\n",
    "    temp_model = RandomForestClassifier(max_depth=2, random_state=0)\n",
    "    temp_model.fit(X_train_, y_train)\n",
    "    temp_predict = temp_model.predict(X_test_)\n",
    "    accuracies.append(accuracy_score(y_test, temp_predict))\n",
    "    recalls.append(recall_score(y_test, temp_predict))\n",
    "    precisions.append(precision_score(y_test, temp_predict))\n",
    "\n",
    "\n",
    "plt.plot(range(1, X_train.shape[1]), accuracies, label=\"accuracy\")\n",
    "plt.plot(range(1, X_train.shape[1]), recalls, label=\"recall\")\n",
    "plt.plot(range(1, X_train.shape[1]), precisions, label=\"precision\")\n",
    "plt.xticks(range(1, X_train.shape[1]))\n",
    "plt.title('Accuracy, precision, recall from data dimension')\n",
    "plt.ylabel('accuracy_score')\n",
    "plt.xlabel('n_components')\n",
    "plt.grid(True)\n",
    "plt.legend()\n",
    "\n",
    "plt.show()"
   ]
  },
  {
   "cell_type": "code",
   "execution_count": 38,
   "id": "6979b1f6",
   "metadata": {},
   "outputs": [
    {
     "data": {
      "image/png": "[encoded data removed]",
      "text/plain": [
       "<Figure size 640x480 with 1 Axes>"
      ]
     },
     "metadata": {},
     "output_type": "display_data"
    }
   ],
   "source": [
    "from sklearn.metrics import accuracy_score, recall_score, precision_score, f1_score\n",
    "accuracies = []\n",
    "precisions = []\n",
    "for i in range(1, X_train.shape[1]):\n",
    "    pca_temp = PCA(n_components=i)\n",
    "    X_train_ = pca_temp.fit_transform(X_train)\n",
    "    X_test_ = pca_temp.transform(X_test)\n",
    "    temp_model = RandomForestClassifier(max_depth=2, random_state=0)\n",
    "    temp_model.fit(X_train_, y_train)\n",
    "    temp_predict = temp_model.predict(X_test_)\n",
    "    accuracies.append(accuracy_score(y_test, temp_predict))\n",
    "    precisions.append(precision_score(y_test, temp_predict))\n",
    "\n",
    "\n",
    "plt.plot(range(1, X_train.shape[1]), accuracies, label=\"accuracy\")\n",
    "plt.plot(range(1, X_train.shape[1]), precisions, label=\"precision\")\n",
    "plt.xticks(range(1, X_train.shape[1]))\n",
    "plt.title('Accuracy and precision from data dimension')\n",
    "plt.ylabel('accuracy_score')\n",
    "plt.xlabel('n_components')\n",
    "plt.grid(True)\n",
    "plt.legend()\n",
    "\n",
    "plt.show()"
   ]
  }
 ],
 "metadata": {
  "kernelspec": {
   "display_name": "Python 3 (ipykernel)",
   "language": "python",
   "name": "python3"
  },
  "language_info": {
   "codemirror_mode": {
    "name": "ipython",
    "version": 3
   },
   "file_extension": ".py",
   "mimetype": "text/x-python",
   "name": "python",
   "nbconvert_exporter": "python",
   "pygments_lexer": "ipython3",
   "version": "3.10.0"
  }
 },
 "nbformat": 4,
 "nbformat_minor": 5
}
