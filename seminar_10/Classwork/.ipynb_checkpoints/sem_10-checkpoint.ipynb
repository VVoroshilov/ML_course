{
 "cells": [
  {
   "cell_type": "markdown",
   "id": "d13a5f26",
   "metadata": {},
   "source": [
    "### Семинар 10: ROC-анализ в бинарной классификации."
   ]
  },
  {
   "cell_type": "code",
   "execution_count": 1,
   "id": "a69d6750",
   "metadata": {},
   "outputs": [],
   "source": [
    "import pandas as pd\n",
    "import numpy  as np\n",
    "import matplotlib\n",
    "import matplotlib.pyplot as plt"
   ]
  },
  {
   "cell_type": "markdown",
   "id": "cd66be87",
   "metadata": {},
   "source": [
    "Загрузим датасет breast_cancer:"
   ]
  },
  {
   "cell_type": "code",
   "execution_count": 82,
   "id": "52436dd0",
   "metadata": {},
   "outputs": [],
   "source": [
    "from sklearn.datasets import load_breast_cancer\n",
    "breast_cancer = load_breast_cancer()\n",
    "X = breast_cancer.data\n",
    "y = breast_cancer.target"
   ]
  },
  {
   "cell_type": "markdown",
   "id": "dce92f47",
   "metadata": {},
   "source": [
    "Разобъём на обучающую и тестовую выборки:"
   ]
  },
  {
   "cell_type": "code",
   "execution_count": 84,
   "id": "e978512d",
   "metadata": {},
   "outputs": [],
   "source": [
    "from sklearn.model_selection import train_test_split\n",
    "X_train, X_test, y_train, y_test = train_test_split(x, y, test_size=0.2, random_state=True)"
   ]
  },
  {
   "cell_type": "markdown",
   "id": "b9436a75",
   "metadata": {},
   "source": [
    "Построим модель логистической регрессии и обучим:"
   ]
  },
  {
   "cell_type": "code",
   "execution_count": 85,
   "id": "ba7a8069",
   "metadata": {},
   "outputs": [
    {
     "data": {
      "text/plain": [
       "LogisticRegression(solver='liblinear')"
      ]
     },
     "execution_count": 85,
     "metadata": {},
     "output_type": "execute_result"
    }
   ],
   "source": [
    "from sklearn.linear_model import LogisticRegression\n",
    "model_lr = LogisticRegression(solver=\"liblinear\")\n",
    "model_lr.fit(X_train, y_train)"
   ]
  },
  {
   "cell_type": "markdown",
   "id": "ca6dea01",
   "metadata": {},
   "source": [
    "Сделаем предсказание:"
   ]
  },
  {
   "cell_type": "code",
   "execution_count": 86,
   "id": "ed72ea79",
   "metadata": {},
   "outputs": [],
   "source": [
    "y_pred_lr = model_lr.predict(X_test)"
   ]
  },
  {
   "cell_type": "markdown",
   "id": "203064cc",
   "metadata": {},
   "source": [
    "Найдём метрику _accuracy_ (_точность_):"
   ]
  },
  {
   "cell_type": "code",
   "execution_count": 87,
   "id": "e080f0c4",
   "metadata": {},
   "outputs": [
    {
     "data": {
      "text/plain": [
       "0.8771929824561403"
      ]
     },
     "execution_count": 87,
     "metadata": {},
     "output_type": "execute_result"
    }
   ],
   "source": [
    "from sklearn.metrics import accuracy_score\n",
    "accuracy_score(y_test, y_pred_lr)"
   ]
  },
  {
   "cell_type": "markdown",
   "id": "ead75d1d",
   "metadata": {},
   "source": [
    "Также сделаем предсказание на тренировочном датасете и посчитаем точность на нём:"
   ]
  },
  {
   "cell_type": "code",
   "execution_count": 88,
   "id": "5cf0e4cc",
   "metadata": {},
   "outputs": [
    {
     "data": {
      "text/plain": [
       "0.9120879120879121"
      ]
     },
     "execution_count": 88,
     "metadata": {},
     "output_type": "execute_result"
    }
   ],
   "source": [
    "y_pred_lr_train = model_lr.predict(X_train)\n",
    "accuracy_score(y_train, y_pred_lr_train)"
   ]
  },
  {
   "cell_type": "markdown",
   "id": "81d11eac",
   "metadata": {},
   "source": [
    "Точность на тренировочной и обучающей выборках примерно одинаковая. Если точность на обучающей выборке оказывается сильно выше - это означает, что модель переобучилась.\n",
    "\n",
    "Aлгоритм логистической регрессии позволяет получить не только предсказанную метку класса, но и вероятность принадлежности этому классу. Эти вероятности можно получить с помощью метода `.predict_proba`:"
   ]
  },
  {
   "cell_type": "code",
   "execution_count": 89,
   "id": "d7c9a175",
   "metadata": {},
   "outputs": [
    {
     "data": {
      "text/plain": [
       "array([[0.4062823 , 0.5937177 ],\n",
       "       [0.16196991, 0.83803009],\n",
       "       [0.04594981, 0.95405019],\n",
       "       [0.98257199, 0.01742801],\n",
       "       [0.80858678, 0.19141322],\n",
       "       [0.89951745, 0.10048255],\n",
       "       [0.99810982, 0.00189018],\n",
       "       [0.99037996, 0.00962004],\n",
       "       [0.02460816, 0.97539184],\n",
       "       [0.12128428, 0.87871572]])"
      ]
     },
     "execution_count": 89,
     "metadata": {},
     "output_type": "execute_result"
    }
   ],
   "source": [
    "y_pred_lr_proba = model_lr.predict_proba(X_test)\n",
    "\n",
    "y_pred_lr_proba[:10]"
   ]
  },
  {
   "cell_type": "markdown",
   "id": "810fe395",
   "metadata": {},
   "source": [
    "В первом столбце полученного массива стоит вероятность каждого объекта принадлежать классу 0, а во втором - вероятность принадлежать классу 1. Можно заметить, что сумма значений каждой строки равна 1."
   ]
  },
  {
   "cell_type": "markdown",
   "id": "c9291900",
   "metadata": {},
   "source": [
    "Возьмём вероятности только для класса 1:"
   ]
  },
  {
   "cell_type": "code",
   "execution_count": 90,
   "id": "2e68f71f",
   "metadata": {},
   "outputs": [],
   "source": [
    "probs_lr = y_pred_lr_proba[:, 1]"
   ]
  },
  {
   "cell_type": "markdown",
   "id": "11c714ad",
   "metadata": {},
   "source": [
    "Рассчитаем ROC-кривую:"
   ]
  },
  {
   "cell_type": "code",
   "execution_count": 91,
   "id": "2871894d",
   "metadata": {},
   "outputs": [],
   "source": [
    "from sklearn.metrics import roc_curve, auc, f1_score\n",
    "from sklearn.metrics import roc_auc_score # тоже, что auc\n",
    "from matplotlib import pyplot as plt"
   ]
  },
  {
   "cell_type": "code",
   "execution_count": 92,
   "id": "27ee1787",
   "metadata": {},
   "outputs": [
    {
     "data": {
      "text/plain": [
       "0.9632936507936508"
      ]
     },
     "execution_count": 92,
     "metadata": {},
     "output_type": "execute_result"
    }
   ],
   "source": [
    "fpr_lr, tpr_lr, treshold_lr = roc_curve(y_test, probs_lr)\n",
    "roc_auc_lr = auc(fpr_lr, tpr_lr)\n",
    "roc_auc_lr"
   ]
  },
  {
   "cell_type": "markdown",
   "id": "837c9dab",
   "metadata": {},
   "source": [
    "Построим модель к-ближайших соседей и обучим, сделаем предсказание и найдём вероятности положительного класса:"
   ]
  },
  {
   "cell_type": "code",
   "execution_count": 96,
   "id": "5560cb52",
   "metadata": {},
   "outputs": [],
   "source": [
    "from sklearn.neighbors import KNeighborsClassifier\n",
    "model_k = KNeighborsClassifier(n_neighbors=3)\n",
    "model_k.fit(X_train, y_train)\n",
    "y_pred_k = model_k.predict(X_test)\n",
    "y_pred_k_proba = model_k.predict_proba(X_test)\n",
    "probs_k = y_pred_k_proba[:, 1]"
   ]
  },
  {
   "cell_type": "markdown",
   "id": "957f95f1",
   "metadata": {},
   "source": [
    "Рассчитаем ROC-кривую:"
   ]
  },
  {
   "cell_type": "code",
   "execution_count": 97,
   "id": "082acb78",
   "metadata": {},
   "outputs": [
    {
     "data": {
      "text/plain": [
       "0.8779761904761905"
      ]
     },
     "execution_count": 97,
     "metadata": {},
     "output_type": "execute_result"
    }
   ],
   "source": [
    "fpr_k, tpr_k, treshold_k = roc_curve(y_test, probs_k)\n",
    "roc_auc_k = auc(fpr_k, tpr_k)\n",
    "roc_auc_k"
   ]
  },
  {
   "cell_type": "markdown",
   "id": "f38c9b00",
   "metadata": {},
   "source": [
    "Построим ROC-кривые:"
   ]
  },
  {
   "cell_type": "code",
   "execution_count": 98,
   "id": "0d82a0f7",
   "metadata": {},
   "outputs": [
    {
     "data": {
      "image/png": "[encoded data removed]",
      "text/plain": [
       "<Figure size 432x288 with 1 Axes>"
      ]
     },
     "metadata": {
      "needs_background": "light"
     },
     "output_type": "display_data"
    }
   ],
   "source": [
    "plt.plot(fpr_lr, tpr_lr, color='darkorange',\n",
    "         label='ROC кривая (area = %0.6f)' % roc_auc_lr)\n",
    "plt.plot(fpr_k, tpr_k, color='green',\n",
    "         label='ROC кривая (area = %0.6f)' % roc_auc_k)\n",
    "plt.plot([0, 1], [0, 1], color='navy', linestyle='--')\n",
    "plt.xlim([-0.05, 1.0])\n",
    "plt.ylim([0.0, 1.05])\n",
    "plt.xlabel('False Positive Rate')\n",
    "plt.ylabel('True Positive Rate')\n",
    "plt.title('Пример ROC-кривой')\n",
    "plt.legend(loc=\"lower right\")\n",
    "plt.show()"
   ]
  },
  {
   "cell_type": "markdown",
   "id": "de8559ab",
   "metadata": {},
   "source": [
    "Модель логистической регрессии здесь предпочтительнее."
   ]
  }
 ],
 "metadata": {
  "kernelspec": {
   "display_name": "Python 3 (ipykernel)",
   "language": "python",
   "name": "python3"
  },
  "language_info": {
   "codemirror_mode": {
    "name": "ipython",
    "version": 3
   },
   "file_extension": ".py",
   "mimetype": "text/x-python",
   "name": "python",
   "nbconvert_exporter": "python",
   "pygments_lexer": "ipython3",
   "version": "3.10.0"
  }
 },
 "nbformat": 4,
 "nbformat_minor": 5
}
